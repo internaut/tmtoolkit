{
 "cells": [
  {
   "cell_type": "markdown",
   "metadata": {},
   "source": [
    "# Topic modeling\n",
    "\n",
    "The [topicmod module](api.rst#module-tmtoolkit.topicmod) offers a wide range of tools to facilitate [topic modeling](https://cacm.acm.org/magazines/2012/4/147361-probabilistic-topic-models/fulltext) with Python. This chapter will introduce the following techniques: \n",
    "\n",
    "- [parallel topic model computation for different copora and/or parameter sets](#Computing-topic-models-in-parallel)\n",
    "- [evaluation of topic models (including finding a good set of hyperparameters for the given dataset)](#Evaluation-of-topic-models)\n",
    "- [common statistics and tools for topic models](#Common-statistics-and-tools-for-topic-models)\n",
    "- [export of topic models and summaries to different file formats](#Displaying-and-exporting-topic-modeling-results)\n",
    "- [visualization of topic models](#Visualizing-topic-models)\n",
    "\n",
    "A quick note on terminology: So far, we spoke about *tokens* or sometimes *terms* when we meant the individual elements that our documents consist of after we applied text preprocessing such as *tokenization* to the raw input text strings. These tokens can be lexicographically correct words, but they don't have to, e.g. when you applied stemming you might have tokens like \"argu\" in your vocabulary. There may also be numbers or punctuation symbols in your vocabulary. For those topic modeling techniques that tmtoolkit supports, the results are always two probability distributions: a *document-topic distribution* and a *topic-word distribution*. Since the latter is called topic-*word* and not topic-*token* or *-term* distribution, we will also use the term *word* when we mean any token from the corpus' vocabulary.\n",
    "\n",
    "\n",
    "## An example document-term matrix\n",
    "\n",
    "tmtoolkit supports topic models that are computed from document-term matrices (DTMs). Just as in the previous chapter, we will at first generate a DTM. However, this time the sample will be bigger:"
   ]
  },
  {
   "cell_type": "code",
   "execution_count": 1,
   "metadata": {
    "execution": {
     "iopub.execute_input": "2023-03-31T14:02:21.091126Z",
     "iopub.status.busy": "2023-03-31T14:02:21.090841Z",
     "iopub.status.idle": "2023-03-31T14:02:33.552325Z",
     "shell.execute_reply": "2023-03-31T14:02:33.551755Z"
    },
    "pycharm": {
     "is_executing": false
    }
   },
   "outputs": [
    {
     "name": "stderr",
     "output_type": "stream",
     "text": [
      "2023-03-31 16:02:24,171:INFO:tmtoolkit:creating Corpus instance with no documents\n",
      "2023-03-31 16:02:24,172:INFO:tmtoolkit:using serial processing\n",
      "2023-03-31 16:02:24,542:INFO:tmtoolkit:sampling 100 documents(s) out of 3824\n",
      "2023-03-31 16:02:24,543:INFO:tmtoolkit:adding text from 100 documents(s)\n",
      "2023-03-31 16:02:24,544:INFO:tmtoolkit:running NLP pipeline on 100 documents\n",
      "2023-03-31 16:02:33,548:INFO:tmtoolkit:generating document texts\n"
     ]
    },
    {
     "name": "stdout",
     "output_type": "stream",
     "text": [
      "Corpus with 100 documents in English\n",
      "> NewsArticles-113 (1071 tokens): Use talk not tech to tame your children 's online ...\n",
      "> NewsArticles-1141 (914 tokens): Aslef members reject Southern rail deal    Aslef m...\n",
      "> NewsArticles-1048 (476 tokens): Espirito Santo police return to work after murder ...\n",
      "> NewsArticles-1090 (1291 tokens): Martin challenges Fitzgerald over Tusla informatio...\n",
      "> NewsArticles-104 (31 tokens): Your pictures : Broken resolutions    Each week , ...\n",
      "> NewsArticles-1126 (163 tokens): This Makeup Palette Has A Game - Changing Little S...\n",
      "> NewsArticles-1043 (270 tokens): Burhan Ozbilici wins 2017 World Press Photo compet...\n",
      "> NewsArticles-1137 (226 tokens): These Cool New ' Vertical Forest ' Skyscrapers Are...\n",
      "> NewsArticles-1036 (835 tokens): Amnesty accuses Tunisian authorities of torture ah...\n",
      "> NewsArticles-1032 (653 tokens): Germany 's right - wing AfD seeks to expel state l...\n",
      "(and 90 more documents)\n",
      "total number of tokens: 66637 / vocabulary size: 9469\n"
     ]
    }
   ],
   "source": [
    "import random\n",
    "random.seed(20191120)   # to make the sampling reproducible\n",
    "\n",
    "import numpy as np\n",
    "np.set_printoptions(precision=5)\n",
    "\n",
    "from tmtoolkit.utils import enable_logging\n",
    "enable_logging()\n",
    "\n",
    "from tmtoolkit.corpus import Corpus, print_summary\n",
    "\n",
    "\n",
    "corp = Corpus.from_builtin_corpus('en-NewsArticles', sample=100)\n",
    "print_summary(corp)"
   ]
  },
  {
   "cell_type": "markdown",
   "metadata": {},
   "source": [
    "We will also now generate two DTMs, because we later want to show how you can compute topic models for two different DTMs in parallel. At first, we to some general preprocessing."
   ]
  },
  {
   "cell_type": "code",
   "execution_count": 2,
   "metadata": {
    "execution": {
     "iopub.execute_input": "2023-03-31T14:02:33.554618Z",
     "iopub.status.busy": "2023-03-31T14:02:33.554434Z",
     "iopub.status.idle": "2023-03-31T14:02:33.636736Z",
     "shell.execute_reply": "2023-03-31T14:02:33.636145Z"
    },
    "pycharm": {
     "is_executing": false
    }
   },
   "outputs": [
    {
     "name": "stderr",
     "output_type": "stream",
     "text": [
      "2023-03-31 16:02:33,590:INFO:tmtoolkit:replacing 2190 token hashes\n",
      "2023-03-31 16:02:33,621:INFO:tmtoolkit:replacing 504 token hashes\n",
      "2023-03-31 16:02:33,633:INFO:tmtoolkit:generating document texts\n"
     ]
    },
    {
     "name": "stdout",
     "output_type": "stream",
     "text": [
      "Corpus with 100 documents in English\n",
      "> NewsArticles-113 (1071 tokens): use talk not tech to tame your child s online habi...\n",
      "> NewsArticles-1141 (914 tokens): aslef member reject southern rail deal  aslef memb...\n",
      "> NewsArticles-1048 (476 tokens): espirito santo police return to work after murder ...\n",
      "> NewsArticles-1090 (1291 tokens): martin challenge fitzgerald over tusla information...\n",
      "> NewsArticles-104 (31 tokens): your picture  break resolution  each week  we publ...\n",
      "> NewsArticles-1126 (163 tokens): this makeup palette have a game  change little sec...\n",
      "> NewsArticles-1043 (270 tokens): burhan ozbilici win 2017 world press photo competi...\n",
      "> NewsArticles-1137 (226 tokens): these cool new  vertical forest  skyscraper be des...\n",
      "> NewsArticles-1036 (835 tokens): amnesty accuse tunisian authority of torture ahead...\n",
      "> NewsArticles-1032 (653 tokens): germany s right  wing afd seek to expel state lead...\n",
      "(and 90 more documents)\n",
      "total number of tokens: 66637 / vocabulary size: 6765\n"
     ]
    }
   ],
   "source": [
    "from tmtoolkit.corpus import lemmatize, to_lowercase, remove_punctuation\n",
    "\n",
    "lemmatize(corp)\n",
    "to_lowercase(corp)\n",
    "remove_punctuation(corp)\n",
    "\n",
    "print_summary(corp)"
   ]
  },
  {
   "cell_type": "markdown",
   "metadata": {},
   "source": [
    "Check if there are a few odd, unprintable characters in any tokens:"
   ]
  },
  {
   "cell_type": "code",
   "execution_count": 3,
   "metadata": {
    "execution": {
     "iopub.execute_input": "2023-03-31T14:02:33.639055Z",
     "iopub.status.busy": "2023-03-31T14:02:33.638872Z",
     "iopub.status.idle": "2023-03-31T14:02:33.651055Z",
     "shell.execute_reply": "2023-03-31T14:02:33.650549Z"
    }
   },
   "outputs": [
    {
     "data": {
      "text/plain": [
       "{('\\xa0', b'\\xc2\\xa0'),\n",
       " ('à', b'\\xc3\\xa0'),\n",
       " ('ó', b'\\xc3\\xb3'),\n",
       " ('™', b'\\xe2\\x84\\xa2'),\n",
       " ('�', b'\\xef\\xbf\\xbd')}"
      ]
     },
     "execution_count": 3,
     "metadata": {},
     "output_type": "execute_result"
    }
   ],
   "source": [
    "import string\n",
    "from tmtoolkit.corpus import corpus_unique_chars\n",
    "\n",
    "{(c, c.encode('utf-8')) for c in corpus_unique_chars(corp) if c not in string.printable}"
   ]
  },
  {
   "cell_type": "markdown",
   "metadata": {},
   "source": [
    "Remove all of them but \"à\" and \"ó\""
   ]
  },
  {
   "cell_type": "code",
   "execution_count": 4,
   "metadata": {
    "execution": {
     "iopub.execute_input": "2023-03-31T14:02:33.653309Z",
     "iopub.status.busy": "2023-03-31T14:02:33.653133Z",
     "iopub.status.idle": "2023-03-31T14:02:33.686294Z",
     "shell.execute_reply": "2023-03-31T14:02:33.685742Z"
    }
   },
   "outputs": [
    {
     "name": "stderr",
     "output_type": "stream",
     "text": [
      "2023-03-31 16:02:33,668:INFO:tmtoolkit:replacing 3 token hashes\n"
     ]
    },
    {
     "data": {
      "text/plain": [
       "{('à', b'\\xc3\\xa0'), ('ó', b'\\xc3\\xb3')}"
      ]
     },
     "execution_count": 4,
     "metadata": {},
     "output_type": "execute_result"
    }
   ],
   "source": [
    "from tmtoolkit.corpus import remove_chars\n",
    "\n",
    "unprintable_bytes = {b'\\xc2\\xa0', b'\\xe2\\x84\\xa2', b'\\xef\\xbf\\xbd'}\n",
    "unprintable_chars = set(map(lambda b: b.decode('utf-8'), unprintable_bytes))\n",
    "remove_chars(corp, unprintable_chars)\n",
    "\n",
    "# check again\n",
    "{(c, c.encode('utf-8')) for c in corpus_unique_chars(corp) if c not in string.printable}"
   ]
  },
  {
   "cell_type": "markdown",
   "metadata": {},
   "source": [
    "Now we at first apply more \"relaxed\" cleaning:"
   ]
  },
  {
   "cell_type": "code",
   "execution_count": 5,
   "metadata": {
    "execution": {
     "iopub.execute_input": "2023-03-31T14:02:33.688670Z",
     "iopub.status.busy": "2023-03-31T14:02:33.688483Z",
     "iopub.status.idle": "2023-03-31T14:02:33.965085Z",
     "shell.execute_reply": "2023-03-31T14:02:33.964523Z"
    },
    "pycharm": {
     "is_executing": false
    }
   },
   "outputs": [
    {
     "name": "stderr",
     "output_type": "stream",
     "text": [
      "2023-03-31 16:02:33,715:INFO:tmtoolkit:creating Corpus instance with no documents\n",
      "2023-03-31 16:02:33,716:INFO:tmtoolkit:using serial processing\n",
      "2023-03-31 16:02:33,805:INFO:tmtoolkit:filtered tokens by mask: num. tokens was 66637 and is now 30415\n",
      "2023-03-31 16:02:33,872:INFO:tmtoolkit:filtered tokens by mask: num. tokens was 30415 and is now 30415\n",
      "2023-03-31 16:02:33,939:INFO:tmtoolkit:filtered tokens by mask: num. tokens was 30415 and is now 16443\n",
      "2023-03-31 16:02:33,961:INFO:tmtoolkit:generating document texts\n"
     ]
    },
    {
     "name": "stdout",
     "output_type": "stream",
     "text": [
      "Corpus with 100 documents in English\n",
      "> NewsArticles-113 (259 tokens): use talk child online like parent house like happy...\n",
      "> NewsArticles-1141 (249 tokens): member reject southern deal member reject deal sou...\n",
      "> NewsArticles-1048 (140 tokens): police return work murder officer return work stat...\n",
      "> NewsArticles-1090 (261 tokens): challenge information leader claim minister justic...\n",
      "> NewsArticles-104 (6 tokens): break week publish set theme week\n",
      "> NewsArticles-1126 (19 tokens): game change little product reveal feature game new...\n",
      "> NewsArticles-1043 (64 tokens): win 2017 world press win 2017 world press image ru...\n",
      "> NewsArticles-1137 (43 tokens): new design help fight world need dont china kind d...\n",
      "> NewsArticles-1036 (240 tokens): accuse authority ahead key talk germany right grou...\n",
      "> NewsArticles-1032 (158 tokens): germany right seek state leader leader germany ask...\n",
      "(and 90 more documents)\n",
      "total number of tokens: 16443 / vocabulary size: 787\n"
     ]
    }
   ],
   "source": [
    "from copy import copy\n",
    "from tmtoolkit.corpus import filter_clean_tokens, remove_common_tokens, remove_uncommon_tokens\n",
    "\n",
    "corp_bigger = copy(corp)\n",
    "\n",
    "filter_clean_tokens(corp_bigger, remove_shorter_than=2)\n",
    "remove_common_tokens(corp_bigger, df_threshold=0.85)\n",
    "remove_uncommon_tokens(corp_bigger, df_threshold=0.05)\n",
    "\n",
    "print_summary(corp_bigger)"
   ]
  },
  {
   "cell_type": "markdown",
   "metadata": {},
   "source": [
    "Another copy of `corp` will apply more aggressive cleaning and hence will result in a smaller vocabulary size:"
   ]
  },
  {
   "cell_type": "code",
   "execution_count": 6,
   "metadata": {
    "execution": {
     "iopub.execute_input": "2023-03-31T14:02:33.967441Z",
     "iopub.status.busy": "2023-03-31T14:02:33.967261Z",
     "iopub.status.idle": "2023-03-31T14:02:34.245398Z",
     "shell.execute_reply": "2023-03-31T14:02:34.244814Z"
    },
    "pycharm": {
     "is_executing": false
    }
   },
   "outputs": [
    {
     "name": "stderr",
     "output_type": "stream",
     "text": [
      "2023-03-31 16:02:33,993:INFO:tmtoolkit:creating Corpus instance with no documents\n",
      "2023-03-31 16:02:33,994:INFO:tmtoolkit:using serial processing\n",
      "2023-03-31 16:02:34,086:INFO:tmtoolkit:filtered tokens by mask: num. tokens was 66637 and is now 18988\n",
      "2023-03-31 16:02:34,135:INFO:tmtoolkit:filtered tokens by mask: num. tokens was 18988 and is now 18538\n",
      "2023-03-31 16:02:34,183:INFO:tmtoolkit:filtered tokens by mask: num. tokens was 18538 and is now 18538\n",
      "2023-03-31 16:02:34,229:INFO:tmtoolkit:filtered tokens by mask: num. tokens was 18538 and is now 5058\n",
      "2023-03-31 16:02:34,242:INFO:tmtoolkit:generating document texts\n"
     ]
    },
    {
     "name": "stdout",
     "output_type": "stream",
     "text": [
      "Corpus with 100 documents in English\n",
      "> NewsArticles-113 (69 tokens): child house service house service month time child...\n",
      "> NewsArticles-1141 (54 tokens): member member member member secretary decision mem...\n",
      "> NewsArticles-1048 (59 tokens): police work officer work state people day police o...\n",
      "> NewsArticles-1090 (103 tokens): information leader minister child prime time week ...\n",
      "> NewsArticles-104 (2 tokens): week week\n",
      "> NewsArticles-1126 (3 tokens): product way twitter\n",
      "> NewsArticles-1043 (18 tokens): world press world press world press russia year ne...\n",
      "> NewsArticles-1137 (12 tokens): new world china press day area china house office ...\n",
      "> NewsArticles-1036 (93 tokens): authority germany right group security official mi...\n",
      "> NewsArticles-1032 (58 tokens): germany state leader leader germany state party le...\n",
      "(and 90 more documents)\n",
      "total number of tokens: 5058 / vocabulary size: 141\n"
     ]
    }
   ],
   "source": [
    "from tmtoolkit.corpus import filter_for_pos\n",
    "corp_smaller = copy(corp)\n",
    "\n",
    "filter_for_pos(corp_smaller, 'N')\n",
    "filter_clean_tokens(corp_smaller, remove_shorter_than=2)\n",
    "remove_common_tokens(corp_smaller, df_threshold=0.8)\n",
    "remove_uncommon_tokens(corp_smaller, df_threshold=0.1)\n",
    "\n",
    "del corp   # remove original corpus\n",
    "\n",
    "print_summary(corp_smaller)"
   ]
  },
  {
   "cell_type": "markdown",
   "metadata": {},
   "source": [
    "We will create the document labels, vocabulary arrays and DTMs for both versions now:"
   ]
  },
  {
   "cell_type": "code",
   "execution_count": 7,
   "metadata": {
    "execution": {
     "iopub.execute_input": "2023-03-31T14:02:34.247797Z",
     "iopub.status.busy": "2023-03-31T14:02:34.247620Z",
     "iopub.status.idle": "2023-03-31T14:02:34.300080Z",
     "shell.execute_reply": "2023-03-31T14:02:34.299522Z"
    },
    "pycharm": {
     "is_executing": false
    }
   },
   "outputs": [
    {
     "name": "stderr",
     "output_type": "stream",
     "text": [
      "2023-03-31 16:02:34,255:INFO:tmtoolkit:generating sparse DTM with 100 documents and vocab size 787\n",
      "2023-03-31 16:02:34,285:INFO:tmtoolkit:generating sparse DTM with 100 documents and vocab size 141\n"
     ]
    },
    {
     "data": {
      "text/plain": [
       "(<100x787 sparse matrix of type '<class 'numpy.int32'>'\n",
       " \twith 9242 stored elements in Compressed Sparse Row format>,\n",
       " <100x141 sparse matrix of type '<class 'numpy.int32'>'\n",
       " \twith 2375 stored elements in Compressed Sparse Row format>)"
      ]
     },
     "execution_count": 7,
     "metadata": {},
     "output_type": "execute_result"
    }
   ],
   "source": [
    "from tmtoolkit.corpus import dtm\n",
    "\n",
    "dtm_bg, doc_labels_bg, vocab_bg = dtm(corp_bigger, return_doc_labels=True, return_vocab=True)\n",
    "dtm_sm, doc_labels_sm, vocab_sm = dtm(corp_smaller, return_doc_labels=True, return_vocab=True)\n",
    "\n",
    "del corp_bigger, corp_smaller  # don't need these any more\n",
    "\n",
    "dtm_bg, dtm_sm"
   ]
  },
  {
   "cell_type": "markdown",
   "metadata": {},
   "source": [
    "We now have two sparse DTMs `dtm_bg` (from the bigger preprocessed data) and `dtm_sm` (from the smaller preprocessed data), a list of document labels `doc_labels` that represent the rows of both DTMs and vocabulary arrays `vocab_bg` and `vocab_sm` that represent the columns of the respective DTMs. We will use this data for the remainder of the chapter."
   ]
  },
  {
   "cell_type": "markdown",
   "metadata": {},
   "source": [
    "## Computing topic models in parallel\n",
    "\n",
    "tmtoolkit allows to compute topic models in parallel, making use of all processor cores in your machine. Parallelization can be done per input DTM, per hyperparameter set and as combination of both. Hyperparameters control the number of topics and their \"granularity\". We will later have a look at the role of hyperparameters and how to find an optimal combination for a given dataset with the means of topic model evaluation.\n",
    "\n",
    "For now, we will concentrate on computing the topic models for both of our two DTMs in parallel. tmtoolkit supports three very popular packages for topic modeling, which provide the work of actually computing the model from the input matrix. They can all be accessed in separate sub-modules of the [topicmod module](api.rst#module-tmtoolkit.topicmod):\n",
    "\n",
    "- [topicmod.tm_lda](api.rst#module-tmtoolkit.topicmod.tm_lda) provides an interface for the [lda](https://lda.readthedocs.io/en/latest/) package\n",
    "- [topicmod.tm_sklearn](api.rst#module-tmtoolkit.topicmod.tm_sklearn) provides an interface for the [scikit-learn](http://scikit-learn.org/stable/modules/generated/sklearn.decomposition.LatentDirichletAllocation.html) package\n",
    "- [topicmod.tm_gensim](api.rst#module-tmtoolkit.topicmod.tm_gensim) provides an interface for the [Gensim](https://radimrehurek.com/gensim/) package\n",
    "\n",
    "Each of these sub-modules offer at least two functions that work with the respective package: `compute_models_parallel` for general parallel model computation and `evaluate_topic_models` for parallel model computation and evaluation (discussed later). For now, we want to compute two models in parallel with the [lda](https://lda.readthedocs.io/en/latest/) package and hence use [compute_models_parallel](api.rst#tmtoolkit.topicmod.tm_lda.compute_models_parallel) from [topicmod.tm_lda](api.rst#module-tmtoolkit.topicmod.tm_lda).\n",
    "\n",
    "We need to provide two things for this function: First, the input matrices as a dict that maps labels to the respective DTMs. Second, hyperparameters to use for the model computations. Note that each topic modeling package has different hyperparameters and you should refer to their documentation in order to find out which hyperparameters you need to provide. For lda, we set the number of topics `n_topics` to 10 and the number of iterations for the Gibbs sampling process `n_iter` to 1000. We always want to use the same hyperparameters, so we pass these as `constant_parameters`. If we wanted to create models for a whole range of parameters, e.g. for different numbers of topics, we could provide `varying_parameters`. We will check this out later when we evaluate topic models.\n",
    "\n",
    "<div class=\"alert alert-info\">\n",
    "    \n",
    "**Note**\n",
    "\n",
    "For proper topic modeling, we shouldn't just set the number of topics, but try to find it out via evaluation methods. We should also check if the algorithm converged using the provided likelihood estimations. We will do both later on, but now focus on `compute_models_parallel`.\n",
    "\n",
    "</div>"
   ]
  },
  {
   "cell_type": "code",
   "execution_count": 8,
   "metadata": {
    "execution": {
     "iopub.execute_input": "2023-03-31T14:02:34.302550Z",
     "iopub.status.busy": "2023-03-31T14:02:34.302347Z",
     "iopub.status.idle": "2023-03-31T14:02:37.217595Z",
     "shell.execute_reply": "2023-03-31T14:02:37.216976Z"
    },
    "pycharm": {
     "is_executing": false
    }
   },
   "outputs": [
    {
     "data": {
      "text/plain": [
       "defaultdict(list,\n",
       "            {'smaller': [({'n_topics': 10,\n",
       "                'n_iter': 1000,\n",
       "                'random_state': 20191122},\n",
       "               <lda.lda.LDA at 0x7fafabbfbb20>)],\n",
       "             'bigger': [({'n_topics': 10,\n",
       "                'n_iter': 1000,\n",
       "                'random_state': 20191122},\n",
       "               <lda.lda.LDA at 0x7fafabbfb130>)]})"
      ]
     },
     "execution_count": 8,
     "metadata": {},
     "output_type": "execute_result"
    }
   ],
   "source": [
    "import logging\n",
    "import warnings\n",
    "from tmtoolkit.utils import disable_logging\n",
    "from tmtoolkit.topicmod.tm_lda import compute_models_parallel\n",
    "\n",
    "# disable tmtoolkit logging for now (too much output)\n",
    "disable_logging()\n",
    "\n",
    "# suppress the \"INFO\" messages and warnings from lda\n",
    "logger = logging.getLogger('lda')\n",
    "logger.addHandler(logging.NullHandler())\n",
    "logger.propagate = False\n",
    "\n",
    "warnings.filterwarnings('ignore')\n",
    "\n",
    "# set data to use\n",
    "dtms = {\n",
    "    'bigger': dtm_bg,\n",
    "    'smaller': dtm_sm\n",
    "}\n",
    "\n",
    "# and fixed hyperparameters\n",
    "lda_params = {\n",
    "    'n_topics': 10,\n",
    "    'n_iter': 1000,\n",
    "    'random_state': 20191122  # to make results reproducible\n",
    "}\n",
    "\n",
    "models = compute_models_parallel(dtms, constant_parameters=lda_params)\n",
    "models"
   ]
  },
  {
   "cell_type": "markdown",
   "metadata": {},
   "source": [
    "As expected, two models were created. These can be accessed via the labels that we used in the `dtms` dict:"
   ]
  },
  {
   "cell_type": "code",
   "execution_count": 9,
   "metadata": {
    "execution": {
     "iopub.execute_input": "2023-03-31T14:02:37.219986Z",
     "iopub.status.busy": "2023-03-31T14:02:37.219795Z",
     "iopub.status.idle": "2023-03-31T14:02:37.223593Z",
     "shell.execute_reply": "2023-03-31T14:02:37.223121Z"
    },
    "pycharm": {
     "is_executing": false
    }
   },
   "outputs": [
    {
     "data": {
      "text/plain": [
       "[({'n_topics': 10, 'n_iter': 1000, 'random_state': 20191122},\n",
       "  <lda.lda.LDA at 0x7fafabbfbb20>)]"
      ]
     },
     "execution_count": 9,
     "metadata": {},
     "output_type": "execute_result"
    }
   ],
   "source": [
    "models['smaller']"
   ]
  },
  {
   "cell_type": "markdown",
   "metadata": {},
   "source": [
    "We can see that for each input DTM, we get a list of 2-tuples. The first element in each tuple is a dict that represents the hyperparameters that were used to compute the model, the second element is the actual topic model (the `<lda.lda.LDA ...>` object). This structure looks a bit complex, but this is because it also supports varying parameters. Since we only have one fixed set of hyperparameters per DTM, we only have a list of length 1 for each DTM.\n",
    "\n",
    "We will now access the models and print the top words per topic by using [print_ldamodel_topic_words](api.rst#tmtoolkit.topicmod.model_io.print_ldamodel_topic_words):"
   ]
  },
  {
   "cell_type": "code",
   "execution_count": 10,
   "metadata": {
    "execution": {
     "iopub.execute_input": "2023-03-31T14:02:37.225759Z",
     "iopub.status.busy": "2023-03-31T14:02:37.225585Z",
     "iopub.status.idle": "2023-03-31T14:02:37.234186Z",
     "shell.execute_reply": "2023-03-31T14:02:37.233634Z"
    },
    "pycharm": {
     "is_executing": false
    }
   },
   "outputs": [
    {
     "name": "stdout",
     "output_type": "stream",
     "text": [
      "topic_1\n",
      "> #1. year (0.189625)\n",
      "> #2. time (0.119471)\n",
      "> #3. percent (0.094822)\n",
      "topic_2\n",
      "> #1. people (0.160169)\n",
      "> #2. country (0.148479)\n",
      "> #3. world (0.079506)\n",
      "topic_3\n",
      "> #1. trump (0.202982)\n",
      "> #2. house (0.109307)\n",
      "> #3. president (0.107355)\n",
      "topic_4\n",
      "> #1. attack (0.140476)\n",
      "> #2. force (0.121750)\n",
      "> #3. al (0.118629)\n",
      "topic_5\n",
      "> #1. police (0.133380)\n",
      "> #2. report (0.133380)\n",
      "> #3. man (0.107978)\n",
      "topic_6\n",
      "> #1. party (0.077738)\n",
      "> #2. election (0.077738)\n",
      "> #3. leader (0.076523)\n",
      "topic_7\n",
      "> #1. china (0.210352)\n",
      "> #2. company (0.123477)\n",
      "> #3. market (0.089184)\n",
      "topic_8\n",
      "> #1. child (0.084764)\n",
      "> #2. day (0.082793)\n",
      "> #3. woman (0.065056)\n",
      "topic_9\n",
      "> #1. year (0.158215)\n",
      "> #2. germany (0.152011)\n",
      "> #3. day (0.096182)\n",
      "topic_10\n",
      "> #1. mr (0.197710)\n",
      "> #2. statement (0.102280)\n",
      "> #3. meeting (0.057973)\n"
     ]
    }
   ],
   "source": [
    "from tmtoolkit.topicmod.model_io import print_ldamodel_topic_words\n",
    "\n",
    "model_sm = models['smaller'][0][1]\n",
    "print_ldamodel_topic_words(model_sm.topic_word_, vocab_sm, top_n=3)"
   ]
  },
  {
   "cell_type": "code",
   "execution_count": 11,
   "metadata": {
    "execution": {
     "iopub.execute_input": "2023-03-31T14:02:37.236261Z",
     "iopub.status.busy": "2023-03-31T14:02:37.236087Z",
     "iopub.status.idle": "2023-03-31T14:02:37.243890Z",
     "shell.execute_reply": "2023-03-31T14:02:37.243342Z"
    },
    "pycharm": {
     "is_executing": false
    }
   },
   "outputs": [
    {
     "name": "stdout",
     "output_type": "stream",
     "text": [
      "topic_1\n",
      "> #1. election (0.062948)\n",
      "> #2. party (0.061965)\n",
      "> #3. vote (0.049180)\n",
      "topic_2\n",
      "> #1. say (0.063673)\n",
      "> #2. report (0.049167)\n",
      "> #3. russian (0.045944)\n",
      "topic_3\n",
      "> #1. people (0.071155)\n",
      "> #2. country (0.033823)\n",
      "> #3. million (0.020647)\n",
      "topic_4\n",
      "> #1. police (0.047168)\n",
      "> #2. attack (0.038185)\n",
      "> #3. officer (0.032945)\n",
      "topic_5\n",
      "> #1. year (0.040222)\n",
      "> #2. time (0.030168)\n",
      "> #3. tell (0.020113)\n",
      "topic_6\n",
      "> #1. mr (0.054837)\n",
      "> #2. investigation (0.027423)\n",
      "> #3. agency (0.025532)\n",
      "topic_7\n",
      "> #1. say (0.188230)\n",
      "> #2. take (0.018915)\n",
      "> #3. report (0.018475)\n",
      "topic_8\n",
      "> #1. world (0.030075)\n",
      "> #2. country (0.022785)\n",
      "> #3. high (0.020507)\n",
      "topic_9\n",
      "> #1. china (0.071002)\n",
      "> #2. company (0.061742)\n",
      "> #3. new (0.050167)\n",
      "topic_10\n",
      "> #1. trump (0.084490)\n",
      "> #2. house (0.045870)\n",
      "> #3. new (0.038628)\n"
     ]
    }
   ],
   "source": [
    "model_bg = models['bigger'][0][1]\n",
    "print_ldamodel_topic_words(model_bg.topic_word_, vocab_bg, top_n=3)"
   ]
  },
  {
   "cell_type": "markdown",
   "metadata": {},
   "source": [
    "We could also generate models from different parameters in parallel, either for a single DTM or several. In the following example we generate models for a series of four different values for the `alpha` parameter. The parameters `n_iter` and `n_topics` are held constant across all models."
   ]
  },
  {
   "cell_type": "code",
   "execution_count": 12,
   "metadata": {
    "execution": {
     "iopub.execute_input": "2023-03-31T14:02:37.246055Z",
     "iopub.status.busy": "2023-03-31T14:02:37.245880Z",
     "iopub.status.idle": "2023-03-31T14:02:38.831166Z",
     "shell.execute_reply": "2023-03-31T14:02:38.830291Z"
    },
    "pycharm": {
     "is_executing": false
    }
   },
   "outputs": [
    {
     "data": {
      "text/plain": [
       "[({'alpha': 0.001, 'n_iter': 500, 'n_topics': 10, 'random_state': 20191122},\n",
       "  <lda.lda.LDA at 0x7fafabbf9450>),\n",
       " ({'alpha': 0.1, 'n_iter': 500, 'n_topics': 10, 'random_state': 20191122},\n",
       "  <lda.lda.LDA at 0x7fafabb62d10>),\n",
       " ({'alpha': 0.0001, 'n_iter': 500, 'n_topics': 10, 'random_state': 20191122},\n",
       "  <lda.lda.LDA at 0x7fafabb62a40>),\n",
       " ({'alpha': 0.01, 'n_iter': 500, 'n_topics': 10, 'random_state': 20191122},\n",
       "  <lda.lda.LDA at 0x7fafabb62bf0>)]"
      ]
     },
     "execution_count": 12,
     "metadata": {},
     "output_type": "execute_result"
    }
   ],
   "source": [
    "var_params = [{'alpha': 1/(10**x)} for x in range(1, 5)]\n",
    "\n",
    "const_params = {\n",
    "    'n_iter': 500,\n",
    "    'n_topics': 10,\n",
    "    'random_state': 20191122  # to make results reproducible\n",
    "}\n",
    "\n",
    "models = compute_models_parallel(dtm_sm,  # smaller DTM\n",
    "                                 varying_parameters=var_params,\n",
    "                                 constant_parameters=const_params)\n",
    "models"
   ]
  },
  {
   "cell_type": "markdown",
   "metadata": {},
   "source": [
    "We could compare these models now, e.g. by investigating their topics.\n",
    "\n",
    "A more systematic approach on comparing and evaluating topic models, also in order to find a good set of hyperparameters for a given dataset, will be presented in the next section.\n",
    "\n",
    "## Evaluation of topic models\n",
    "\n",
    "The package tmtoolkit provides several metrics for comparing and evaluating topic models. This can be used for finding a good hyperparameter set for a given dataset, e.g. a good combination of the number of topics and concentration paramaters (often called alpha and beta in literature). For some background on hyperparameters in topic modeling, see [this blog post](https://datascience.blog.wzb.eu/2017/11/09/topic-modeling-evaluation-in-python-with-tmtoolkit/).\n",
    "\n",
    "For each candidate hyperparameter set, a model can be generated and evaluated in parallel. We will do this now for the \"big\" DTM `dtm_bg`. Our candidate values for the number of topics `k` range between 20 and 120, with steps of 10. We make the concentration parameter for a prior over the document-specific topic distributions, alpha, depending on `k` as `1/k`:"
   ]
  },
  {
   "cell_type": "code",
   "execution_count": 13,
   "metadata": {
    "execution": {
     "iopub.execute_input": "2023-03-31T14:02:38.834951Z",
     "iopub.status.busy": "2023-03-31T14:02:38.834640Z",
     "iopub.status.idle": "2023-03-31T14:02:38.841674Z",
     "shell.execute_reply": "2023-03-31T14:02:38.840727Z"
    },
    "pycharm": {
     "is_executing": false
    }
   },
   "outputs": [
    {
     "data": {
      "text/plain": [
       "[{'n_topics': 20, 'alpha': 0.05},\n",
       " {'n_topics': 30, 'alpha': 0.03333333333333333},\n",
       " {'n_topics': 40, 'alpha': 0.025},\n",
       " {'n_topics': 50, 'alpha': 0.02},\n",
       " {'n_topics': 60, 'alpha': 0.016666666666666666},\n",
       " {'n_topics': 70, 'alpha': 0.014285714285714285},\n",
       " {'n_topics': 80, 'alpha': 0.0125},\n",
       " {'n_topics': 90, 'alpha': 0.011111111111111112},\n",
       " {'n_topics': 100, 'alpha': 0.01},\n",
       " {'n_topics': 110, 'alpha': 0.00909090909090909},\n",
       " {'n_topics': 120, 'alpha': 0.008333333333333333}]"
      ]
     },
     "execution_count": 13,
     "metadata": {},
     "output_type": "execute_result"
    }
   ],
   "source": [
    "var_params = [{'n_topics': k, 'alpha': 1/k}\n",
    "               for k in range(20, 121, 10)]\n",
    "var_params"
   ]
  },
  {
   "cell_type": "markdown",
   "metadata": {},
   "source": [
    "The heart of the model evaluation process is the function [evaluate_topic_models](api.rst#tmtoolkit.topicmod.tm_lda.evaluate_topic_models), which is available for all three topic modeling packages. We stick with lda and import that function from [topicmod.tm_lda](api.rst#module-tmtoolkit.topicmod.tm_lda). It is similar to [compute_models_parallel](api.rst#tmtoolkit.topicmod.tm_lda.compute_models_parallel) as it accepts varying and constant hyperparameters. However, it doesn't only compute the models in parallel, but also applies several metrics to these models in order to evaluate them. This can be controlled with the `metric` parameter that accepts a string or a list of strings that specify the used metric(s). These metrics refer to functions that are implemented in [topicmod.evaluate](api.rst#module-tmtoolkit.topicmod.evaluate).\n",
    "\n",
    "Each topic modeling sub-module defines two important sequences: `AVAILABLE_METRICS` and `DEFAULT_METRICS`. The former lists all available metrics for that sub-module, the latter lists the default metrics that are used when you don't specify anything with the `metric` parameter. Let's have a look at both sequences in [topicmod.tm_lda](api.rst#module-tmtoolkit.topicmod.tm_lda):"
   ]
  },
  {
   "cell_type": "code",
   "execution_count": 14,
   "metadata": {
    "execution": {
     "iopub.execute_input": "2023-03-31T14:02:38.845265Z",
     "iopub.status.busy": "2023-03-31T14:02:38.844988Z",
     "iopub.status.idle": "2023-03-31T14:02:38.850711Z",
     "shell.execute_reply": "2023-03-31T14:02:38.849787Z"
    },
    "pycharm": {
     "is_executing": false
    }
   },
   "outputs": [
    {
     "data": {
      "text/plain": [
       "('loglikelihood',\n",
       " 'cao_juan_2009',\n",
       " 'arun_2010',\n",
       " 'coherence_mimno_2011',\n",
       " 'griffiths_2004',\n",
       " 'held_out_documents_wallach09',\n",
       " 'coherence_gensim_u_mass',\n",
       " 'coherence_gensim_c_v',\n",
       " 'coherence_gensim_c_uci',\n",
       " 'coherence_gensim_c_npmi')"
      ]
     },
     "execution_count": 14,
     "metadata": {},
     "output_type": "execute_result"
    }
   ],
   "source": [
    "from tmtoolkit.topicmod import tm_lda\n",
    "\n",
    "tm_lda.AVAILABLE_METRICS"
   ]
  },
  {
   "cell_type": "code",
   "execution_count": 15,
   "metadata": {
    "execution": {
     "iopub.execute_input": "2023-03-31T14:02:38.854042Z",
     "iopub.status.busy": "2023-03-31T14:02:38.853760Z",
     "iopub.status.idle": "2023-03-31T14:02:38.859284Z",
     "shell.execute_reply": "2023-03-31T14:02:38.858359Z"
    },
    "pycharm": {
     "is_executing": false
    }
   },
   "outputs": [
    {
     "data": {
      "text/plain": [
       "('cao_juan_2009', 'coherence_mimno_2011')"
      ]
     },
     "execution_count": 15,
     "metadata": {},
     "output_type": "execute_result"
    }
   ],
   "source": [
    "tm_lda.DEFAULT_METRICS"
   ]
  },
  {
   "cell_type": "markdown",
   "metadata": {},
   "source": [
    "For details about the metrics and the academic references, see the respective implementations in the [topicmod.evaluate](api.rst#module-tmtoolkit.topicmod.evaluate) module.\n",
    "\n",
    "We will now run the model evaluations with [evaluate_topic_models](api.rst#tmtoolkit.topicmod.tm_lda.evaluate_topic_models) using our previously generated list of varying hyperparameters `var_params`, some constant hyperparameters and the default set of metrics. We also set `return_models=True` which means to retain the generated models in the evaluation results. We can see, that we can also pass parameters to the model evaluation functions. Here, we set the `top_n` and `include_prob` parameters for the [metric_coherence_mimno_2011](api.rst#tmtoolkit.topicmod.evaluate.metric_coherence_mimno_2011) evaluation function."
   ]
  },
  {
   "cell_type": "code",
   "execution_count": 16,
   "metadata": {
    "execution": {
     "iopub.execute_input": "2023-03-31T14:02:38.862909Z",
     "iopub.status.busy": "2023-03-31T14:02:38.862640Z",
     "iopub.status.idle": "2023-03-31T14:03:00.717581Z",
     "shell.execute_reply": "2023-03-31T14:03:00.716919Z"
    },
    "pycharm": {
     "is_executing": false
    }
   },
   "outputs": [
    {
     "data": {
      "text/plain": [
       "[({'n_topics': 20,\n",
       "   'alpha': 0.05,\n",
       "   'n_iter': 1000,\n",
       "   'random_state': 20191122,\n",
       "   'eta': 0.1},\n",
       "  {'model': <lda.lda.LDA at 0x7fafabbf9f30>,\n",
       "   'cao_juan_2009': 0.15610724233365028,\n",
       "   'coherence_mimno_2011': -384.9116756339807}),\n",
       " ({'n_topics': 30,\n",
       "   'alpha': 0.03333333333333333,\n",
       "   'n_iter': 1000,\n",
       "   'random_state': 20191122,\n",
       "   'eta': 0.1},\n",
       "  {'model': <lda.lda.LDA at 0x7fafabb60fa0>,\n",
       "   'cao_juan_2009': 0.11899541972177724,\n",
       "   'coherence_mimno_2011': -378.8085067862629}),\n",
       " ({'n_topics': 40,\n",
       "   'alpha': 0.025,\n",
       "   'n_iter': 1000,\n",
       "   'random_state': 20191122,\n",
       "   'eta': 0.1},\n",
       "  {'model': <lda.lda.LDA at 0x7fafabb609d0>,\n",
       "   'cao_juan_2009': 0.11501926680954197,\n",
       "   'coherence_mimno_2011': -380.26127391819335})]"
      ]
     },
     "execution_count": 16,
     "metadata": {},
     "output_type": "execute_result"
    }
   ],
   "source": [
    "from tmtoolkit.topicmod.tm_lda import evaluate_topic_models\n",
    "from tmtoolkit.topicmod.evaluate import results_by_parameter\n",
    "\n",
    "const_params = {\n",
    "    'n_iter': 1000,\n",
    "    'random_state': 20191122,  # to make results reproducible\n",
    "    'eta': 0.1,                # sometimes also called \"beta\"\n",
    "}\n",
    "\n",
    "eval_results = evaluate_topic_models(dtm_bg,\n",
    "                                     varying_parameters=var_params,\n",
    "                                     constant_parameters=const_params,\n",
    "                                     coherence_mimno_2011_top_n=10,\n",
    "                                     coherence_mimno_2011_include_prob=True,\n",
    "                                     return_models=True)\n",
    "eval_results[:3]  # only show first three models"
   ]
  },
  {
   "cell_type": "markdown",
   "metadata": {},
   "source": [
    "The evaluation results are a list with pairs of hyperparameters and their evaluation results for each metric. Additionally, there is the generated model for each hyperparameter set.\n",
    "\n",
    "We now use [results_by_parameter](api.rst#tmtoolkit.topicmod.evaluate.results_by_parameter), which takes the \"raw\" evaluation results and sorts them by a specific hyperparameter, in this case `n_topics`. This is important because this is the way that the function for visualizing evaluation results, [plot_eval_results](api.rst#tmtoolkit.topicmod.visualize.plot_eval_results), expects the input."
   ]
  },
  {
   "cell_type": "code",
   "execution_count": 17,
   "metadata": {
    "execution": {
     "iopub.execute_input": "2023-03-31T14:03:00.720069Z",
     "iopub.status.busy": "2023-03-31T14:03:00.719880Z",
     "iopub.status.idle": "2023-03-31T14:03:00.724030Z",
     "shell.execute_reply": "2023-03-31T14:03:00.723463Z"
    },
    "pycharm": {
     "is_executing": false
    }
   },
   "outputs": [
    {
     "data": {
      "text/plain": [
       "[(20,\n",
       "  {'model': <lda.lda.LDA at 0x7fafabbf9f30>,\n",
       "   'cao_juan_2009': 0.15610724233365028,\n",
       "   'coherence_mimno_2011': -384.9116756339807}),\n",
       " (30,\n",
       "  {'model': <lda.lda.LDA at 0x7fafabb60fa0>,\n",
       "   'cao_juan_2009': 0.11899541972177724,\n",
       "   'coherence_mimno_2011': -378.8085067862629}),\n",
       " (40,\n",
       "  {'model': <lda.lda.LDA at 0x7fafabb609d0>,\n",
       "   'cao_juan_2009': 0.11501926680954197,\n",
       "   'coherence_mimno_2011': -380.26127391819335})]"
      ]
     },
     "execution_count": 17,
     "metadata": {},
     "output_type": "execute_result"
    }
   ],
   "source": [
    "eval_results_by_topics = results_by_parameter(eval_results, 'n_topics')\n",
    "eval_results_by_topics[:3]  # again only the first three models"
   ]
  },
  {
   "cell_type": "markdown",
   "metadata": {},
   "source": [
    "We can now see the results for each metric across the specified range of number of topics using [plot_eval_results](api.rst#tmtoolkit.topicmod.visualize.plot_eval_results):"
   ]
  },
  {
   "cell_type": "code",
   "execution_count": 18,
   "metadata": {
    "execution": {
     "iopub.execute_input": "2023-03-31T14:03:00.726525Z",
     "iopub.status.busy": "2023-03-31T14:03:00.726254Z",
     "iopub.status.idle": "2023-03-31T14:03:00.968125Z",
     "shell.execute_reply": "2023-03-31T14:03:00.967512Z"
    },
    "pycharm": {
     "is_executing": false
    }
   },
   "outputs": [
    {
     "data": {
      "image/png": "[encoded data removed]",
      "text/plain": [
       "<Figure size 432x288 with 2 Axes>"
      ]
     },
     "metadata": {
      "needs_background": "light"
     },
     "output_type": "display_data"
    }
   ],
   "source": [
    "from tmtoolkit.topicmod.visualize import plot_eval_results\n",
    "\n",
    "plot_eval_results(eval_results_by_topics);"
   ]
  },
  {
   "cell_type": "markdown",
   "metadata": {},
   "source": [
    "The evaluation metrics seem to agree and show best fits for models with 30 to 70 topics. We would normally investigate a set of models in this range, but for simplicity, lets continue with a model with `n_topics=50` and `alpha=0.02`. We don't have to generate a model with these hyperparameters again, because it's already in the evaluation results (thanks to `return_models=True`). We extract the model from there in order to use it in the rest of the chapter."
   ]
  },
  {
   "cell_type": "code",
   "execution_count": 19,
   "metadata": {
    "execution": {
     "iopub.execute_input": "2023-03-31T14:03:00.970924Z",
     "iopub.status.busy": "2023-03-31T14:03:00.970703Z",
     "iopub.status.idle": "2023-03-31T14:03:00.975418Z",
     "shell.execute_reply": "2023-03-31T14:03:00.974840Z"
    },
    "pycharm": {
     "is_executing": false
    }
   },
   "outputs": [
    {
     "data": {
      "text/plain": [
       "(50, 0.02, 0.1)"
      ]
     },
     "execution_count": 19,
     "metadata": {},
     "output_type": "execute_result"
    }
   ],
   "source": [
    "best_tm = [m for k, m in eval_results_by_topics if k == 50][0]['model']\n",
    "best_tm.n_topics, best_tm.alpha, best_tm.eta  # just to make sure"
   ]
  },
  {
   "cell_type": "markdown",
   "metadata": {},
   "source": [
    "## Common statistics and tools for topic models\n",
    "\n",
    "The [topicmod.model_stats](api.rst#module-tmtoolkit.topicmod.model_stats) module mostly contains functions that compute statistics from the document-topic and topic-word distribution of a topic model and also some helper functions for working with such distributions. We'll start with an important helper function, [generate_topic_labels_from_top_words](api.rst#tmtoolkit.topicmod.model_stats.generate_topic_labels_from_top_words)."
   ]
  },
  {
   "cell_type": "markdown",
   "metadata": {},
   "source": [
    "### Generating labels for topics\n",
    "\n",
    "In topic modeling, topics are numbered because they're *abstract* – they're simply a probability distribution across all words in the vocabulary. Still, it's useful to give them labels for better identification. The function [generate_topic_labels_from_top_words](api.rst#tmtoolkit.topicmod.model_stats.generate_topic_labels_from_top_words) is very useful for that, as it finds labels according to the most \"relevant\" words in each topic. We'll later see how we can identify the most relevant words per topic using a special [relevance statistic](#Topic-word-relevance). Note that you can adjust the weight of the relevance measure for the ranking by using the parameter `lambda_` which is in range $[0, 1]$.\n",
    "\n",
    "The function requires at least the topic-word and document-topic distributions from the model, the document lengths and the vocabulary. It then finds the minimum number of relevant words that uniquely label each topic. You can also use a fixed number for that minimum number with the parameter `n_words`."
   ]
  },
  {
   "cell_type": "code",
   "execution_count": 20,
   "metadata": {
    "execution": {
     "iopub.execute_input": "2023-03-31T14:03:00.978027Z",
     "iopub.status.busy": "2023-03-31T14:03:00.977819Z",
     "iopub.status.idle": "2023-03-31T14:03:01.015764Z",
     "shell.execute_reply": "2023-03-31T14:03:01.015181Z"
    },
    "pycharm": {
     "is_executing": false
    }
   },
   "outputs": [
    {
     "data": {
      "text/plain": [
       "array(['1_northern_candidate', '2_justice_ask', '3_feel_political',\n",
       "       '4_meeting_world', '5_club_team', '6_prime_president',\n",
       "       '7_reform_company', '8_germany_german', '9_parent_child',\n",
       "       '10_committee_intelligence'], dtype='<U25')"
      ]
     },
     "execution_count": 20,
     "metadata": {},
     "output_type": "execute_result"
    }
   ],
   "source": [
    "from tmtoolkit.bow.bow_stats import doc_lengths\n",
    "from tmtoolkit.topicmod.model_stats import generate_topic_labels_from_top_words\n",
    "\n",
    "vocab_bg = np.array(vocab_bg)   # we need this to be an array\n",
    "\n",
    "doc_lengths_bg = doc_lengths(dtm_bg)\n",
    "topic_labels = generate_topic_labels_from_top_words(\n",
    "    best_tm.topic_word_,\n",
    "    best_tm.doc_topic_,\n",
    "    doc_lengths_bg,\n",
    "    np.array(vocab_bg),\n",
    "    lambda_=0.6\n",
    ")\n",
    "\n",
    "topic_labels[:10]   # showing only the first 5 topics here"
   ]
  },
  {
   "cell_type": "markdown",
   "metadata": {},
   "source": [
    "As we can see, two words are necessary to label each topic uniquely. By default, each label is prefixed with a number. You can change that with the parameter `labels_format`.\n",
    "\n",
    "Let's have a look at the top words for a specific topic. We can use [ldamodel_top_topic_words](api.rst#tmtoolkit.topicmod.model_io.ldamodel_top_topic_words) for that from the module [topicmod.model_io](api.rst#module-tmtoolkit.topicmod.model_io), which we will have a closer look at [later](#Displaying-and-exporting-topic-modeling-results):"
   ]
  },
  {
   "cell_type": "code",
   "execution_count": 21,
   "metadata": {
    "execution": {
     "iopub.execute_input": "2023-03-31T14:03:01.019241Z",
     "iopub.status.busy": "2023-03-31T14:03:01.018734Z",
     "iopub.status.idle": "2023-03-31T14:03:01.074038Z",
     "shell.execute_reply": "2023-03-31T14:03:01.073462Z"
    },
    "pycharm": {
     "is_executing": false
    }
   },
   "outputs": [
    {
     "data": {
      "text/html": [
       "<div>\n",
       "<style scoped>\n",
       "    .dataframe tbody tr th:only-of-type {\n",
       "        vertical-align: middle;\n",
       "    }\n",
       "\n",
       "    .dataframe tbody tr th {\n",
       "        vertical-align: top;\n",
       "    }\n",
       "\n",
       "    .dataframe thead th {\n",
       "        text-align: right;\n",
       "    }\n",
       "</style>\n",
       "<table border=\"1\" class=\"dataframe\">\n",
       "  <thead>\n",
       "    <tr style=\"text-align: right;\">\n",
       "      <th></th>\n",
       "      <th>rank_1</th>\n",
       "      <th>rank_2</th>\n",
       "      <th>rank_3</th>\n",
       "      <th>rank_4</th>\n",
       "      <th>rank_5</th>\n",
       "      <th>rank_6</th>\n",
       "      <th>rank_7</th>\n",
       "      <th>rank_8</th>\n",
       "      <th>rank_9</th>\n",
       "      <th>rank_10</th>\n",
       "    </tr>\n",
       "    <tr>\n",
       "      <th>topic</th>\n",
       "      <th></th>\n",
       "      <th></th>\n",
       "      <th></th>\n",
       "      <th></th>\n",
       "      <th></th>\n",
       "      <th></th>\n",
       "      <th></th>\n",
       "      <th></th>\n",
       "      <th></th>\n",
       "      <th></th>\n",
       "    </tr>\n",
       "  </thead>\n",
       "  <tbody>\n",
       "    <tr>\n",
       "      <th>9_parent_child</th>\n",
       "      <td>say (0.09174)</td>\n",
       "      <td>child (0.05946)</td>\n",
       "      <td>parent (0.05408)</td>\n",
       "      <td>help (0.03793)</td>\n",
       "      <td>use (0.03255)</td>\n",
       "      <td>information (0.01641)</td>\n",
       "      <td>lot (0.01641)</td>\n",
       "      <td>online (0.01641)</td>\n",
       "      <td>get (0.01372)</td>\n",
       "      <td>safe (0.01372)</td>\n",
       "    </tr>\n",
       "  </tbody>\n",
       "</table>\n",
       "</div>"
      ],
      "text/plain": [
       "                       rank_1           rank_2            rank_3  \\\n",
       "topic                                                              \n",
       "9_parent_child  say (0.09174)  child (0.05946)  parent (0.05408)   \n",
       "\n",
       "                        rank_4         rank_5                 rank_6  \\\n",
       "topic                                                                  \n",
       "9_parent_child  help (0.03793)  use (0.03255)  information (0.01641)   \n",
       "\n",
       "                       rank_7            rank_8         rank_9         rank_10  \n",
       "topic                                                                           \n",
       "9_parent_child  lot (0.01641)  online (0.01641)  get (0.01372)  safe (0.01372)  "
      ]
     },
     "execution_count": 21,
     "metadata": {},
     "output_type": "execute_result"
    }
   ],
   "source": [
    "from tmtoolkit.topicmod.model_io import ldamodel_top_topic_words\n",
    "\n",
    "top_topic_word = ldamodel_top_topic_words(best_tm.topic_word_,\n",
    "                                          vocab_bg,\n",
    "                                          row_labels=topic_labels)\n",
    "top_topic_word[top_topic_word.index == '9_parent_child']"
   ]
  },
  {
   "cell_type": "markdown",
   "metadata": {},
   "source": [
    "### Marginal topic and word distributions\n",
    "\n",
    "We'll now focus on the marginal topic and word distributions. Let's get the marginal topic distribution first by using [marginal_topic_distrib](api.rst#tmtoolkit.topicmod.model_stats.marginal_topic_distrib):"
   ]
  },
  {
   "cell_type": "code",
   "execution_count": 22,
   "metadata": {
    "execution": {
     "iopub.execute_input": "2023-03-31T14:03:01.076742Z",
     "iopub.status.busy": "2023-03-31T14:03:01.076522Z",
     "iopub.status.idle": "2023-03-31T14:03:01.081634Z",
     "shell.execute_reply": "2023-03-31T14:03:01.081015Z"
    },
    "pycharm": {
     "is_executing": false
    }
   },
   "outputs": [
    {
     "data": {
      "text/plain": [
       "array([0.00931, 0.01366, 0.01654, 0.01773, 0.01276, 0.01942, 0.02841,\n",
       "       0.02336, 0.01785, 0.01785, 0.00675, 0.011  , 0.0114 , 0.01875,\n",
       "       0.04098, 0.0121 , 0.01796, 0.01995, 0.02412, 0.03056, 0.03353,\n",
       "       0.01032, 0.01544, 0.01567, 0.02313, 0.01496, 0.02331, 0.03154,\n",
       "       0.04804, 0.0298 , 0.02893, 0.00604, 0.053  , 0.00886, 0.02781,\n",
       "       0.02152, 0.0271 , 0.01704, 0.02633, 0.0131 , 0.01381, 0.01878,\n",
       "       0.01675, 0.00772, 0.01369, 0.0179 , 0.01859, 0.01147, 0.00847,\n",
       "       0.0269 ])"
      ]
     },
     "execution_count": 22,
     "metadata": {},
     "output_type": "execute_result"
    }
   ],
   "source": [
    "from tmtoolkit.topicmod.model_stats import marginal_topic_distrib\n",
    "\n",
    "marg_topic = marginal_topic_distrib(best_tm.doc_topic_, doc_lengths_bg)\n",
    "marg_topic"
   ]
  },
  {
   "cell_type": "markdown",
   "metadata": {},
   "source": [
    "The marginal topic distribution can be interpreted as the \"importance\" of each topic for the whole corpus. Let's get the sorted indices into `topic_labels` with `np.argsort` and get the top five topics:"
   ]
  },
  {
   "cell_type": "code",
   "execution_count": 23,
   "metadata": {
    "execution": {
     "iopub.execute_input": "2023-03-31T14:03:01.084253Z",
     "iopub.status.busy": "2023-03-31T14:03:01.083934Z",
     "iopub.status.idle": "2023-03-31T14:03:01.087972Z",
     "shell.execute_reply": "2023-03-31T14:03:01.087428Z"
    },
    "pycharm": {
     "is_executing": false
    }
   },
   "outputs": [
    {
     "data": {
      "text/plain": [
       "array(['33_say_year', '29_want_system', '15_american_america',\n",
       "       '21_country_school', '28_house_white'], dtype='<U25')"
      ]
     },
     "execution_count": 23,
     "metadata": {},
     "output_type": "execute_result"
    }
   ],
   "source": [
    "# np.argsort gives ascending order, hence reverse via [::-1]\n",
    "topic_labels[np.argsort(marg_topic)[::-1][:5]]"
   ]
  },
  {
   "cell_type": "markdown",
   "metadata": {},
   "source": [
    "Likewise, we can get the marginal word distribution with [marginal_word_distrib](api.rst#tmtoolkit.topicmod.model_stats.marginal_word_distrib) from the model's topic-word distribution and the marginal topic distribution. We'll use this to list the most probable words for the corpus. As expected, these are mostly quite common words:"
   ]
  },
  {
   "cell_type": "code",
   "execution_count": 24,
   "metadata": {
    "execution": {
     "iopub.execute_input": "2023-03-31T14:03:01.090497Z",
     "iopub.status.busy": "2023-03-31T14:03:01.090276Z",
     "iopub.status.idle": "2023-03-31T14:03:01.094979Z",
     "shell.execute_reply": "2023-03-31T14:03:01.094422Z"
    },
    "pycharm": {
     "is_executing": false
    }
   },
   "outputs": [
    {
     "data": {
      "text/plain": [
       "array(['say', 'year', 'people', 'new', 'country', 'time', 'trump',\n",
       "       'report', 'china', 'president'], dtype='<U14')"
      ]
     },
     "execution_count": 24,
     "metadata": {},
     "output_type": "execute_result"
    }
   ],
   "source": [
    "from tmtoolkit.topicmod.model_stats import marginal_word_distrib\n",
    "\n",
    "marg_word = marginal_word_distrib(best_tm.topic_word_, marg_topic)\n",
    "vocab_bg[np.argsort(marg_word)[::-1][:10]]"
   ]
  },
  {
   "cell_type": "markdown",
   "metadata": {},
   "source": [
    "Two helper functions exist for this purpose: [most_probable_words](api.rst#tmtoolkit.topicmod.model_stats.most_probable_words) and [least_probable_words](api.rst#tmtoolkit.topicmod.model_stats.least_probable_words) sort the vocabulary according to the marginal probability:"
   ]
  },
  {
   "cell_type": "code",
   "execution_count": 25,
   "metadata": {
    "execution": {
     "iopub.execute_input": "2023-03-31T14:03:01.097489Z",
     "iopub.status.busy": "2023-03-31T14:03:01.097284Z",
     "iopub.status.idle": "2023-03-31T14:03:01.101989Z",
     "shell.execute_reply": "2023-03-31T14:03:01.101435Z"
    },
    "pycharm": {
     "is_executing": false
    }
   },
   "outputs": [
    {
     "data": {
      "text/plain": [
       "array(['say', 'year', 'people', 'new', 'country', 'time', 'trump',\n",
       "       'report', 'china', 'president'], dtype='<U14')"
      ]
     },
     "execution_count": 25,
     "metadata": {},
     "output_type": "execute_result"
    }
   ],
   "source": [
    "from tmtoolkit.topicmod.model_stats import most_probable_words, least_probable_words\n",
    "\n",
    "most_probable_words(vocab_bg, best_tm.topic_word_,\n",
    "                    best_tm.doc_topic_, doc_lengths_bg,\n",
    "                    n=10)"
   ]
  },
  {
   "cell_type": "code",
   "execution_count": 26,
   "metadata": {
    "execution": {
     "iopub.execute_input": "2023-03-31T14:03:01.104432Z",
     "iopub.status.busy": "2023-03-31T14:03:01.104225Z",
     "iopub.status.idle": "2023-03-31T14:03:01.108641Z",
     "shell.execute_reply": "2023-03-31T14:03:01.108092Z"
    },
    "pycharm": {
     "is_executing": false
    }
   },
   "outputs": [
    {
     "data": {
      "text/plain": [
       "array(['analysis', 'elect', 'theme', 'urge', 'controversial', 'conduct',\n",
       "       'indicate', 'seven', '1990', 'shortly'], dtype='<U14')"
      ]
     },
     "execution_count": 26,
     "metadata": {},
     "output_type": "execute_result"
    }
   ],
   "source": [
    "least_probable_words(vocab_bg, best_tm.topic_word_,\n",
    "                     best_tm.doc_topic_, doc_lengths_bg,\n",
    "                     n=10)"
   ]
  },
  {
   "cell_type": "markdown",
   "metadata": {},
   "source": [
    "### Word distinctiveness and saliency\n",
    "\n",
    "Word *distinctiveness* and *saliency* (see below) help to identify the most \"informative\" words in a corpus given its topic model. Both measures are introduced in [Chuang et al. 2012](https://dl.acm.org/citation.cfm?id=2254572).\n",
    "\n",
    "Word distinctiveness is calculated for each word $w$ as\n",
    "\n",
    "$\\text{distinctiveness}(w) = \\sum_T(P(T|w) \\log \\frac{P(T|w)}{P(T)})$.\n",
    "\n",
    "where $P(T)$ is the marginal topic distribution and $P(T|w)$ is the probability of a topic given a word $w$.\n",
    "\n",
    "We can calculate this measure using [word_distinctiveness](api.rst#tmtoolkit.topicmod.model_stats.word_distinctiveness). To use this measure directly to rank words, we can use [most_distinct_words](api.rst#tmtoolkit.topicmod.model_stats.most_distinct_words) and [least_distinct_words](api.rst#tmtoolkit.topicmod.model_stats.least_distinct_words):"
   ]
  },
  {
   "cell_type": "code",
   "execution_count": 27,
   "metadata": {
    "execution": {
     "iopub.execute_input": "2023-03-31T14:03:01.111154Z",
     "iopub.status.busy": "2023-03-31T14:03:01.110950Z",
     "iopub.status.idle": "2023-03-31T14:03:01.115847Z",
     "shell.execute_reply": "2023-03-31T14:03:01.115295Z"
    },
    "pycharm": {
     "is_executing": false
    }
   },
   "outputs": [
    {
     "data": {
      "text/plain": [
       "array([0.80452, 1.50631, 0.85059, 0.84437, 1.44386, 0.99755, 1.00283,\n",
       "       0.61471, 1.33342, 2.07252])"
      ]
     },
     "execution_count": 27,
     "metadata": {},
     "output_type": "execute_result"
    }
   ],
   "source": [
    "from tmtoolkit.topicmod.model_stats import word_distinctiveness, \\\n",
    "    most_distinct_words, least_distinct_words\n",
    "\n",
    "word_distinct = word_distinctiveness(best_tm.topic_word_, marg_topic)\n",
    "word_distinct[:10]   # first 10 words in vocab"
   ]
  },
  {
   "cell_type": "code",
   "execution_count": 28,
   "metadata": {
    "execution": {
     "iopub.execute_input": "2023-03-31T14:03:01.118168Z",
     "iopub.status.busy": "2023-03-31T14:03:01.117963Z",
     "iopub.status.idle": "2023-03-31T14:03:01.123170Z",
     "shell.execute_reply": "2023-03-31T14:03:01.122591Z"
    },
    "pycharm": {
     "is_executing": false
    }
   },
   "outputs": [
    {
     "data": {
      "text/plain": [
       "array(['china', 'northern', 'judge', 'body', 'note', 'russian', 'sell',\n",
       "       'fire', 'relation', 'officer'], dtype='<U14')"
      ]
     },
     "execution_count": 28,
     "metadata": {},
     "output_type": "execute_result"
    }
   ],
   "source": [
    "most_distinct_words(vocab_bg, best_tm.topic_word_,\n",
    "                    best_tm.doc_topic_, doc_lengths_bg,\n",
    "                    n=10)"
   ]
  },
  {
   "cell_type": "code",
   "execution_count": 29,
   "metadata": {
    "execution": {
     "iopub.execute_input": "2023-03-31T14:03:01.126523Z",
     "iopub.status.busy": "2023-03-31T14:03:01.126299Z",
     "iopub.status.idle": "2023-03-31T14:03:01.131515Z",
     "shell.execute_reply": "2023-03-31T14:03:01.130939Z"
    },
    "pycharm": {
     "is_executing": false
    }
   },
   "outputs": [
    {
     "data": {
      "text/plain": [
       "array(['john', 'form', '17', 'language', 'true', 'compete', 'reveal',\n",
       "       'condition', 'series', 'instead'], dtype='<U14')"
      ]
     },
     "execution_count": 29,
     "metadata": {},
     "output_type": "execute_result"
    }
   ],
   "source": [
    "least_distinct_words(vocab_bg, best_tm.topic_word_,\n",
    "                     best_tm.doc_topic_, doc_lengths_bg,\n",
    "                     n=10)"
   ]
  },
  {
   "cell_type": "markdown",
   "metadata": {},
   "source": [
    "Word *saliency* weights each words' distinctiveness by it's marginal probability $P(w)$:\n",
    "\n",
    "$\\text{saliency}(w) = P(w) \\cdot \\text{distinctiveness}(w)$.\n",
    "\n",
    "The respective functions in tmtoolkit are [word_saliency](api.rst#tmtoolkit.topicmod.model_stats.word_saliency), [most_salient_words](api.rst#tmtoolkit.topicmod.model_stats.most_salient_words) and [least_salient_words](api.rst#tmtoolkit.topicmod.model_stats.least_salient_words):"
   ]
  },
  {
   "cell_type": "code",
   "execution_count": 30,
   "metadata": {
    "execution": {
     "iopub.execute_input": "2023-03-31T14:03:01.134020Z",
     "iopub.status.busy": "2023-03-31T14:03:01.133816Z",
     "iopub.status.idle": "2023-03-31T14:03:01.139090Z",
     "shell.execute_reply": "2023-03-31T14:03:01.138532Z"
    },
    "pycharm": {
     "is_executing": false
    }
   },
   "outputs": [
    {
     "data": {
      "text/plain": [
       "array([0.00079, 0.00156, 0.00068, 0.00069, 0.00082, 0.00077, 0.00069,\n",
       "       0.00038, 0.00094, 0.00136])"
      ]
     },
     "execution_count": 30,
     "metadata": {},
     "output_type": "execute_result"
    }
   ],
   "source": [
    "from tmtoolkit.topicmod.model_stats import word_saliency, \\\n",
    "    most_salient_words, least_salient_words\n",
    "\n",
    "word_sal = word_saliency(best_tm.topic_word_, best_tm.doc_topic_, doc_lengths_bg)\n",
    "word_sal[:10]   # first 10 words in vocab"
   ]
  },
  {
   "cell_type": "code",
   "execution_count": 31,
   "metadata": {
    "execution": {
     "iopub.execute_input": "2023-03-31T14:03:01.141498Z",
     "iopub.status.busy": "2023-03-31T14:03:01.141254Z",
     "iopub.status.idle": "2023-03-31T14:03:01.146187Z",
     "shell.execute_reply": "2023-03-31T14:03:01.145631Z"
    },
    "pycharm": {
     "is_executing": false
    }
   },
   "outputs": [
    {
     "data": {
      "text/plain": [
       "array(['say', 'china', 'trump', 'people', 'report', 'year', 'country',\n",
       "       'russian', 'police', 'president'], dtype='<U14')"
      ]
     },
     "execution_count": 31,
     "metadata": {},
     "output_type": "execute_result"
    }
   ],
   "source": [
    "most_salient_words(vocab_bg, best_tm.topic_word_,\n",
    "                   best_tm.doc_topic_, doc_lengths_bg,\n",
    "                   n=10)"
   ]
  },
  {
   "cell_type": "code",
   "execution_count": 32,
   "metadata": {
    "execution": {
     "iopub.execute_input": "2023-03-31T14:03:01.148538Z",
     "iopub.status.busy": "2023-03-31T14:03:01.148332Z",
     "iopub.status.idle": "2023-03-31T14:03:01.153175Z",
     "shell.execute_reply": "2023-03-31T14:03:01.152618Z"
    },
    "pycharm": {
     "is_executing": false
    }
   },
   "outputs": [
    {
     "data": {
      "text/plain": [
       "array(['john', 'series', 'reveal', 'language', 'compete', '17', 'true',\n",
       "       'positive', 'instead', 'associate'], dtype='<U14')"
      ]
     },
     "execution_count": 32,
     "metadata": {},
     "output_type": "execute_result"
    }
   ],
   "source": [
    "least_salient_words(vocab_bg, best_tm.topic_word_,\n",
    "                    best_tm.doc_topic_, doc_lengths_bg,\n",
    "                    n=10)"
   ]
  },
  {
   "cell_type": "markdown",
   "metadata": {},
   "source": [
    "### Topic-word relevance\n",
    "\n",
    "The topic-word relevance measure as introduced by [Sievert and Shirley 2014](https://www.aclweb.org/anthology/W14-3110/) helps to identify the most relevant words within a topic by also accounting for the marginal probability of each word across the corpus. This is done by integrating a *lift* value, which is the \"ratio of a term's probability within a topic to its marginal probability across the corpus.\" (ibid.)\n",
    "\n",
    "Thus for each word $w$, given a topic-word distribution $\\phi$, a topic $t$ and a weight parameter $\\lambda$, it is calculated as:\n",
    "\n",
    "$\\text{relevance}_{\\phi, \\lambda}(w, t) = \\lambda \\log \\phi_{t,w} + (1-\\lambda) \\log \\frac{\\phi_{t,w}}{p(w)}$.\n",
    "\n",
    "The first term $\\log \\phi_{t,w}$ is the log of the topic-word distribution, the second term $\\log \\frac{\\phi_{t,w}}{p(w)}$ is the *log lift* and $\\lambda$ can be used to control the weight between both terms. The lower $\\lambda$, the more weight is put on the lift term, i.e. the more different are the results from the original topic-word distribution.\n",
    "\n",
    "This measure is implemented in [topic_word_relevance](api.rst#tmtoolkit.topicmod.model_stats.topic_word_relevance). It returns a matrix of the same shape as the topic-word distribution, i.e. each row represents a topic with a (log-transformed) distribution across all words in the vocabulary. Please note that the lambda parameter ends with an underscore: `lambda_`."
   ]
  },
  {
   "cell_type": "code",
   "execution_count": 33,
   "metadata": {
    "execution": {
     "iopub.execute_input": "2023-03-31T14:03:01.155747Z",
     "iopub.status.busy": "2023-03-31T14:03:01.155547Z",
     "iopub.status.idle": "2023-03-31T14:03:01.161026Z",
     "shell.execute_reply": "2023-03-31T14:03:01.160491Z"
    },
    "pycharm": {
     "is_executing": false
    }
   },
   "outputs": [
    {
     "data": {
      "text/plain": [
       "array([[-4.97857, -4.9996 , -4.89625, ..., -5.89227, -5.00055, -5.12456],\n",
       "       [-5.24587, -5.2669 , -5.16355, ..., -6.15956, -5.26785, -5.39186],\n",
       "       [-5.3902 , -5.41123, -5.30788, ..., -6.3039 , -5.41218, -3.13829],\n",
       "       ...,\n",
       "       [-5.11925, -5.14028, -5.03693, ..., -6.03295, -5.14123, -2.86734],\n",
       "       [-4.91164, -1.49868, -4.82932, ..., -1.89351, -4.93362, -5.05763],\n",
       "       [-5.79022, -2.76672, -5.7079 , ..., -2.59304, -5.8122 , -5.93621]])"
      ]
     },
     "execution_count": 33,
     "metadata": {},
     "output_type": "execute_result"
    }
   ],
   "source": [
    "from tmtoolkit.topicmod.model_stats import topic_word_relevance\n",
    "\n",
    "topic_word_rel = topic_word_relevance(best_tm.topic_word_, best_tm.doc_topic_,\n",
    "                                      doc_lengths_bg, lambda_=0.6)\n",
    "topic_word_rel"
   ]
  },
  {
   "cell_type": "markdown",
   "metadata": {},
   "source": [
    "To confirm that it's 50 topics across all words in the vocabulary:"
   ]
  },
  {
   "cell_type": "code",
   "execution_count": 34,
   "metadata": {
    "execution": {
     "iopub.execute_input": "2023-03-31T14:03:01.163480Z",
     "iopub.status.busy": "2023-03-31T14:03:01.163277Z",
     "iopub.status.idle": "2023-03-31T14:03:01.167092Z",
     "shell.execute_reply": "2023-03-31T14:03:01.166507Z"
    },
    "pycharm": {
     "is_executing": false
    }
   },
   "outputs": [
    {
     "data": {
      "text/plain": [
       "(50, 787)"
      ]
     },
     "execution_count": 34,
     "metadata": {},
     "output_type": "execute_result"
    }
   ],
   "source": [
    "topic_word_rel.shape"
   ]
  },
  {
   "cell_type": "markdown",
   "metadata": {},
   "source": [
    "Two functions can be used to get the most or least relevant words for a topic: [most_relevant_words_for_topic](api.rst#tmtoolkit.topicmod.model_stats.most_relevant_words_for_topic) and [least_relevant_words_for_topic](api.rst#tmtoolkit.topicmod.model_stats.least_relevant_words_for_topic). You can select the topic with the `topic` parameter which is a **zero-based topic index**.\n",
    "\n",
    "We'll do it for topic with index 9, which is:"
   ]
  },
  {
   "cell_type": "code",
   "execution_count": 35,
   "metadata": {
    "execution": {
     "iopub.execute_input": "2023-03-31T14:03:01.169839Z",
     "iopub.status.busy": "2023-03-31T14:03:01.169374Z",
     "iopub.status.idle": "2023-03-31T14:03:01.173213Z",
     "shell.execute_reply": "2023-03-31T14:03:01.172692Z"
    },
    "pycharm": {
     "is_executing": false
    }
   },
   "outputs": [
    {
     "data": {
      "text/plain": [
       "'10_committee_intelligence'"
      ]
     },
     "execution_count": 35,
     "metadata": {},
     "output_type": "execute_result"
    }
   ],
   "source": [
    "topic_labels[9]"
   ]
  },
  {
   "cell_type": "code",
   "execution_count": 36,
   "metadata": {
    "execution": {
     "iopub.execute_input": "2023-03-31T14:03:01.175500Z",
     "iopub.status.busy": "2023-03-31T14:03:01.175266Z",
     "iopub.status.idle": "2023-03-31T14:03:01.179632Z",
     "shell.execute_reply": "2023-03-31T14:03:01.179109Z"
    },
    "pycharm": {
     "is_executing": false
    }
   },
   "outputs": [
    {
     "data": {
      "text/plain": [
       "array(['committee', 'intelligence', 'russia', 'investigation', 'campaign',\n",
       "       'election', 'official', 'russian', 'director', 'house'],\n",
       "      dtype='<U14')"
      ]
     },
     "execution_count": 36,
     "metadata": {},
     "output_type": "execute_result"
    }
   ],
   "source": [
    "from tmtoolkit.topicmod.model_stats import most_relevant_words_for_topic, \\\n",
    "    least_relevant_words_for_topic\n",
    "\n",
    "most_relevant_words_for_topic(vocab_bg, topic_word_rel, topic=9, n=10)"
   ]
  },
  {
   "cell_type": "code",
   "execution_count": 37,
   "metadata": {
    "execution": {
     "iopub.execute_input": "2023-03-31T14:03:01.181861Z",
     "iopub.status.busy": "2023-03-31T14:03:01.181632Z",
     "iopub.status.idle": "2023-03-31T14:03:01.185801Z",
     "shell.execute_reply": "2023-03-31T14:03:01.185273Z"
    },
    "pycharm": {
     "is_executing": false
    }
   },
   "outputs": [
    {
     "data": {
      "text/plain": [
       "array(['say', 'year', 'people', 'new', 'country', 'time', 'trump',\n",
       "       'report', 'china', 'president'], dtype='<U14')"
      ]
     },
     "execution_count": 37,
     "metadata": {},
     "output_type": "execute_result"
    }
   ],
   "source": [
    "least_relevant_words_for_topic(vocab_bg, topic_word_rel, topic=9, n=10)"
   ]
  },
  {
   "cell_type": "markdown",
   "metadata": {},
   "source": [
    "### Topic coherence\n",
    "\n",
    "We already used the *coherence* metric ([Mimno et al. 2011](https://dl.acm.org/citation.cfm?id=2145462)) for topic model evaluation. However, this metric cannot only be used to assess the overall quality of a topic model, but also to evaluate the individual topics' coherence."
   ]
  },
  {
   "cell_type": "code",
   "execution_count": 38,
   "metadata": {
    "execution": {
     "iopub.execute_input": "2023-03-31T14:03:01.188473Z",
     "iopub.status.busy": "2023-03-31T14:03:01.187970Z",
     "iopub.status.idle": "2023-03-31T14:03:01.271996Z",
     "shell.execute_reply": "2023-03-31T14:03:01.271444Z"
    }
   },
   "outputs": [
    {
     "data": {
      "text/plain": [
       "array([-368.0505 , -384.2584 , -372.00206, -367.29517, -389.52356,\n",
       "       -363.64773, -376.8342 , -394.0958 , -375.7338 , -356.68937,\n",
       "       -393.4903 , -382.99714, -384.43853, -358.92104, -376.47575,\n",
       "       -357.50975, -387.57731, -357.51145, -387.45897, -383.77596,\n",
       "       -371.7821 , -379.67835, -398.23761, -388.31374, -368.69083,\n",
       "       -372.09212, -359.55341, -343.31544, -371.77805, -391.93392,\n",
       "       -361.27011, -397.67214, -347.55839, -372.59682, -343.89087,\n",
       "       -387.94091, -369.92932, -394.88232, -374.72604, -386.83853,\n",
       "       -391.52701, -382.88416, -397.39881, -377.83429, -401.61475,\n",
       "       -380.26096, -384.31749, -380.01809, -395.7243 , -361.25357])"
      ]
     },
     "execution_count": 38,
     "metadata": {},
     "output_type": "execute_result"
    }
   ],
   "source": [
    "from tmtoolkit.topicmod.evaluate import metric_coherence_mimno_2011\n",
    "\n",
    "# use top 20 words per topic for metric\n",
    "coh = metric_coherence_mimno_2011(best_tm.topic_word_, dtm_bg, top_n=10, include_prob=True)\n",
    "coh"
   ]
  },
  {
   "cell_type": "markdown",
   "metadata": {},
   "source": [
    "This generates a coherence value for each topic. Let's show the distribution of these values:"
   ]
  },
  {
   "cell_type": "code",
   "execution_count": 39,
   "metadata": {
    "execution": {
     "iopub.execute_input": "2023-03-31T14:03:01.274534Z",
     "iopub.status.busy": "2023-03-31T14:03:01.274333Z",
     "iopub.status.idle": "2023-03-31T14:03:01.381103Z",
     "shell.execute_reply": "2023-03-31T14:03:01.380510Z"
    }
   },
   "outputs": [
    {
     "data": {
      "image/png": "[encoded data removed]",
      "text/plain": [
       "<Figure size 432x288 with 1 Axes>"
      ]
     },
     "metadata": {
      "needs_background": "light"
     },
     "output_type": "display_data"
    }
   ],
   "source": [
    "import matplotlib.pyplot as plt\n",
    "\n",
    "plt.hist(coh, bins=20)\n",
    "plt.xlabel('coherence')\n",
    "plt.ylabel('n')\n",
    "plt.show();"
   ]
  },
  {
   "cell_type": "markdown",
   "metadata": {},
   "source": [
    "And print the best and worst topics according to this metric:"
   ]
  },
  {
   "cell_type": "code",
   "execution_count": 40,
   "metadata": {
    "execution": {
     "iopub.execute_input": "2023-03-31T14:03:01.383644Z",
     "iopub.status.busy": "2023-03-31T14:03:01.383386Z",
     "iopub.status.idle": "2023-03-31T14:03:01.387897Z",
     "shell.execute_reply": "2023-03-31T14:03:01.387363Z"
    }
   },
   "outputs": [
    {
     "data": {
      "text/plain": [
       "array(['28_house_white', '35_china_chinese', '33_say_year',\n",
       "       '10_committee_intelligence', '16_judge_victim',\n",
       "       '18_russian_russia', '14_trump_president', '27_police_man',\n",
       "       '50_al_opposition', '31_vote_election'], dtype='<U25')"
      ]
     },
     "execution_count": 40,
     "metadata": {},
     "output_type": "execute_result"
    }
   ],
   "source": [
    "import numpy as np\n",
    "\n",
    "top10_t_indices = np.argsort(coh)[::-1][:10]\n",
    "bottom10_t_indices = np.argsort(coh)[:10]\n",
    "\n",
    "topic_labels[top10_t_indices]"
   ]
  },
  {
   "cell_type": "code",
   "execution_count": 41,
   "metadata": {
    "execution": {
     "iopub.execute_input": "2023-03-31T14:03:01.390483Z",
     "iopub.status.busy": "2023-03-31T14:03:01.389987Z",
     "iopub.status.idle": "2023-03-31T14:03:01.393895Z",
     "shell.execute_reply": "2023-03-31T14:03:01.393348Z"
    }
   },
   "outputs": [
    {
     "data": {
      "text/plain": [
       "array(['45_percent_germany', '23_line_brand', '32_relation_trust',\n",
       "       '43_space_body', '49_officer_body', '38_mr_damage',\n",
       "       '8_germany_german', '11_win_19', '30_mr_say',\n",
       "       '41_injure_individual'], dtype='<U25')"
      ]
     },
     "execution_count": 41,
     "metadata": {},
     "output_type": "execute_result"
    }
   ],
   "source": [
    "topic_labels[bottom10_t_indices]"
   ]
  },
  {
   "cell_type": "markdown",
   "metadata": {},
   "source": [
    "Note that this metric also doesn't spare oneself careful manual evaluation, because it can also be off for some topics. For example, topic `33_say_year` is certainly not a coherent topic as it mostly ranks very common but but less meaningful words high:"
   ]
  },
  {
   "cell_type": "code",
   "execution_count": 42,
   "metadata": {
    "execution": {
     "iopub.execute_input": "2023-03-31T14:03:01.397163Z",
     "iopub.status.busy": "2023-03-31T14:03:01.396703Z",
     "iopub.status.idle": "2023-03-31T14:03:01.405909Z",
     "shell.execute_reply": "2023-03-31T14:03:01.405353Z"
    }
   },
   "outputs": [
    {
     "data": {
      "text/html": [
       "<div>\n",
       "<style scoped>\n",
       "    .dataframe tbody tr th:only-of-type {\n",
       "        vertical-align: middle;\n",
       "    }\n",
       "\n",
       "    .dataframe tbody tr th {\n",
       "        vertical-align: top;\n",
       "    }\n",
       "\n",
       "    .dataframe thead th {\n",
       "        text-align: right;\n",
       "    }\n",
       "</style>\n",
       "<table border=\"1\" class=\"dataframe\">\n",
       "  <thead>\n",
       "    <tr style=\"text-align: right;\">\n",
       "      <th></th>\n",
       "      <th>rank_1</th>\n",
       "      <th>rank_2</th>\n",
       "      <th>rank_3</th>\n",
       "      <th>rank_4</th>\n",
       "      <th>rank_5</th>\n",
       "      <th>rank_6</th>\n",
       "      <th>rank_7</th>\n",
       "      <th>rank_8</th>\n",
       "      <th>rank_9</th>\n",
       "      <th>rank_10</th>\n",
       "    </tr>\n",
       "    <tr>\n",
       "      <th>topic</th>\n",
       "      <th></th>\n",
       "      <th></th>\n",
       "      <th></th>\n",
       "      <th></th>\n",
       "      <th></th>\n",
       "      <th></th>\n",
       "      <th></th>\n",
       "      <th></th>\n",
       "      <th></th>\n",
       "      <th></th>\n",
       "    </tr>\n",
       "  </thead>\n",
       "  <tbody>\n",
       "    <tr>\n",
       "      <th>33_say_year</th>\n",
       "      <td>say (0.1439)</td>\n",
       "      <td>year (0.05154)</td>\n",
       "      <td>people (0.04104)</td>\n",
       "      <td>time (0.03684)</td>\n",
       "      <td>come (0.0274)</td>\n",
       "      <td>tell (0.02635)</td>\n",
       "      <td>take (0.019)</td>\n",
       "      <td>think (0.01795)</td>\n",
       "      <td>want (0.0169)</td>\n",
       "      <td>way (0.0169)</td>\n",
       "    </tr>\n",
       "  </tbody>\n",
       "</table>\n",
       "</div>"
      ],
      "text/plain": [
       "                   rank_1          rank_2            rank_3          rank_4  \\\n",
       "topic                                                                         \n",
       "33_say_year  say (0.1439)  year (0.05154)  people (0.04104)  time (0.03684)   \n",
       "\n",
       "                    rank_5          rank_6        rank_7           rank_8  \\\n",
       "topic                                                                       \n",
       "33_say_year  come (0.0274)  tell (0.02635)  take (0.019)  think (0.01795)   \n",
       "\n",
       "                    rank_9       rank_10  \n",
       "topic                                     \n",
       "33_say_year  want (0.0169)  way (0.0169)  "
      ]
     },
     "execution_count": 42,
     "metadata": {},
     "output_type": "execute_result"
    }
   ],
   "source": [
    "top_topic_word[top_topic_word.index == '33_say_year']"
   ]
  },
  {
   "cell_type": "markdown",
   "metadata": {},
   "source": [
    "More coherence metrics can be used with the function [metric_coherence_gensim](api.rst#tmtoolkit.topicmod.evaluate.metric_coherence_gensim). This requires that [gensim](https://radimrehurek.com/gensim/) is installed. Furthemore, most metrics require that a parameter `texts` is passed which is the tokenized text that was used to create the document-term matrix."
   ]
  },
  {
   "cell_type": "markdown",
   "metadata": {},
   "source": [
    "### Filtering topics\n",
    "\n",
    "With the function [filter_topics](api.rst#tmtoolkit.topicmod.model_stats.filter_topics), you can filter the topics according to their topic-word distribution and the following search criteria:\n",
    "\n",
    "- `search_pattern`: one or more search patterns according to the [common parameters for pattern matching](preprocessing.ipynb#Common-parameters-for-pattern-matching-functions)\n",
    "- `top_n`: pattern match(es) must occur in the first `top_n` most probable words in the topic\n",
    "- `thresh`: matched words' probability must be above this threshold\n",
    "\n",
    "You must specify at least one of `top_n` and `thresh`, but you can also specify both. The function returns an array of topic indices (which start with zero!).\n",
    "\n",
    "Let's find all topics that have the glob pattern (`match_type='glob'`) \"russ*\" (to match both \"russia\" and \"russian\") in the top 5 most probable words:"
   ]
  },
  {
   "cell_type": "code",
   "execution_count": 43,
   "metadata": {
    "execution": {
     "iopub.execute_input": "2023-03-31T14:03:01.409360Z",
     "iopub.status.busy": "2023-03-31T14:03:01.408863Z",
     "iopub.status.idle": "2023-03-31T14:03:01.418239Z",
     "shell.execute_reply": "2023-03-31T14:03:01.417669Z"
    },
    "pycharm": {
     "is_executing": false
    }
   },
   "outputs": [
    {
     "data": {
      "text/plain": [
       "array([ 9, 17])"
      ]
     },
     "execution_count": 43,
     "metadata": {},
     "output_type": "execute_result"
    }
   ],
   "source": [
    "from tmtoolkit.topicmod.model_stats import filter_topics\n",
    "\n",
    "found_topics = filter_topics('russ*', vocab_bg,\n",
    "                             best_tm.topic_word_, match_type='glob',\n",
    "                             top_n=5)\n",
    "found_topics"
   ]
  },
  {
   "cell_type": "markdown",
   "metadata": {},
   "source": [
    "We can use these indices with our `topic_labels`:"
   ]
  },
  {
   "cell_type": "code",
   "execution_count": 44,
   "metadata": {
    "execution": {
     "iopub.execute_input": "2023-03-31T14:03:01.421403Z",
     "iopub.status.busy": "2023-03-31T14:03:01.421151Z",
     "iopub.status.idle": "2023-03-31T14:03:01.425055Z",
     "shell.execute_reply": "2023-03-31T14:03:01.424511Z"
    },
    "pycharm": {
     "is_executing": false
    }
   },
   "outputs": [
    {
     "data": {
      "text/plain": [
       "array(['10_committee_intelligence', '18_russian_russia'], dtype='<U25')"
      ]
     },
     "execution_count": 44,
     "metadata": {},
     "output_type": "execute_result"
    }
   ],
   "source": [
    "topic_labels[found_topics]"
   ]
  },
  {
   "cell_type": "markdown",
   "metadata": {},
   "source": [
    "Next, we want to select all topics where *any* of the words matched by the glob patterns `\"chin*\"` *or* `\"business\"` achieve at least a probability of 0.01 (`thresh=0.01`):"
   ]
  },
  {
   "cell_type": "code",
   "execution_count": 45,
   "metadata": {
    "execution": {
     "iopub.execute_input": "2023-03-31T14:03:01.428100Z",
     "iopub.status.busy": "2023-03-31T14:03:01.427770Z",
     "iopub.status.idle": "2023-03-31T14:03:01.467284Z",
     "shell.execute_reply": "2023-03-31T14:03:01.466708Z"
    },
    "pycharm": {
     "is_executing": false
    }
   },
   "outputs": [
    {
     "data": {
      "text/plain": [
       "array(['5_club_team', '7_reform_company', '35_china_chinese',\n",
       "       '43_space_body'], dtype='<U25')"
      ]
     },
     "execution_count": 45,
     "metadata": {},
     "output_type": "execute_result"
    }
   ],
   "source": [
    "found_topics = filter_topics(['chin*', 'business'], vocab_bg,\n",
    "                             best_tm.topic_word_, thresh=0.01, match_type='glob')\n",
    "topic_labels[found_topics]"
   ]
  },
  {
   "cell_type": "markdown",
   "metadata": {},
   "source": [
    "When we specify `cond='all'`, *all* patterns must have at least one match (here in the top 10 list of words per topic):"
   ]
  },
  {
   "cell_type": "code",
   "execution_count": 46,
   "metadata": {
    "execution": {
     "iopub.execute_input": "2023-03-31T14:03:01.469943Z",
     "iopub.status.busy": "2023-03-31T14:03:01.469729Z",
     "iopub.status.idle": "2023-03-31T14:03:01.480494Z",
     "shell.execute_reply": "2023-03-31T14:03:01.479918Z"
    },
    "pycharm": {
     "is_executing": false
    }
   },
   "outputs": [
    {
     "data": {
      "text/plain": [
       "array([], dtype='<U25')"
      ]
     },
     "execution_count": 46,
     "metadata": {},
     "output_type": "execute_result"
    }
   ],
   "source": [
    "found_topics = filter_topics(['chin*', 'business'], vocab_bg,\n",
    "                             best_tm.topic_word_, top_n=10, match_type='glob',\n",
    "                             cond='all')\n",
    "topic_labels[found_topics]   # no result"
   ]
  },
  {
   "cell_type": "markdown",
   "metadata": {},
   "source": [
    "You could also pass a topic-word relevance matrix instead of a topic-word probability distribution."
   ]
  },
  {
   "cell_type": "code",
   "execution_count": 47,
   "metadata": {
    "execution": {
     "iopub.execute_input": "2023-03-31T14:03:01.483192Z",
     "iopub.status.busy": "2023-03-31T14:03:01.482983Z",
     "iopub.status.idle": "2023-03-31T14:03:01.493022Z",
     "shell.execute_reply": "2023-03-31T14:03:01.492470Z"
    },
    "pycharm": {
     "is_executing": false
    }
   },
   "outputs": [
    {
     "data": {
      "text/plain": [
       "array(['10_committee_intelligence', '18_russian_russia'], dtype='<U25')"
      ]
     },
     "execution_count": 47,
     "metadata": {},
     "output_type": "execute_result"
    }
   ],
   "source": [
    "found_topics = filter_topics('russ*', vocab_bg,\n",
    "                             topic_word_rel, match_type='glob',\n",
    "                             top_n=5)\n",
    "topic_labels[found_topics]"
   ]
  },
  {
   "cell_type": "markdown",
   "metadata": {},
   "source": [
    "### Excluding topics\n",
    "\n",
    "It is often the case that some topics of a topic model rank a lot of uninformative (e.g. very common) words the highest. This results in some uninformative topics, which you may want to exclude from further analysis. Note that if a large fraction of topics seems uninformative, it points to a problem with your topic model and/or your preprocessing steps. You should [evaluate](#Evaluation-of-topic-models) your candidate models carefully with the mentioned metrics and/or adjust your text preprocessing pipeline.\n",
    "\n",
    "The function [exclude_topics](api.rst#tmtoolkit.topicmod.model_stats.exclude_topics) allows to remove a specified set of topics from the document-topic and topic-word distributions. You need to pass the **zero-based** indices of the topics that you want to remove, and both distributions.\n",
    "\n",
    "For example, suppose the following topics were identified as uninformative:"
   ]
  },
  {
   "cell_type": "code",
   "execution_count": 48,
   "metadata": {
    "execution": {
     "iopub.execute_input": "2023-03-31T14:03:01.495571Z",
     "iopub.status.busy": "2023-03-31T14:03:01.495359Z",
     "iopub.status.idle": "2023-03-31T14:03:01.499414Z",
     "shell.execute_reply": "2023-03-31T14:03:01.498818Z"
    },
    "pycharm": {
     "is_executing": false
    }
   },
   "outputs": [
    {
     "data": {
      "text/plain": [
       "array(['3_feel_political', '33_say_year', '36_million_people'],\n",
       "      dtype='<U25')"
      ]
     },
     "execution_count": 48,
     "metadata": {},
     "output_type": "execute_result"
    }
   ],
   "source": [
    "uninform_topics = [2, 32, 35]\n",
    "topic_labels[uninform_topics]"
   ]
  },
  {
   "cell_type": "markdown",
   "metadata": {},
   "source": [
    "We can now pass these indices to [exclude_topics](api.rst#tmtoolkit.topicmod.model_stats.exclude_topics) along with the topic model distributions. We'll get back new, filtered, distributions."
   ]
  },
  {
   "cell_type": "code",
   "execution_count": 49,
   "metadata": {
    "execution": {
     "iopub.execute_input": "2023-03-31T14:03:01.501831Z",
     "iopub.status.busy": "2023-03-31T14:03:01.501637Z",
     "iopub.status.idle": "2023-03-31T14:03:01.506301Z",
     "shell.execute_reply": "2023-03-31T14:03:01.505749Z"
    },
    "pycharm": {
     "is_executing": false
    }
   },
   "outputs": [
    {
     "data": {
      "text/plain": [
       "((100, 47), (47, 787))"
      ]
     },
     "execution_count": 49,
     "metadata": {},
     "output_type": "execute_result"
    }
   ],
   "source": [
    "from tmtoolkit.topicmod.model_stats import exclude_topics\n",
    "\n",
    "new_doc_topic, new_topic_word, new_topic_mapping = \\\n",
    "    exclude_topics(uninform_topics, best_tm.doc_topic_,\n",
    "                best_tm.topic_word_, return_new_topic_mapping=True)\n",
    "new_doc_topic.shape, new_topic_word.shape"
   ]
  },
  {
   "cell_type": "markdown",
   "metadata": {},
   "source": [
    "We can see in the new distributions' shapes that we now have 47 instead of 50 topics, because we removed three of them. We shouldn't forget to also update the topic labels and remove the unwanted topics:"
   ]
  },
  {
   "cell_type": "code",
   "execution_count": 50,
   "metadata": {
    "execution": {
     "iopub.execute_input": "2023-03-31T14:03:01.508939Z",
     "iopub.status.busy": "2023-03-31T14:03:01.508743Z",
     "iopub.status.idle": "2023-03-31T14:03:01.512802Z",
     "shell.execute_reply": "2023-03-31T14:03:01.512315Z"
    },
    "pycharm": {
     "is_executing": false
    }
   },
   "outputs": [
    {
     "data": {
      "text/plain": [
       "array(['1_northern_candidate', '2_justice_ask', '4_meeting_world',\n",
       "       '5_club_team', '6_prime_president', '7_reform_company',\n",
       "       '8_germany_german', '9_parent_child', '10_committee_intelligence',\n",
       "       '11_win_19', '12_sanction_politician', '13_industry_institute',\n",
       "       '14_trump_president', '15_american_america', '16_judge_victim',\n",
       "       '17_morning_day', '18_russian_russia', '19_support_administration',\n",
       "       '20_say_plan', '21_country_school', '22_flight_air',\n",
       "       '23_line_brand', '24_fire_death', '25_attack_kill',\n",
       "       '26_southern_deal', '27_police_man', '28_house_white',\n",
       "       '29_want_system', '30_mr_say', '31_vote_election',\n",
       "       '32_relation_trust', '34_note_sell', '35_china_chinese',\n",
       "       '37_report_north', '38_mr_damage', '39_bank_investment',\n",
       "       '40_stage_error', '41_injure_individual', '42_jazeera_capital',\n",
       "       '43_space_body', '44_circumstance_check', '45_percent_germany',\n",
       "       '46_party_leader', '47_play_open', '48_family_refugee',\n",
       "       '49_officer_body', '50_al_opposition'], dtype='<U25')"
      ]
     },
     "execution_count": 50,
     "metadata": {},
     "output_type": "execute_result"
    }
   ],
   "source": [
    "new_topic_labels = np.delete(topic_labels, uninform_topics)\n",
    "new_topic_labels"
   ]
  },
  {
   "cell_type": "markdown",
   "metadata": {},
   "source": [
    "## Displaying and exporting topic modeling results\n",
    "\n",
    "The [topicmod.model_io](api.rst#module-tmtoolkit.topicmod.model_io) module provides several functions for displaying and exporting topic modeling results, i.e. results derived from the document-topic and topic-word distribution of a given topic model.\n",
    "\n",
    "We already used [ldamodel_top_topic_words](api.rst#tmtoolkit.topicmod.model_io.ldamodel_top_topic_words) briefly, which generates a dataframe with the top words from a topic-word distribution. You can also use the topic-word relevance matrix instead. With `top_n` we can control the number of top words:"
   ]
  },
  {
   "cell_type": "code",
   "execution_count": 51,
   "metadata": {
    "execution": {
     "iopub.execute_input": "2023-03-31T14:03:01.515214Z",
     "iopub.status.busy": "2023-03-31T14:03:01.515017Z",
     "iopub.status.idle": "2023-03-31T14:03:01.558622Z",
     "shell.execute_reply": "2023-03-31T14:03:01.557983Z"
    },
    "pycharm": {
     "is_executing": false
    }
   },
   "outputs": [
    {
     "data": {
      "text/html": [
       "<div>\n",
       "<style scoped>\n",
       "    .dataframe tbody tr th:only-of-type {\n",
       "        vertical-align: middle;\n",
       "    }\n",
       "\n",
       "    .dataframe tbody tr th {\n",
       "        vertical-align: top;\n",
       "    }\n",
       "\n",
       "    .dataframe thead th {\n",
       "        text-align: right;\n",
       "    }\n",
       "</style>\n",
       "<table border=\"1\" class=\"dataframe\">\n",
       "  <thead>\n",
       "    <tr style=\"text-align: right;\">\n",
       "      <th></th>\n",
       "      <th>rank_1</th>\n",
       "      <th>rank_2</th>\n",
       "      <th>rank_3</th>\n",
       "      <th>rank_4</th>\n",
       "      <th>rank_5</th>\n",
       "    </tr>\n",
       "    <tr>\n",
       "      <th>topic</th>\n",
       "      <th></th>\n",
       "      <th></th>\n",
       "      <th></th>\n",
       "      <th></th>\n",
       "      <th></th>\n",
       "    </tr>\n",
       "  </thead>\n",
       "  <tbody>\n",
       "    <tr>\n",
       "      <th>topic_1</th>\n",
       "      <td>northern (-0.08581)</td>\n",
       "      <td>candidate (-0.6691)</td>\n",
       "      <td>south (-0.9305)</td>\n",
       "      <td>seat (-0.9307)</td>\n",
       "      <td>election (-1.076)</td>\n",
       "    </tr>\n",
       "    <tr>\n",
       "      <th>topic_2</th>\n",
       "      <td>justice (-0.4751)</td>\n",
       "      <td>ask (-0.9358)</td>\n",
       "      <td>speak (-0.9991)</td>\n",
       "      <td>question (-1.074)</td>\n",
       "      <td>withdraw (-1.157)</td>\n",
       "    </tr>\n",
       "    <tr>\n",
       "      <th>topic_3</th>\n",
       "      <td>feel (-0.2168)</td>\n",
       "      <td>political (-0.8653)</td>\n",
       "      <td>like (-0.9237)</td>\n",
       "      <td>fear (-1.008)</td>\n",
       "      <td>society (-1.07)</td>\n",
       "    </tr>\n",
       "  </tbody>\n",
       "</table>\n",
       "</div>"
      ],
      "text/plain": [
       "                      rank_1               rank_2           rank_3  \\\n",
       "topic                                                                \n",
       "topic_1  northern (-0.08581)  candidate (-0.6691)  south (-0.9305)   \n",
       "topic_2    justice (-0.4751)        ask (-0.9358)  speak (-0.9991)   \n",
       "topic_3       feel (-0.2168)  political (-0.8653)   like (-0.9237)   \n",
       "\n",
       "                    rank_4             rank_5  \n",
       "topic                                          \n",
       "topic_1     seat (-0.9307)  election (-1.076)  \n",
       "topic_2  question (-1.074)  withdraw (-1.157)  \n",
       "topic_3      fear (-1.008)    society (-1.07)  "
      ]
     },
     "execution_count": 51,
     "metadata": {},
     "output_type": "execute_result"
    }
   ],
   "source": [
    "# using relevance matrix here and showing only the first 3 topics\n",
    "ldamodel_top_topic_words(topic_word_rel, vocab_bg, top_n=5)[:3]"
   ]
  },
  {
   "cell_type": "markdown",
   "metadata": {},
   "source": [
    "If you're interested in the top *topics for each word/token*, you can use [ldamodel_top_word_topics](api.rst#tmtoolkit.topicmod.model_io.ldamodel_top_word_topics). Here, we generate the top five topics for each token in the vocabulary, but only display the output for four specific words. Instead of the generic `\"topic_...\"` topic names, we additionally pass our previously generated topic labels `topic_labels`:"
   ]
  },
  {
   "cell_type": "code",
   "execution_count": 52,
   "metadata": {
    "execution": {
     "iopub.execute_input": "2023-03-31T14:03:01.561233Z",
     "iopub.status.busy": "2023-03-31T14:03:01.561034Z",
     "iopub.status.idle": "2023-03-31T14:03:02.006989Z",
     "shell.execute_reply": "2023-03-31T14:03:02.006443Z"
    }
   },
   "outputs": [
    {
     "data": {
      "text/html": [
       "<div>\n",
       "<style scoped>\n",
       "    .dataframe tbody tr th:only-of-type {\n",
       "        vertical-align: middle;\n",
       "    }\n",
       "\n",
       "    .dataframe tbody tr th {\n",
       "        vertical-align: top;\n",
       "    }\n",
       "\n",
       "    .dataframe thead th {\n",
       "        text-align: right;\n",
       "    }\n",
       "</style>\n",
       "<table border=\"1\" class=\"dataframe\">\n",
       "  <thead>\n",
       "    <tr style=\"text-align: right;\">\n",
       "      <th></th>\n",
       "      <th>rank_1</th>\n",
       "      <th>rank_2</th>\n",
       "      <th>rank_3</th>\n",
       "      <th>rank_4</th>\n",
       "      <th>rank_5</th>\n",
       "    </tr>\n",
       "    <tr>\n",
       "      <th>token</th>\n",
       "      <th></th>\n",
       "      <th></th>\n",
       "      <th></th>\n",
       "      <th></th>\n",
       "      <th></th>\n",
       "    </tr>\n",
       "  </thead>\n",
       "  <tbody>\n",
       "    <tr>\n",
       "      <th>china</th>\n",
       "      <td>35_china_chinese (0.3344)</td>\n",
       "      <td>37_report_north (-4.052)</td>\n",
       "      <td>15_american_america (-4.408)</td>\n",
       "      <td>32_relation_trust (-5.358)</td>\n",
       "      <td>11_win_19 (-5.424)</td>\n",
       "    </tr>\n",
       "    <tr>\n",
       "      <th>chinese</th>\n",
       "      <td>35_china_chinese (-0.4383)</td>\n",
       "      <td>43_space_body (-1.949)</td>\n",
       "      <td>32_relation_trust (-4.966)</td>\n",
       "      <td>11_win_19 (-5.031)</td>\n",
       "      <td>44_circumstance_check (-5.113)</td>\n",
       "    </tr>\n",
       "    <tr>\n",
       "      <th>russia</th>\n",
       "      <td>18_russian_russia (-0.3546)</td>\n",
       "      <td>10_committee_intelligence (-0.7429)</td>\n",
       "      <td>11_win_19 (-2.102)</td>\n",
       "      <td>47_play_open (-3.461)</td>\n",
       "      <td>39_bank_investment (-3.748)</td>\n",
       "    </tr>\n",
       "    <tr>\n",
       "      <th>russian</th>\n",
       "      <td>18_russian_russia (0.04689)</td>\n",
       "      <td>10_committee_intelligence (-1.286)</td>\n",
       "      <td>50_al_opposition (-2.526)</td>\n",
       "      <td>29_want_system (-4.354)</td>\n",
       "      <td>32_relation_trust (-5.157)</td>\n",
       "    </tr>\n",
       "  </tbody>\n",
       "</table>\n",
       "</div>"
      ],
      "text/plain": [
       "                              rank_1                               rank_2  \\\n",
       "token                                                                       \n",
       "china      35_china_chinese (0.3344)             37_report_north (-4.052)   \n",
       "chinese   35_china_chinese (-0.4383)               43_space_body (-1.949)   \n",
       "russia   18_russian_russia (-0.3546)  10_committee_intelligence (-0.7429)   \n",
       "russian  18_russian_russia (0.04689)   10_committee_intelligence (-1.286)   \n",
       "\n",
       "                               rank_3                      rank_4  \\\n",
       "token                                                               \n",
       "china    15_american_america (-4.408)  32_relation_trust (-5.358)   \n",
       "chinese    32_relation_trust (-4.966)          11_win_19 (-5.031)   \n",
       "russia             11_win_19 (-2.102)       47_play_open (-3.461)   \n",
       "russian     50_al_opposition (-2.526)     29_want_system (-4.354)   \n",
       "\n",
       "                                 rank_5  \n",
       "token                                    \n",
       "china                11_win_19 (-5.424)  \n",
       "chinese  44_circumstance_check (-5.113)  \n",
       "russia      39_bank_investment (-3.748)  \n",
       "russian      32_relation_trust (-5.157)  "
      ]
     },
     "execution_count": 52,
     "metadata": {},
     "output_type": "execute_result"
    }
   ],
   "source": [
    "from tmtoolkit.topicmod.model_io import ldamodel_top_word_topics\n",
    "\n",
    "top_word_topics = ldamodel_top_word_topics(topic_word_rel, vocab_bg,\n",
    "                                           top_n=5, topic_labels=topic_labels)\n",
    "top_word_topics[top_word_topics.index.isin(['china', 'chinese', 'russia', 'russian'])]"
   ]
  },
  {
   "cell_type": "markdown",
   "metadata": {},
   "source": [
    "Note that the values in parantheses are the corresponding values from the matrix for that word in that topic. They're negative because of the log transformation that is applied in the topic-word relevance measure.\n",
    "\n",
    "Similar functions can be used for the document-topic distribution: [ldamodel_top_doc_topics](api.rst#tmtoolkit.topicmod.model_io.ldamodel_top_doc_topics) gives the top topics per document and [ldamodel_top_topic_docs](api.rst#tmtoolkit.topicmod.model_io.ldamodel_top_topic_docs) gives the top documents per topic. Here, `top_n` controls the number of top-ranked topics or documents to return, respectively. This time, we use the filtered document-topic distribution `new_doc_topics`:"
   ]
  },
  {
   "cell_type": "code",
   "execution_count": 53,
   "metadata": {
    "execution": {
     "iopub.execute_input": "2023-03-31T14:03:02.009316Z",
     "iopub.status.busy": "2023-03-31T14:03:02.009124Z",
     "iopub.status.idle": "2023-03-31T14:03:02.064842Z",
     "shell.execute_reply": "2023-03-31T14:03:02.064280Z"
    },
    "pycharm": {
     "is_executing": false
    }
   },
   "outputs": [
    {
     "data": {
      "text/html": [
       "<div>\n",
       "<style scoped>\n",
       "    .dataframe tbody tr th:only-of-type {\n",
       "        vertical-align: middle;\n",
       "    }\n",
       "\n",
       "    .dataframe tbody tr th {\n",
       "        vertical-align: top;\n",
       "    }\n",
       "\n",
       "    .dataframe thead th {\n",
       "        text-align: right;\n",
       "    }\n",
       "</style>\n",
       "<table border=\"1\" class=\"dataframe\">\n",
       "  <thead>\n",
       "    <tr style=\"text-align: right;\">\n",
       "      <th></th>\n",
       "      <th>rank_1</th>\n",
       "      <th>rank_2</th>\n",
       "      <th>rank_3</th>\n",
       "    </tr>\n",
       "    <tr>\n",
       "      <th>document</th>\n",
       "      <th></th>\n",
       "      <th></th>\n",
       "      <th></th>\n",
       "    </tr>\n",
       "  </thead>\n",
       "  <tbody>\n",
       "    <tr>\n",
       "      <th>NewsArticles-1032</th>\n",
       "      <td>46_party_leader (0.7767)</td>\n",
       "      <td>47_play_open (0.161)</td>\n",
       "      <td>25_attack_kill (0.04911)</td>\n",
       "    </tr>\n",
       "    <tr>\n",
       "      <th>NewsArticles-1036</th>\n",
       "      <td>8_germany_german (0.3446)</td>\n",
       "      <td>25_attack_kill (0.2076)</td>\n",
       "      <td>37_report_north (0.1412)</td>\n",
       "    </tr>\n",
       "    <tr>\n",
       "      <th>NewsArticles-104</th>\n",
       "      <td>46_party_leader (0.5793)</td>\n",
       "      <td>30_mr_say (0.2911)</td>\n",
       "      <td>50_al_opposition (0.002882)</td>\n",
       "    </tr>\n",
       "    <tr>\n",
       "      <th>NewsArticles-1043</th>\n",
       "      <td>11_win_19 (0.6471)</td>\n",
       "      <td>50_al_opposition (0.1851)</td>\n",
       "      <td>18_russian_russia (0.0619)</td>\n",
       "    </tr>\n",
       "    <tr>\n",
       "      <th>NewsArticles-1048</th>\n",
       "      <td>17_morning_day (0.4259)</td>\n",
       "      <td>27_police_man (0.3975)</td>\n",
       "      <td>42_jazeera_capital (0.1704)</td>\n",
       "    </tr>\n",
       "  </tbody>\n",
       "</table>\n",
       "</div>"
      ],
      "text/plain": [
       "                                      rank_1                     rank_2  \\\n",
       "document                                                                  \n",
       "NewsArticles-1032   46_party_leader (0.7767)       47_play_open (0.161)   \n",
       "NewsArticles-1036  8_germany_german (0.3446)    25_attack_kill (0.2076)   \n",
       "NewsArticles-104    46_party_leader (0.5793)         30_mr_say (0.2911)   \n",
       "NewsArticles-1043         11_win_19 (0.6471)  50_al_opposition (0.1851)   \n",
       "NewsArticles-1048    17_morning_day (0.4259)     27_police_man (0.3975)   \n",
       "\n",
       "                                        rank_3  \n",
       "document                                        \n",
       "NewsArticles-1032     25_attack_kill (0.04911)  \n",
       "NewsArticles-1036     37_report_north (0.1412)  \n",
       "NewsArticles-104   50_al_opposition (0.002882)  \n",
       "NewsArticles-1043   18_russian_russia (0.0619)  \n",
       "NewsArticles-1048  42_jazeera_capital (0.1704)  "
      ]
     },
     "execution_count": 53,
     "metadata": {},
     "output_type": "execute_result"
    }
   ],
   "source": [
    "from tmtoolkit.topicmod.model_io import ldamodel_top_doc_topics\n",
    "\n",
    "ldamodel_top_doc_topics(new_doc_topic, doc_labels_bg, top_n=3,\n",
    "                        topic_labels=new_topic_labels)[:5]"
   ]
  },
  {
   "cell_type": "markdown",
   "metadata": {},
   "source": [
    "And now for the top documents per topic:"
   ]
  },
  {
   "cell_type": "code",
   "execution_count": 54,
   "metadata": {
    "execution": {
     "iopub.execute_input": "2023-03-31T14:03:02.067421Z",
     "iopub.status.busy": "2023-03-31T14:03:02.066983Z",
     "iopub.status.idle": "2023-03-31T14:03:02.097628Z",
     "shell.execute_reply": "2023-03-31T14:03:02.097078Z"
    }
   },
   "outputs": [
    {
     "data": {
      "text/html": [
       "<div>\n",
       "<style scoped>\n",
       "    .dataframe tbody tr th:only-of-type {\n",
       "        vertical-align: middle;\n",
       "    }\n",
       "\n",
       "    .dataframe tbody tr th {\n",
       "        vertical-align: top;\n",
       "    }\n",
       "\n",
       "    .dataframe thead th {\n",
       "        text-align: right;\n",
       "    }\n",
       "</style>\n",
       "<table border=\"1\" class=\"dataframe\">\n",
       "  <thead>\n",
       "    <tr style=\"text-align: right;\">\n",
       "      <th></th>\n",
       "      <th>rank_1</th>\n",
       "      <th>rank_2</th>\n",
       "      <th>rank_3</th>\n",
       "    </tr>\n",
       "    <tr>\n",
       "      <th>topic</th>\n",
       "      <th></th>\n",
       "      <th></th>\n",
       "      <th></th>\n",
       "    </tr>\n",
       "  </thead>\n",
       "  <tbody>\n",
       "    <tr>\n",
       "      <th>1_northern_candidate</th>\n",
       "      <td>NewsArticles-327 (0.7582)</td>\n",
       "      <td>NewsArticles-1628 (0.5244)</td>\n",
       "      <td>NewsArticles-1917 (0.379)</td>\n",
       "    </tr>\n",
       "    <tr>\n",
       "      <th>2_justice_ask</th>\n",
       "      <td>NewsArticles-1197 (0.6237)</td>\n",
       "      <td>NewsArticles-1341 (0.3669)</td>\n",
       "      <td>NewsArticles-3125 (0.1945)</td>\n",
       "    </tr>\n",
       "    <tr>\n",
       "      <th>4_meeting_world</th>\n",
       "      <td>NewsArticles-464 (0.6111)</td>\n",
       "      <td>NewsArticles-3246 (0.2503)</td>\n",
       "      <td>NewsArticles-3069 (0.2145)</td>\n",
       "    </tr>\n",
       "    <tr>\n",
       "      <th>5_club_team</th>\n",
       "      <td>NewsArticles-115 (0.7313)</td>\n",
       "      <td>NewsArticles-943 (0.3478)</td>\n",
       "      <td>NewsArticles-627 (0.1307)</td>\n",
       "    </tr>\n",
       "    <tr>\n",
       "      <th>6_prime_president</th>\n",
       "      <td>NewsArticles-1383 (0.444)</td>\n",
       "      <td>NewsArticles-972 (0.4204)</td>\n",
       "      <td>NewsArticles-3125 (0.1873)</td>\n",
       "    </tr>\n",
       "  </tbody>\n",
       "</table>\n",
       "</div>"
      ],
      "text/plain": [
       "                                          rank_1                      rank_2  \\\n",
       "topic                                                                          \n",
       "1_northern_candidate   NewsArticles-327 (0.7582)  NewsArticles-1628 (0.5244)   \n",
       "2_justice_ask         NewsArticles-1197 (0.6237)  NewsArticles-1341 (0.3669)   \n",
       "4_meeting_world        NewsArticles-464 (0.6111)  NewsArticles-3246 (0.2503)   \n",
       "5_club_team            NewsArticles-115 (0.7313)   NewsArticles-943 (0.3478)   \n",
       "6_prime_president      NewsArticles-1383 (0.444)   NewsArticles-972 (0.4204)   \n",
       "\n",
       "                                          rank_3  \n",
       "topic                                             \n",
       "1_northern_candidate   NewsArticles-1917 (0.379)  \n",
       "2_justice_ask         NewsArticles-3125 (0.1945)  \n",
       "4_meeting_world       NewsArticles-3069 (0.2145)  \n",
       "5_club_team            NewsArticles-627 (0.1307)  \n",
       "6_prime_president     NewsArticles-3125 (0.1873)  "
      ]
     },
     "execution_count": 54,
     "metadata": {},
     "output_type": "execute_result"
    }
   ],
   "source": [
    "from tmtoolkit.topicmod.model_io import ldamodel_top_topic_docs\n",
    "\n",
    "ldamodel_top_topic_docs(new_doc_topic, doc_labels_bg, top_n=3,\n",
    "                        topic_labels=new_topic_labels)[:5]"
   ]
  },
  {
   "cell_type": "markdown",
   "metadata": {},
   "source": [
    "There are also two functions that generate datatables for the full topic-word and document-topic distributions: [ldamodel_full_topic_words](api.rst#tmtoolkit.topicmod.model_io.ldamodel_full_topic_words) and [ldamodel_full_doc_topics](api.rst#tmtoolkit.topicmod.model_io.ldamodel_full_doc_topics). The output of both functions is naturally quite big, as long as you're not working with a \"toy dataset\"."
   ]
  },
  {
   "cell_type": "code",
   "execution_count": 55,
   "metadata": {
    "execution": {
     "iopub.execute_input": "2023-03-31T14:03:02.100047Z",
     "iopub.status.busy": "2023-03-31T14:03:02.099856Z",
     "iopub.status.idle": "2023-03-31T14:03:02.111199Z",
     "shell.execute_reply": "2023-03-31T14:03:02.110649Z"
    },
    "pycharm": {
     "is_executing": false
    }
   },
   "outputs": [
    {
     "data": {
      "text/html": [
       "<div>\n",
       "<style scoped>\n",
       "    .dataframe tbody tr th:only-of-type {\n",
       "        vertical-align: middle;\n",
       "    }\n",
       "\n",
       "    .dataframe tbody tr th {\n",
       "        vertical-align: top;\n",
       "    }\n",
       "\n",
       "    .dataframe thead th {\n",
       "        text-align: right;\n",
       "    }\n",
       "</style>\n",
       "<table border=\"1\" class=\"dataframe\">\n",
       "  <thead>\n",
       "    <tr style=\"text-align: right;\">\n",
       "      <th></th>\n",
       "      <th>central</th>\n",
       "      <th>centre</th>\n",
       "      <th>century</th>\n",
       "      <th>certain</th>\n",
       "      <th>chairman</th>\n",
       "      <th>challenge</th>\n",
       "      <th>chance</th>\n",
       "      <th>change</th>\n",
       "      <th>charge</th>\n",
       "      <th>check</th>\n",
       "    </tr>\n",
       "  </thead>\n",
       "  <tbody>\n",
       "    <tr>\n",
       "      <th>0</th>\n",
       "      <td>0.000432</td>\n",
       "      <td>0.004748</td>\n",
       "      <td>0.000432</td>\n",
       "      <td>0.004748</td>\n",
       "      <td>0.000432</td>\n",
       "      <td>0.000432</td>\n",
       "      <td>0.000432</td>\n",
       "      <td>0.000432</td>\n",
       "      <td>0.000432</td>\n",
       "      <td>0.000432</td>\n",
       "    </tr>\n",
       "    <tr>\n",
       "      <th>1</th>\n",
       "      <td>0.000330</td>\n",
       "      <td>0.000330</td>\n",
       "      <td>0.000330</td>\n",
       "      <td>0.000330</td>\n",
       "      <td>0.000330</td>\n",
       "      <td>0.000330</td>\n",
       "      <td>0.000330</td>\n",
       "      <td>0.000330</td>\n",
       "      <td>0.000330</td>\n",
       "      <td>0.000330</td>\n",
       "    </tr>\n",
       "    <tr>\n",
       "      <th>2</th>\n",
       "      <td>0.000270</td>\n",
       "      <td>0.000270</td>\n",
       "      <td>0.000270</td>\n",
       "      <td>0.000270</td>\n",
       "      <td>0.000270</td>\n",
       "      <td>0.002975</td>\n",
       "      <td>0.000270</td>\n",
       "      <td>0.000270</td>\n",
       "      <td>0.000270</td>\n",
       "      <td>0.000270</td>\n",
       "    </tr>\n",
       "    <tr>\n",
       "      <th>3</th>\n",
       "      <td>0.000348</td>\n",
       "      <td>0.000348</td>\n",
       "      <td>0.000348</td>\n",
       "      <td>0.000348</td>\n",
       "      <td>0.000348</td>\n",
       "      <td>0.007299</td>\n",
       "      <td>0.000348</td>\n",
       "      <td>0.000348</td>\n",
       "      <td>0.000348</td>\n",
       "      <td>0.000348</td>\n",
       "    </tr>\n",
       "    <tr>\n",
       "      <th>4</th>\n",
       "      <td>0.000251</td>\n",
       "      <td>0.000251</td>\n",
       "      <td>0.000251</td>\n",
       "      <td>0.000251</td>\n",
       "      <td>0.000251</td>\n",
       "      <td>0.000251</td>\n",
       "      <td>0.000251</td>\n",
       "      <td>0.000251</td>\n",
       "      <td>0.000251</td>\n",
       "      <td>0.000251</td>\n",
       "    </tr>\n",
       "  </tbody>\n",
       "</table>\n",
       "</div>"
      ],
      "text/plain": [
       "    central    centre   century   certain  chairman  challenge    chance  \\\n",
       "0  0.000432  0.004748  0.000432  0.004748  0.000432   0.000432  0.000432   \n",
       "1  0.000330  0.000330  0.000330  0.000330  0.000330   0.000330  0.000330   \n",
       "2  0.000270  0.000270  0.000270  0.000270  0.000270   0.002975  0.000270   \n",
       "3  0.000348  0.000348  0.000348  0.000348  0.000348   0.007299  0.000348   \n",
       "4  0.000251  0.000251  0.000251  0.000251  0.000251   0.000251  0.000251   \n",
       "\n",
       "     change    charge     check  \n",
       "0  0.000432  0.000432  0.000432  \n",
       "1  0.000330  0.000330  0.000330  \n",
       "2  0.000270  0.000270  0.000270  \n",
       "3  0.000348  0.000348  0.000348  \n",
       "4  0.000251  0.000251  0.000251  "
      ]
     },
     "execution_count": 55,
     "metadata": {},
     "output_type": "execute_result"
    }
   ],
   "source": [
    "from tmtoolkit.topicmod.model_io import ldamodel_full_topic_words\n",
    "\n",
    "df_topic_word = ldamodel_full_topic_words(new_topic_word,\n",
    "                                          vocab_bg,\n",
    "                                          row_labels=new_topic_labels)\n",
    "# displaying only the first 5 topics with 10 tokens\n",
    "# from sorted vocabulary list (tokens 120 to 129)\n",
    "df_topic_word.iloc[:5, 120:130]"
   ]
  },
  {
   "cell_type": "code",
   "execution_count": 56,
   "metadata": {
    "execution": {
     "iopub.execute_input": "2023-03-31T14:03:02.113397Z",
     "iopub.status.busy": "2023-03-31T14:03:02.113210Z",
     "iopub.status.idle": "2023-03-31T14:03:02.121225Z",
     "shell.execute_reply": "2023-03-31T14:03:02.120823Z"
    },
    "pycharm": {
     "is_executing": false
    }
   },
   "outputs": [
    {
     "data": {
      "text/html": [
       "<div>\n",
       "<style scoped>\n",
       "    .dataframe tbody tr th:only-of-type {\n",
       "        vertical-align: middle;\n",
       "    }\n",
       "\n",
       "    .dataframe tbody tr th {\n",
       "        vertical-align: top;\n",
       "    }\n",
       "\n",
       "    .dataframe thead th {\n",
       "        text-align: right;\n",
       "    }\n",
       "</style>\n",
       "<table border=\"1\" class=\"dataframe\">\n",
       "  <thead>\n",
       "    <tr style=\"text-align: right;\">\n",
       "      <th></th>\n",
       "      <th>_doc</th>\n",
       "      <th>1_northern_candidate</th>\n",
       "      <th>2_justice_ask</th>\n",
       "      <th>4_meeting_world</th>\n",
       "      <th>5_club_team</th>\n",
       "    </tr>\n",
       "  </thead>\n",
       "  <tbody>\n",
       "    <tr>\n",
       "      <th>0</th>\n",
       "      <td>NewsArticles-1032</td>\n",
       "      <td>0.000140</td>\n",
       "      <td>0.000140</td>\n",
       "      <td>0.000140</td>\n",
       "      <td>0.000140</td>\n",
       "    </tr>\n",
       "    <tr>\n",
       "      <th>1</th>\n",
       "      <td>NewsArticles-1036</td>\n",
       "      <td>0.000083</td>\n",
       "      <td>0.000083</td>\n",
       "      <td>0.000083</td>\n",
       "      <td>0.000083</td>\n",
       "    </tr>\n",
       "    <tr>\n",
       "      <th>2</th>\n",
       "      <td>NewsArticles-104</td>\n",
       "      <td>0.002882</td>\n",
       "      <td>0.002882</td>\n",
       "      <td>0.002882</td>\n",
       "      <td>0.002882</td>\n",
       "    </tr>\n",
       "  </tbody>\n",
       "</table>\n",
       "</div>"
      ],
      "text/plain": [
       "                _doc  1_northern_candidate  2_justice_ask  4_meeting_world  \\\n",
       "0  NewsArticles-1032              0.000140       0.000140         0.000140   \n",
       "1  NewsArticles-1036              0.000083       0.000083         0.000083   \n",
       "2   NewsArticles-104              0.002882       0.002882         0.002882   \n",
       "\n",
       "   5_club_team  \n",
       "0     0.000140  \n",
       "1     0.000083  \n",
       "2     0.002882  "
      ]
     },
     "execution_count": 56,
     "metadata": {},
     "output_type": "execute_result"
    }
   ],
   "source": [
    "from tmtoolkit.topicmod.model_io import ldamodel_full_doc_topics\n",
    "\n",
    "df_doc_topic = ldamodel_full_doc_topics(new_doc_topic,\n",
    "                                        doc_labels_bg,\n",
    "                                        topic_labels=new_topic_labels)\n",
    "# displaying only the first 3 documents with the first\n",
    "# 5 topics\n",
    "df_doc_topic.iloc[:3, :5]"
   ]
  },
  {
   "cell_type": "markdown",
   "metadata": {},
   "source": [
    "For quick inspection of topics there's also a pair of print functions. We already used [print_ldamodel_topic_words](api.rst#tmtoolkit.topicmod.model_io.print_ldamodel_topic_words), but we haven't tried [print_ldamodel_doc_topics](api.rst#tmtoolkit.topicmod.model_io.print_ldamodel_doc_topics) yet. This prints the `top_n` most probable topics for each document:"
   ]
  },
  {
   "cell_type": "code",
   "execution_count": 57,
   "metadata": {
    "execution": {
     "iopub.execute_input": "2023-03-31T14:03:02.123726Z",
     "iopub.status.busy": "2023-03-31T14:03:02.123346Z",
     "iopub.status.idle": "2023-03-31T14:03:02.129402Z",
     "shell.execute_reply": "2023-03-31T14:03:02.128847Z"
    },
    "pycharm": {
     "is_executing": false
    }
   },
   "outputs": [
    {
     "name": "stdout",
     "output_type": "stream",
     "text": [
      "NewsArticles-1032\n",
      "> #1. 46_party_leader (0.776690)\n",
      "> #2. 47_play_open (0.161047)\n",
      "> #3. 25_attack_kill (0.049112)\n",
      "NewsArticles-1036\n",
      "> #1. 8_germany_german (0.344567)\n",
      "> #2. 25_attack_kill (0.207604)\n",
      "> #3. 37_report_north (0.141197)\n",
      "NewsArticles-104\n",
      "> #1. 46_party_leader (0.579251)\n",
      "> #2. 30_mr_say (0.291066)\n",
      "> #3. 50_al_opposition (0.002882)\n",
      "NewsArticles-1043\n",
      "> #1. 11_win_19 (0.647059)\n",
      "> #2. 50_al_opposition (0.185094)\n",
      "> #3. 18_russian_russia (0.061903)\n",
      "NewsArticles-1048\n",
      "> #1. 17_morning_day (0.425855)\n",
      "> #2. 27_police_man (0.397474)\n",
      "> #3. 42_jazeera_capital (0.170427)\n"
     ]
    }
   ],
   "source": [
    "from tmtoolkit.topicmod.model_io import print_ldamodel_doc_topics\n",
    "\n",
    "# subsetting new_doc_topic and doc_labels to get only the first\n",
    "# five documents\n",
    "print_ldamodel_doc_topics(new_doc_topic[:5, :], doc_labels_bg[:5],\n",
    "                          val_labels=new_topic_labels)"
   ]
  },
  {
   "cell_type": "markdown",
   "metadata": {},
   "source": [
    "You can also export the results of a topic model to an Excel file using [save_ldamodel_summary_to_excel](api.rst#tmtoolkit.topicmod.model_io.save_ldamodel_summary_to_excel). The resulting Excel file will contain the following sheets:\n",
    "\n",
    "- `top_doc_topics_vals`: document-topic distribution with probabilities of top topics per document\n",
    "- `top_doc_topics_labels`: document-topic distribution with labels of top topics per document\n",
    "- `top_doc_topics_labelled_vals`: document-topic distribution combining probabilities and labels of top topics per\n",
    "  document (e.g. `\"topic_12 (0.21)\"`)\n",
    "- `top_topic_word_vals`: topic-word distribution with probabilities of top words per topic\n",
    "- `top_topic_word_labels`: topic-word distribution with top words per (e.g. `\"politics\"`) topic\n",
    "- `top_topic_words_labelled_vals`: topic-word distribution combining probabilities and top words per topic\n",
    "  (e.g. `\"politics (0.08)\"`)\n",
    "- optional if `dtm` is given – `marginal_topic_distrib`: marginal topic distribution\n",
    "\n",
    "Additionally to saving the output to the specified Excel file, the function will also return a dict with the sheets and their data."
   ]
  },
  {
   "cell_type": "code",
   "execution_count": 58,
   "metadata": {
    "execution": {
     "iopub.execute_input": "2023-03-31T14:03:02.131657Z",
     "iopub.status.busy": "2023-03-31T14:03:02.131474Z",
     "iopub.status.idle": "2023-03-31T14:03:02.650307Z",
     "shell.execute_reply": "2023-03-31T14:03:02.649188Z"
    },
    "pycharm": {
     "is_executing": false
    }
   },
   "outputs": [],
   "source": [
    "from tmtoolkit.topicmod.model_io import save_ldamodel_summary_to_excel\n",
    "\n",
    "sheets = save_ldamodel_summary_to_excel('data/news_articles_100.xlsx',\n",
    "                                        new_topic_word, new_doc_topic,\n",
    "                                        doc_labels_bg, vocab_bg,\n",
    "                                        dtm = dtm_bg,\n",
    "                                        topic_labels = new_topic_labels)"
   ]
  },
  {
   "cell_type": "markdown",
   "metadata": {},
   "source": [
    "To quickly store a topic model to disk for sharing or loading again at a later point in time, there are [save_ldamodel_to_pickle](api.rst#tmtoolkit.topicmod.model_io.save_ldamodel_to_pickle) and [load_ldamodel_from_pickle](api.rst#tmtoolkit.topicmod.model_io.load_ldamodel_from_pickle). The function for saving takes a path to a pickle file to create (or update), a topic model object (such as an LDA instance as `best_tm`, but you could also pass a tuple like `(new_doc_topic, new_topic_word)`), the corresponding vocabulary and document labels, and optionally the DTM that was used to create the topic model. The function for loading the data will return the saved data as a dict. We will only show the dict's keys here, as the data itself is too large to be printed: "
   ]
  },
  {
   "cell_type": "code",
   "execution_count": 59,
   "metadata": {
    "execution": {
     "iopub.execute_input": "2023-03-31T14:03:02.654864Z",
     "iopub.status.busy": "2023-03-31T14:03:02.654564Z",
     "iopub.status.idle": "2023-03-31T14:03:02.663721Z",
     "shell.execute_reply": "2023-03-31T14:03:02.662979Z"
    },
    "pycharm": {
     "is_executing": false
    }
   },
   "outputs": [
    {
     "data": {
      "text/plain": [
       "dict_keys(['model', 'vocab', 'doc_labels', 'dtm'])"
      ]
     },
     "execution_count": 59,
     "metadata": {},
     "output_type": "execute_result"
    }
   ],
   "source": [
    "from tmtoolkit.topicmod.model_io import save_ldamodel_to_pickle, \\\n",
    "    load_ldamodel_from_pickle\n",
    "\n",
    "save_ldamodel_to_pickle('data/news_articles_100.pickle',\n",
    "                        best_tm, vocab_bg, doc_labels_bg,\n",
    "                        dtm = dtm_bg)\n",
    "\n",
    "loaded = load_ldamodel_from_pickle('data/news_articles_100.pickle')\n",
    "loaded.keys()"
   ]
  },
  {
   "cell_type": "markdown",
   "metadata": {},
   "source": [
    "## Visualizing topic models\n",
    "\n",
    "The [topicmod.visualize](api.rst#visualize-topic-models-and-topic-model-evaluation-results) module contains several functions to visualize topic models and evaluation results. We've already used [plot_eval_results](api.rst#tmtoolkit.topicmod.visualize.plot_eval_results) during [topic model evaluation](#Evaluation-of-topic-models) so we'll now focus on visualizing topic models.\n",
    "\n",
    "### Heatmaps\n",
    "\n",
    "Let's start with heatmap visualizations of document-topic or topic-word distributions from our topic model. This can be done with [plot_doc_topic_heatmap](api.rst#tmtoolkit.topicmod.visualize.plot_doc_topic_heatmap) and [plot_topic_word_heatmap](api.rst#tmtoolkit.topicmod.visualize.plot_topic_word_heatmap) respectively. Both functions draw on a [matplotlib](https://matplotlib.org/) figure and *Axes* object, which you must create before using these functions.\n",
    "\n",
    "Heatmap visualizations essentially shade cells in a 2D matrix (like the document-topic or topic-word distributions) according to their value, i.e. the respective probability for a topic in a given document or a word in a given topic. Since these matrices are usually quite large, i.e. with hundreds of rows and/or columns, it doesn't make sense to plot a heatmap of the whole matrix, but rather a certain subset of interest. When we want to visualize a document-topic distribution, we can optionally select a subset of the documents with the `which_documents` parameter and a subset of the topics with the `which_topics` parameter. Let's draw a heatmap of a subset of documents across all topics at first:"
   ]
  },
  {
   "cell_type": "code",
   "execution_count": 60,
   "metadata": {
    "execution": {
     "iopub.execute_input": "2023-03-31T14:03:02.666463Z",
     "iopub.status.busy": "2023-03-31T14:03:02.666204Z",
     "iopub.status.idle": "2023-03-31T14:03:03.760137Z",
     "shell.execute_reply": "2023-03-31T14:03:03.759457Z"
    },
    "pycharm": {
     "is_executing": false
    }
   },
   "outputs": [
    {
     "data": {
      "image/png": "[encoded data removed]",
      "text/plain": [
       "<Figure size 2304x576 with 1 Axes>"
      ]
     },
     "metadata": {
      "needs_background": "light"
     },
     "output_type": "display_data"
    }
   ],
   "source": [
    "import matplotlib.pyplot as plt\n",
    "from tmtoolkit.topicmod.visualize import plot_doc_topic_heatmap\n",
    "\n",
    "# create a figure of certain size and\n",
    "# Axes object to draw on\n",
    "fig, ax = plt.subplots(figsize=(32, 8))\n",
    "\n",
    "# randomly selecting a subset of documents\n",
    "which_docs = random.sample(doc_labels_bg, 5)\n",
    "\n",
    "plot_doc_topic_heatmap(fig, ax, new_doc_topic, doc_labels_bg,\n",
    "                       topic_labels=new_topic_labels,\n",
    "                       which_documents=which_docs);"
   ]
  },
  {
   "cell_type": "code",
   "execution_count": 61,
   "metadata": {
    "execution": {
     "iopub.execute_input": "2023-03-31T14:03:03.762733Z",
     "iopub.status.busy": "2023-03-31T14:03:03.762537Z",
     "iopub.status.idle": "2023-03-31T14:03:04.152422Z",
     "shell.execute_reply": "2023-03-31T14:03:04.151825Z"
    },
    "pycharm": {
     "is_executing": false
    }
   },
   "outputs": [
    {
     "data": {
      "image/png": "[encoded data removed]",
      "text/plain": [
       "<Figure size 432x576 with 1 Axes>"
      ]
     },
     "metadata": {
      "needs_background": "light"
     },
     "output_type": "display_data"
    }
   ],
   "source": [
    "fig, ax = plt.subplots(figsize=(6, 8))\n",
    "\n",
    "# randomly selecting a subset of topics\n",
    "which_topics = random.sample(list(new_topic_labels), 10)\n",
    "\n",
    "plot_doc_topic_heatmap(fig, ax, new_doc_topic, doc_labels_bg,\n",
    "                       topic_labels=new_topic_labels,\n",
    "                       which_documents=which_docs,\n",
    "                       which_topics=which_topics);"
   ]
  },
  {
   "cell_type": "markdown",
   "metadata": {
    "pycharm": {
     "is_executing": false,
     "name": "#%% md\n"
    }
   },
   "source": [
    "Similarily, we can work with [plot_topic_word_heatmap](api.rst#tmtoolkit.topicmod.visualize.plot_topic_word_heatmap) to visualize a topic-word distribution. We can also select a subset of topics and words from the vocabulary:"
   ]
  },
  {
   "cell_type": "code",
   "execution_count": 62,
   "metadata": {
    "execution": {
     "iopub.execute_input": "2023-03-31T14:03:04.155064Z",
     "iopub.status.busy": "2023-03-31T14:03:04.154785Z",
     "iopub.status.idle": "2023-03-31T14:03:04.479083Z",
     "shell.execute_reply": "2023-03-31T14:03:04.478464Z"
    },
    "pycharm": {
     "name": "#%%\n"
    }
   },
   "outputs": [
    {
     "data": {
      "image/png": "[encoded data removed]",
      "text/plain": [
       "<Figure size 864x576 with 1 Axes>"
      ]
     },
     "metadata": {
      "needs_background": "light"
     },
     "output_type": "display_data"
    }
   ],
   "source": [
    "from tmtoolkit.topicmod.visualize import plot_topic_word_heatmap\n",
    "\n",
    "fig, ax = plt.subplots(figsize=(12, 8))\n",
    "\n",
    "which_words = ['may', 'european', 'referendum', 'brexit',\n",
    "               'eu', 'uk', 'britain', 'company', 'trade', 'growth']\n",
    "\n",
    "plot_topic_word_heatmap(fig, ax, new_topic_word, vocab_bg,\n",
    "                        topic_labels=new_topic_labels,\n",
    "                        which_topics=which_topics,\n",
    "                        which_words=which_words);"
   ]
  },
  {
   "cell_type": "markdown",
   "metadata": {},
   "source": [
    "Note that there's also a generic heatmap plotting function [plot_heatmap](api.rst#plot-heatmaps-for-topic-models) for any kind of 2D matrices. "
   ]
  },
  {
   "cell_type": "markdown",
   "metadata": {},
   "source": [
    "### Word clouds\n",
    "\n",
    "Thanks to the [wordlcloud package](https://pypi.org/project/wordcloud/), topic-word and document-topic distributions can also be visualized as \"word clouds\" with tmtoolkit. The function [generate_wordclouds_for_topic_words](api.rst#tmtoolkit.topicmod.visualize.generate_wordclouds_for_topic_words) generates a word cloud for each topic by scaling a topic's word by its probability (weight). You can choose to display only the top `top_n` words per topic. The result of this function will be a dictionary mapping topic labels to the respective word cloud image."
   ]
  },
  {
   "cell_type": "code",
   "execution_count": 63,
   "metadata": {
    "execution": {
     "iopub.execute_input": "2023-03-31T14:03:04.482608Z",
     "iopub.status.busy": "2023-03-31T14:03:04.482377Z",
     "iopub.status.idle": "2023-03-31T14:03:09.075891Z",
     "shell.execute_reply": "2023-03-31T14:03:09.075410Z"
    }
   },
   "outputs": [
    {
     "data": {
      "text/plain": [
       "dict_keys(['1_northern_candidate', '2_justice_ask', '4_meeting_world', '5_club_team', '6_prime_president', '7_reform_company', '8_germany_german', '9_parent_child', '10_committee_intelligence', '11_win_19', '12_sanction_politician', '13_industry_institute', '14_trump_president', '15_american_america', '16_judge_victim', '17_morning_day', '18_russian_russia', '19_support_administration', '20_say_plan', '21_country_school', '22_flight_air', '23_line_brand', '24_fire_death', '25_attack_kill', '26_southern_deal', '27_police_man', '28_house_white', '29_want_system', '30_mr_say', '31_vote_election', '32_relation_trust', '34_note_sell', '35_china_chinese', '37_report_north', '38_mr_damage', '39_bank_investment', '40_stage_error', '41_injure_individual', '42_jazeera_capital', '43_space_body', '44_circumstance_check', '45_percent_germany', '46_party_leader', '47_play_open', '48_family_refugee', '49_officer_body', '50_al_opposition'])"
      ]
     },
     "execution_count": 63,
     "metadata": {},
     "output_type": "execute_result"
    }
   ],
   "source": [
    "from tmtoolkit.topicmod.visualize import generate_wordclouds_for_topic_words\n",
    "\n",
    "# some options for wordcloud output\n",
    "img_w = 400   # image width\n",
    "img_h = 300   # image height\n",
    "\n",
    "topic_clouds = generate_wordclouds_for_topic_words(\n",
    "    new_topic_word, vocab_bg,\n",
    "    top_n=20, topic_labels=new_topic_labels,\n",
    "    width=img_w, height=img_h\n",
    ")\n",
    "\n",
    "# show all generated word clouds\n",
    "topic_clouds.keys()"
   ]
  },
  {
   "cell_type": "markdown",
   "metadata": {},
   "source": [
    "Let's select specific topics and display their word cloud:"
   ]
  },
  {
   "cell_type": "code",
   "execution_count": 64,
   "metadata": {
    "execution": {
     "iopub.execute_input": "2023-03-31T14:03:09.078129Z",
     "iopub.status.busy": "2023-03-31T14:03:09.077952Z",
     "iopub.status.idle": "2023-03-31T14:03:09.091139Z",
     "shell.execute_reply": "2023-03-31T14:03:09.090638Z"
    }
   },
   "outputs": [
    {
     "data": {
      "image/png": "[encoded data removed]",
      "text/plain": [
       "<PIL.Image.Image image mode=RGBA size=400x300>"
      ]
     },
     "execution_count": 64,
     "metadata": {},
     "output_type": "execute_result"
    }
   ],
   "source": [
    "topic_clouds['39_bank_investment']"
   ]
  },
  {
   "cell_type": "markdown",
   "metadata": {},
   "source": [
    "The same can be done for the document-topic distribution using [generate_wordclouds_for_document_topics](api.rst#tmtoolkit.topicmod.visualize.generate_wordclouds_for_document_topics). Here, a word cloud for each document will be generated that contains the `top_n` most probable topics for this document:"
   ]
  },
  {
   "cell_type": "code",
   "execution_count": 65,
   "metadata": {
    "execution": {
     "iopub.execute_input": "2023-03-31T14:03:09.093194Z",
     "iopub.status.busy": "2023-03-31T14:03:09.093031Z",
     "iopub.status.idle": "2023-03-31T14:03:27.785270Z",
     "shell.execute_reply": "2023-03-31T14:03:27.784516Z"
    }
   },
   "outputs": [
    {
     "data": {
      "text/plain": [
       "['NewsArticles-1032',\n",
       " 'NewsArticles-1036',\n",
       " 'NewsArticles-104',\n",
       " 'NewsArticles-1043',\n",
       " 'NewsArticles-1048']"
      ]
     },
     "execution_count": 65,
     "metadata": {},
     "output_type": "execute_result"
    }
   ],
   "source": [
    "from tmtoolkit.topicmod.visualize import generate_wordclouds_for_document_topics\n",
    "\n",
    "doc_clouds = generate_wordclouds_for_document_topics(\n",
    "    new_doc_topic, doc_labels_bg, topic_labels=new_topic_labels,\n",
    "    top_n=5, width=img_w, height=img_h)\n",
    "\n",
    "# show only the first 5 documents for\n",
    "# which word clouds were generated\n",
    "list(doc_clouds.keys())[:5]"
   ]
  },
  {
   "cell_type": "markdown",
   "metadata": {},
   "source": [
    "To display a specific document's topic word cloud:"
   ]
  },
  {
   "cell_type": "code",
   "execution_count": 66,
   "metadata": {
    "execution": {
     "iopub.execute_input": "2023-03-31T14:03:27.789115Z",
     "iopub.status.busy": "2023-03-31T14:03:27.788709Z",
     "iopub.status.idle": "2023-03-31T14:03:27.803134Z",
     "shell.execute_reply": "2023-03-31T14:03:27.802244Z"
    }
   },
   "outputs": [
    {
     "data": {
      "image/png": "[encoded data removed]",
      "text/plain": [
       "<PIL.Image.Image image mode=RGBA size=400x300>"
      ]
     },
     "execution_count": 66,
     "metadata": {},
     "output_type": "execute_result"
    }
   ],
   "source": [
    "doc_clouds['NewsArticles-1032']"
   ]
  },
  {
   "cell_type": "markdown",
   "metadata": {},
   "source": [
    "We can write the generated images as PNG files to a folder on disk. Here, we store all word clouds in `topic_clouds` to `'data/tm_wordclouds/'`:"
   ]
  },
  {
   "cell_type": "code",
   "execution_count": 67,
   "metadata": {
    "execution": {
     "iopub.execute_input": "2023-03-31T14:03:27.806839Z",
     "iopub.status.busy": "2023-03-31T14:03:27.806451Z",
     "iopub.status.idle": "2023-03-31T14:03:28.377969Z",
     "shell.execute_reply": "2023-03-31T14:03:28.377261Z"
    }
   },
   "outputs": [],
   "source": [
    "from tmtoolkit.topicmod.visualize import write_wordclouds_to_folder\n",
    "\n",
    "write_wordclouds_to_folder(topic_clouds, 'data/tm_wordclouds/')"
   ]
  },
  {
   "cell_type": "markdown",
   "metadata": {},
   "source": [
    "### Interactive visualization with pyLDAVis\n",
    "\n",
    "The [pyLDAVis package](https://pyldavis.readthedocs.io/) offers a great interactive tool to explore a topic model. The tmtoolkit function [parameters_for_ldavis](api.rst#tmtoolkit.topicmod.visualize.generate_wordclouds_for_document_topics) allows to prepare your topic model data for this package so that you can easily pass it on to pyLDAVis."
   ]
  },
  {
   "cell_type": "code",
   "execution_count": 68,
   "metadata": {
    "execution": {
     "iopub.execute_input": "2023-03-31T14:03:28.380772Z",
     "iopub.status.busy": "2023-03-31T14:03:28.380563Z",
     "iopub.status.idle": "2023-03-31T14:03:28.384074Z",
     "shell.execute_reply": "2023-03-31T14:03:28.383618Z"
    }
   },
   "outputs": [],
   "source": [
    "from tmtoolkit.topicmod.visualize import parameters_for_ldavis\n",
    "\n",
    "ldavis_params = parameters_for_ldavis(new_topic_word,\n",
    "                                      new_doc_topic,\n",
    "                                      dtm_bg,\n",
    "                                      vocab_bg)"
   ]
  },
  {
   "cell_type": "markdown",
   "metadata": {},
   "source": [
    "If you have installed the package, you can now start the LDAVis explorer with the following lines of code in a Jupyter notebook:\n",
    "\n",
    "    import pyLDAvis\n",
    "    pyLDAVis.prepare(**ldavis_params)"
   ]
  }
 ],
 "metadata": {
  "kernelspec": {
   "display_name": "Python 3 (ipykernel)",
   "language": "python",
   "name": "python3"
  },
  "language_info": {
   "codemirror_mode": {
    "name": "ipython",
    "version": 3
   },
   "file_extension": ".py",
   "mimetype": "text/x-python",
   "name": "python",
   "nbconvert_exporter": "python",
   "pygments_lexer": "ipython3",
   "version": "3.10.6"
  },
  "pycharm": {
   "stem_cell": {
    "cell_type": "raw",
    "metadata": {
     "collapsed": false
    },
    "source": []
   }
  }
 },
 "nbformat": 4,
 "nbformat_minor": 2
}
