{
 "cells": [
  {
   "cell_type": "markdown",
   "metadata": {},
   "source": [
    "# Topic modeling\n",
    "\n",
    "The [topicmod module](api.rst#module-tmtoolkit.topicmod) offers a wide range of tools to facilitate [topic modeling](https://cacm.acm.org/magazines/2012/4/147361-probabilistic-topic-models/fulltext) with Python. This chapter will introduce the following techniques: \n",
    "\n",
    "- [parallel topic model computation for different copora and/or parameter sets](#Computing-topic-models-in-parallel)\n",
    "- [evaluation of topic models (including finding a good set of hyperparameters for the given dataset)](#Evaluation-of-topic-models)\n",
    "- [common statistics and tools for topic models](#Common-statistics-and-tools-for-topic-models)\n",
    "- [export of topic models and summaries to different file formats](#Displaying-and-exporting-topic-modeling-results)\n",
    "- [visualization of topic models](#Visualizing-topic-models)\n",
    "\n",
    "A quick note on terminology: So far, we spoke about *tokens* or sometimes *terms* when we meant the individual elements that our documents consist of after we applied text preprocessing such as *tokenization* to the raw input text strings. These tokens can be lexicographically correct words, but they don't have to, e.g. when you applied stemming you might have tokens like \"argu\" in your vocabulary. There may also be numbers or punctuation symbols in your vocabulary. For those topic modeling techniques that tmtoolkit supports, the results are always two probability distributions: a *document-topic distribution* and a *topic-word distribution*. Since the latter is called topic-*word* and not topic-*token* or *-term* distribution, we will also use the term *word* when we mean any token from the corpus' vocabulary.\n",
    "\n",
    "\n",
    "## An example document-term matrix\n",
    "\n",
    "tmtoolkit supports topic models that are computed from document-term matrices (DTMs). Just as in the previous chapter, we will at first generate a DTM. However, this time the sample will be bigger:"
   ]
  },
  {
   "cell_type": "code",
   "execution_count": 1,
   "metadata": {
    "execution": {
     "iopub.execute_input": "2023-05-03T13:23:09.763800Z",
     "iopub.status.busy": "2023-05-03T13:23:09.763424Z",
     "iopub.status.idle": "2023-05-03T13:23:15.167583Z",
     "shell.execute_reply": "2023-05-03T13:23:15.167108Z"
    },
    "pycharm": {
     "is_executing": false
    }
   },
   "outputs": [
    {
     "name": "stderr",
     "output_type": "stream",
     "text": [
      "2023-05-03 15:23:11,614:INFO:tmtoolkit:creating Corpus instance with no documents\n",
      "2023-05-03 15:23:11,615:INFO:tmtoolkit:using serial processing\n",
      "2023-05-03 15:23:11,832:INFO:tmtoolkit:sampling 100 documents(s) out of 3824\n",
      "2023-05-03 15:23:11,835:INFO:tmtoolkit:adding text from 100 documents(s)\n",
      "2023-05-03 15:23:11,836:INFO:tmtoolkit:running NLP pipeline on 100 documents\n",
      "2023-05-03 15:23:15,164:INFO:tmtoolkit:generating document texts\n"
     ]
    },
    {
     "name": "stdout",
     "output_type": "stream",
     "text": [
      "Corpus with 100 documents in English\n",
      "> NewsArticles-1137 (226 tokens): These Cool New ' Vertical Forest ' Skyscrapers Are...\n",
      "> NewsArticles-1141 (914 tokens): Aslef members reject Southern rail deal    Aslef m...\n",
      "> NewsArticles-1090 (1291 tokens): Martin challenges Fitzgerald over Tusla informatio...\n",
      "> NewsArticles-1032 (653 tokens): Germany 's right - wing AfD seeks to expel state l...\n",
      "> NewsArticles-1048 (476 tokens): Espirito Santo police return to work after murder ...\n",
      "> NewsArticles-113 (1071 tokens): Use talk not tech to tame your children 's online ...\n",
      "> NewsArticles-104 (31 tokens): Your pictures : Broken resolutions    Each week , ...\n",
      "> NewsArticles-1126 (163 tokens): This Makeup Palette Has A Game - Changing Little S...\n",
      "> NewsArticles-1043 (270 tokens): Burhan Ozbilici wins 2017 World Press Photo compet...\n",
      "> NewsArticles-1036 (835 tokens): Amnesty accuses Tunisian authorities of torture ah...\n",
      "(and 90 more documents)\n",
      "total number of tokens: 66637 / vocabulary size: 9469\n"
     ]
    }
   ],
   "source": [
    "import random\n",
    "random.seed(20191120)   # to make the sampling reproducible\n",
    "\n",
    "import numpy as np\n",
    "np.set_printoptions(precision=5)\n",
    "\n",
    "from tmtoolkit.utils import enable_logging\n",
    "enable_logging()\n",
    "\n",
    "from tmtoolkit.corpus import Corpus, print_summary\n",
    "\n",
    "\n",
    "corp = Corpus.from_builtin_corpus('en-NewsArticles', sample=100)\n",
    "print_summary(corp)"
   ]
  },
  {
   "cell_type": "markdown",
   "metadata": {},
   "source": [
    "We will also now generate two DTMs, because we later want to show how you can compute topic models for two different DTMs in parallel. At first, we to some general preprocessing."
   ]
  },
  {
   "cell_type": "code",
   "execution_count": 2,
   "metadata": {
    "execution": {
     "iopub.execute_input": "2023-05-03T13:23:15.169206Z",
     "iopub.status.busy": "2023-05-03T13:23:15.169091Z",
     "iopub.status.idle": "2023-05-03T13:23:15.215238Z",
     "shell.execute_reply": "2023-05-03T13:23:15.214768Z"
    },
    "pycharm": {
     "is_executing": false
    }
   },
   "outputs": [
    {
     "name": "stderr",
     "output_type": "stream",
     "text": [
      "2023-05-03 15:23:15,188:INFO:tmtoolkit:replacing 2186 token hashes\n",
      "2023-05-03 15:23:15,205:INFO:tmtoolkit:replacing 502 token hashes\n",
      "2023-05-03 15:23:15,211:INFO:tmtoolkit:generating document texts\n"
     ]
    },
    {
     "name": "stdout",
     "output_type": "stream",
     "text": [
      "Corpus with 100 documents in English\n",
      "> NewsArticles-1137 (226 tokens): these cool new  vertical forest  skyscraper be des...\n",
      "> NewsArticles-1141 (914 tokens): aslef member reject southern rail deal  aslef memb...\n",
      "> NewsArticles-1090 (1291 tokens): martin challenge fitzgerald over tusla information...\n",
      "> NewsArticles-1032 (653 tokens): germany s right  wing afd seek to expel state lead...\n",
      "> NewsArticles-1048 (476 tokens): espirito santo police return to work after murder ...\n",
      "> NewsArticles-113 (1071 tokens): use talk not tech to tame your child s online habi...\n",
      "> NewsArticles-104 (31 tokens): your picture  break resolution  each week  we publ...\n",
      "> NewsArticles-1126 (163 tokens): this makeup palette have a game  change little sec...\n",
      "> NewsArticles-1043 (270 tokens): burhan ozbilici win 2017 world press photo competi...\n",
      "> NewsArticles-1036 (835 tokens): amnesty accuse tunisian authority of torture ahead...\n",
      "(and 90 more documents)\n",
      "total number of tokens: 66637 / vocabulary size: 6758\n"
     ]
    }
   ],
   "source": [
    "from tmtoolkit.corpus import lemmatize, to_lowercase, remove_punctuation\n",
    "\n",
    "lemmatize(corp)\n",
    "to_lowercase(corp)\n",
    "remove_punctuation(corp)\n",
    "\n",
    "print_summary(corp)"
   ]
  },
  {
   "cell_type": "markdown",
   "metadata": {},
   "source": [
    "Check if there are a few odd, unprintable characters in any tokens:"
   ]
  },
  {
   "cell_type": "code",
   "execution_count": 3,
   "metadata": {
    "execution": {
     "iopub.execute_input": "2023-05-03T13:23:15.217266Z",
     "iopub.status.busy": "2023-05-03T13:23:15.217106Z",
     "iopub.status.idle": "2023-05-03T13:23:15.224436Z",
     "shell.execute_reply": "2023-05-03T13:23:15.223955Z"
    }
   },
   "outputs": [
    {
     "data": {
      "text/plain": [
       "{('\\xa0', b'\\xc2\\xa0'),\n",
       " ('à', b'\\xc3\\xa0'),\n",
       " ('ó', b'\\xc3\\xb3'),\n",
       " ('™', b'\\xe2\\x84\\xa2'),\n",
       " ('�', b'\\xef\\xbf\\xbd')}"
      ]
     },
     "execution_count": 3,
     "metadata": {},
     "output_type": "execute_result"
    }
   ],
   "source": [
    "import string\n",
    "from tmtoolkit.corpus import corpus_unique_chars\n",
    "\n",
    "{(c, c.encode('utf-8')) for c in corpus_unique_chars(corp) if c not in string.printable}"
   ]
  },
  {
   "cell_type": "markdown",
   "metadata": {},
   "source": [
    "Remove all of them but \"à\" and \"ó\""
   ]
  },
  {
   "cell_type": "code",
   "execution_count": 4,
   "metadata": {
    "execution": {
     "iopub.execute_input": "2023-05-03T13:23:15.225960Z",
     "iopub.status.busy": "2023-05-03T13:23:15.225754Z",
     "iopub.status.idle": "2023-05-03T13:23:15.259450Z",
     "shell.execute_reply": "2023-05-03T13:23:15.258742Z"
    }
   },
   "outputs": [
    {
     "name": "stderr",
     "output_type": "stream",
     "text": [
      "2023-05-03 15:23:15,240:INFO:tmtoolkit:replacing 3 token hashes\n"
     ]
    },
    {
     "data": {
      "text/plain": [
       "{('à', b'\\xc3\\xa0'), ('ó', b'\\xc3\\xb3')}"
      ]
     },
     "execution_count": 4,
     "metadata": {},
     "output_type": "execute_result"
    }
   ],
   "source": [
    "from tmtoolkit.corpus import remove_chars\n",
    "\n",
    "unprintable_bytes = {b'\\xc2\\xa0', b'\\xe2\\x84\\xa2', b'\\xef\\xbf\\xbd'}\n",
    "unprintable_chars = set(map(lambda b: b.decode('utf-8'), unprintable_bytes))\n",
    "remove_chars(corp, unprintable_chars)\n",
    "\n",
    "# check again\n",
    "{(c, c.encode('utf-8')) for c in corpus_unique_chars(corp) if c not in string.printable}"
   ]
  },
  {
   "cell_type": "markdown",
   "metadata": {},
   "source": [
    "Now we at first apply more \"relaxed\" cleaning:"
   ]
  },
  {
   "cell_type": "code",
   "execution_count": 5,
   "metadata": {
    "execution": {
     "iopub.execute_input": "2023-05-03T13:23:15.275365Z",
     "iopub.status.busy": "2023-05-03T13:23:15.274970Z",
     "iopub.status.idle": "2023-05-03T13:23:15.560592Z",
     "shell.execute_reply": "2023-05-03T13:23:15.560177Z"
    },
    "pycharm": {
     "is_executing": false
    }
   },
   "outputs": [
    {
     "name": "stderr",
     "output_type": "stream",
     "text": [
      "2023-05-03 15:23:15,312:INFO:tmtoolkit:creating Corpus instance with no documents\n",
      "2023-05-03 15:23:15,314:INFO:tmtoolkit:using serial processing\n",
      "2023-05-03 15:23:15,432:INFO:tmtoolkit:filtered tokens by mask: num. tokens was 66637 and is now 30415\n",
      "2023-05-03 15:23:15,507:INFO:tmtoolkit:filtered tokens by mask: num. tokens was 30415 and is now 30415\n",
      "2023-05-03 15:23:15,545:INFO:tmtoolkit:filtered tokens by mask: num. tokens was 30415 and is now 16468\n",
      "2023-05-03 15:23:15,557:INFO:tmtoolkit:generating document texts\n"
     ]
    },
    {
     "name": "stdout",
     "output_type": "stream",
     "text": [
      "Corpus with 100 documents in English\n",
      "> NewsArticles-1137 (43 tokens): new design help fight world need dont china kind d...\n",
      "> NewsArticles-1141 (249 tokens): member reject southern deal member reject deal sou...\n",
      "> NewsArticles-1090 (264 tokens): challenge information leader claim minister justic...\n",
      "> NewsArticles-1032 (158 tokens): germany right seek state leader leader germany ask...\n",
      "> NewsArticles-1048 (140 tokens): police return work murder officer return work stat...\n",
      "> NewsArticles-113 (259 tokens): use talk child online like parent house like happy...\n",
      "> NewsArticles-104 (7 tokens): break week publish set theme week break\n",
      "> NewsArticles-1126 (19 tokens): game change little product reveal feature game new...\n",
      "> NewsArticles-1043 (64 tokens): win 2017 world press win 2017 world press image ru...\n",
      "> NewsArticles-1036 (241 tokens): accuse authority ahead key talk germany right grou...\n",
      "(and 90 more documents)\n",
      "total number of tokens: 16468 / vocabulary size: 789\n"
     ]
    }
   ],
   "source": [
    "from copy import copy\n",
    "from tmtoolkit.corpus import filter_clean_tokens, remove_common_tokens, remove_uncommon_tokens\n",
    "\n",
    "corp_bigger = copy(corp)\n",
    "\n",
    "filter_clean_tokens(corp_bigger, remove_shorter_than=2)\n",
    "remove_common_tokens(corp_bigger, df_threshold=0.85)\n",
    "remove_uncommon_tokens(corp_bigger, df_threshold=0.05)\n",
    "\n",
    "print_summary(corp_bigger)"
   ]
  },
  {
   "cell_type": "markdown",
   "metadata": {},
   "source": [
    "Another copy of `corp` will apply more aggressive cleaning and hence will result in a smaller vocabulary size:"
   ]
  },
  {
   "cell_type": "code",
   "execution_count": 6,
   "metadata": {
    "execution": {
     "iopub.execute_input": "2023-05-03T13:23:15.562161Z",
     "iopub.status.busy": "2023-05-03T13:23:15.562021Z",
     "iopub.status.idle": "2023-05-03T13:23:15.717362Z",
     "shell.execute_reply": "2023-05-03T13:23:15.716946Z"
    },
    "pycharm": {
     "is_executing": false
    }
   },
   "outputs": [
    {
     "name": "stderr",
     "output_type": "stream",
     "text": [
      "2023-05-03 15:23:15,580:INFO:tmtoolkit:creating Corpus instance with no documents\n",
      "2023-05-03 15:23:15,581:INFO:tmtoolkit:using serial processing\n",
      "2023-05-03 15:23:15,630:INFO:tmtoolkit:filtered tokens by mask: num. tokens was 66637 and is now 19002\n",
      "2023-05-03 15:23:15,655:INFO:tmtoolkit:filtered tokens by mask: num. tokens was 19002 and is now 18553\n",
      "2023-05-03 15:23:15,682:INFO:tmtoolkit:filtered tokens by mask: num. tokens was 18553 and is now 18553\n",
      "2023-05-03 15:23:15,708:INFO:tmtoolkit:filtered tokens by mask: num. tokens was 18553 and is now 5084\n",
      "2023-05-03 15:23:15,714:INFO:tmtoolkit:generating document texts\n"
     ]
    },
    {
     "name": "stdout",
     "output_type": "stream",
     "text": [
      "Corpus with 100 documents in English\n",
      "> NewsArticles-1137 (12 tokens): new world china press day area china house office ...\n",
      "> NewsArticles-1141 (54 tokens): member member member member secretary decision mem...\n",
      "> NewsArticles-1090 (103 tokens): information leader minister child prime time week ...\n",
      "> NewsArticles-1032 (58 tokens): germany state leader leader germany state party le...\n",
      "> NewsArticles-1048 (59 tokens): police work officer work state people day police o...\n",
      "> NewsArticles-113 (69 tokens): child house service house service month time child...\n",
      "> NewsArticles-104 (2 tokens): week week\n",
      "> NewsArticles-1126 (3 tokens): product way twitter\n",
      "> NewsArticles-1043 (18 tokens): world press world press world press russia year ne...\n",
      "> NewsArticles-1036 (91 tokens): authority germany right group security official mi...\n",
      "(and 90 more documents)\n",
      "total number of tokens: 5084 / vocabulary size: 142\n"
     ]
    }
   ],
   "source": [
    "from tmtoolkit.corpus import filter_for_pos\n",
    "corp_smaller = copy(corp)\n",
    "\n",
    "filter_for_pos(corp_smaller, 'N')\n",
    "filter_clean_tokens(corp_smaller, remove_shorter_than=2)\n",
    "remove_common_tokens(corp_smaller, df_threshold=0.8)\n",
    "remove_uncommon_tokens(corp_smaller, df_threshold=0.1)\n",
    "\n",
    "del corp   # remove original corpus\n",
    "\n",
    "print_summary(corp_smaller)"
   ]
  },
  {
   "cell_type": "markdown",
   "metadata": {},
   "source": [
    "We will create the document labels, vocabulary arrays and DTMs for both versions now:"
   ]
  },
  {
   "cell_type": "code",
   "execution_count": 7,
   "metadata": {
    "execution": {
     "iopub.execute_input": "2023-05-03T13:23:15.719236Z",
     "iopub.status.busy": "2023-05-03T13:23:15.719068Z",
     "iopub.status.idle": "2023-05-03T13:23:15.746963Z",
     "shell.execute_reply": "2023-05-03T13:23:15.746640Z"
    },
    "pycharm": {
     "is_executing": false
    }
   },
   "outputs": [
    {
     "name": "stderr",
     "output_type": "stream",
     "text": [
      "2023-05-03 15:23:15,723:INFO:tmtoolkit:generating sparse DTM with 100 documents and vocab size 789\n",
      "2023-05-03 15:23:15,738:INFO:tmtoolkit:generating sparse DTM with 100 documents and vocab size 142\n"
     ]
    },
    {
     "data": {
      "text/plain": [
       "(<100x789 sparse matrix of type '<class 'numpy.int32'>'\n",
       " \twith 9258 stored elements in Compressed Sparse Row format>,\n",
       " <100x142 sparse matrix of type '<class 'numpy.int32'>'\n",
       " \twith 2391 stored elements in Compressed Sparse Row format>)"
      ]
     },
     "execution_count": 7,
     "metadata": {},
     "output_type": "execute_result"
    }
   ],
   "source": [
    "from tmtoolkit.corpus import dtm\n",
    "\n",
    "dtm_bg, doc_labels_bg, vocab_bg = dtm(corp_bigger, return_doc_labels=True, return_vocab=True)\n",
    "dtm_sm, doc_labels_sm, vocab_sm = dtm(corp_smaller, return_doc_labels=True, return_vocab=True)\n",
    "\n",
    "del corp_bigger, corp_smaller  # don't need these any more\n",
    "\n",
    "dtm_bg, dtm_sm"
   ]
  },
  {
   "cell_type": "markdown",
   "metadata": {},
   "source": [
    "We now have two sparse DTMs `dtm_bg` (from the bigger preprocessed data) and `dtm_sm` (from the smaller preprocessed data), a list of document labels `doc_labels` that represent the rows of both DTMs and vocabulary arrays `vocab_bg` and `vocab_sm` that represent the columns of the respective DTMs. We will use this data for the remainder of the chapter."
   ]
  },
  {
   "cell_type": "markdown",
   "metadata": {},
   "source": [
    "## Computing topic models in parallel\n",
    "\n",
    "tmtoolkit allows to compute topic models in parallel, making use of all processor cores in your machine. Parallelization can be done per input DTM, per hyperparameter set and as combination of both. Hyperparameters control the number of topics and their \"granularity\". We will later have a look at the role of hyperparameters and how to find an optimal combination for a given dataset with the means of topic model evaluation.\n",
    "\n",
    "For now, we will concentrate on computing the topic models for both of our two DTMs in parallel. tmtoolkit supports three very popular packages for topic modeling, which provide the work of actually computing the model from the input matrix. They can all be accessed in separate sub-modules of the [topicmod module](api.rst#module-tmtoolkit.topicmod):\n",
    "\n",
    "- [topicmod.tm_lda](api.rst#module-tmtoolkit.topicmod.tm_lda) provides an interface for the [lda](https://lda.readthedocs.io/en/latest/) package\n",
    "- [topicmod.tm_sklearn](api.rst#module-tmtoolkit.topicmod.tm_sklearn) provides an interface for the [scikit-learn](http://scikit-learn.org/stable/modules/generated/sklearn.decomposition.LatentDirichletAllocation.html) package\n",
    "- [topicmod.tm_gensim](api.rst#module-tmtoolkit.topicmod.tm_gensim) provides an interface for the [Gensim](https://radimrehurek.com/gensim/) package\n",
    "\n",
    "Each of these sub-modules offer at least two functions that work with the respective package: `compute_models_parallel` for general parallel model computation and `evaluate_topic_models` for parallel model computation and evaluation (discussed later). For now, we want to compute two models in parallel with the [lda](https://lda.readthedocs.io/en/latest/) package and hence use [compute_models_parallel](api.rst#tmtoolkit.topicmod.tm_lda.compute_models_parallel) from [topicmod.tm_lda](api.rst#module-tmtoolkit.topicmod.tm_lda).\n",
    "\n",
    "We need to provide two things for this function: First, the input matrices as a dict that maps labels to the respective DTMs. Second, hyperparameters to use for the model computations. Note that each topic modeling package has different hyperparameters and you should refer to their documentation in order to find out which hyperparameters you need to provide. For lda, we set the number of topics `n_topics` to 10 and the number of iterations for the Gibbs sampling process `n_iter` to 1000. We always want to use the same hyperparameters, so we pass these as `constant_parameters`. If we wanted to create models for a whole range of parameters, e.g. for different numbers of topics, we could provide `varying_parameters`. We will check this out later when we evaluate topic models.\n",
    "\n",
    "<div class=\"alert alert-info\">\n",
    "    \n",
    "**Note**\n",
    "\n",
    "For proper topic modeling, we shouldn't just set the number of topics, but try to find it out via evaluation methods. We should also check if the algorithm converged using the provided likelihood estimations. We will do both later on, but now focus on `compute_models_parallel`.\n",
    "\n",
    "</div>"
   ]
  },
  {
   "cell_type": "code",
   "execution_count": 8,
   "metadata": {
    "execution": {
     "iopub.execute_input": "2023-05-03T13:23:15.749043Z",
     "iopub.status.busy": "2023-05-03T13:23:15.748895Z",
     "iopub.status.idle": "2023-05-03T13:23:17.445327Z",
     "shell.execute_reply": "2023-05-03T13:23:17.444677Z"
    },
    "pycharm": {
     "is_executing": false
    }
   },
   "outputs": [
    {
     "data": {
      "text/plain": [
       "defaultdict(list,\n",
       "            {'smaller': [({'n_topics': 10,\n",
       "                'n_iter': 1000,\n",
       "                'random_state': 20191122},\n",
       "               <lda.lda.LDA at 0x7f8a54426320>)],\n",
       "             'bigger': [({'n_topics': 10,\n",
       "                'n_iter': 1000,\n",
       "                'random_state': 20191122},\n",
       "               <lda.lda.LDA at 0x7f8a544264d0>)]})"
      ]
     },
     "execution_count": 8,
     "metadata": {},
     "output_type": "execute_result"
    }
   ],
   "source": [
    "import logging\n",
    "import warnings\n",
    "from tmtoolkit.utils import disable_logging\n",
    "from tmtoolkit.topicmod.tm_lda import compute_models_parallel\n",
    "\n",
    "# disable tmtoolkit logging for now (too much output)\n",
    "disable_logging()\n",
    "\n",
    "# suppress the \"INFO\" messages and warnings from lda\n",
    "logger = logging.getLogger('lda')\n",
    "logger.addHandler(logging.NullHandler())\n",
    "logger.propagate = False\n",
    "\n",
    "warnings.filterwarnings('ignore')\n",
    "\n",
    "# set data to use\n",
    "dtms = {\n",
    "    'bigger': dtm_bg,\n",
    "    'smaller': dtm_sm\n",
    "}\n",
    "\n",
    "# and fixed hyperparameters\n",
    "lda_params = {\n",
    "    'n_topics': 10,\n",
    "    'n_iter': 1000,\n",
    "    'random_state': 20191122  # to make results reproducible\n",
    "}\n",
    "\n",
    "models = compute_models_parallel(dtms, constant_parameters=lda_params)\n",
    "models"
   ]
  },
  {
   "cell_type": "markdown",
   "metadata": {},
   "source": [
    "As expected, two models were created. These can be accessed via the labels that we used in the `dtms` dict:"
   ]
  },
  {
   "cell_type": "code",
   "execution_count": 9,
   "metadata": {
    "execution": {
     "iopub.execute_input": "2023-05-03T13:23:17.447187Z",
     "iopub.status.busy": "2023-05-03T13:23:17.446845Z",
     "iopub.status.idle": "2023-05-03T13:23:17.449508Z",
     "shell.execute_reply": "2023-05-03T13:23:17.449220Z"
    },
    "pycharm": {
     "is_executing": false
    }
   },
   "outputs": [
    {
     "data": {
      "text/plain": [
       "[({'n_topics': 10, 'n_iter': 1000, 'random_state': 20191122},\n",
       "  <lda.lda.LDA at 0x7f8a54426320>)]"
      ]
     },
     "execution_count": 9,
     "metadata": {},
     "output_type": "execute_result"
    }
   ],
   "source": [
    "models['smaller']"
   ]
  },
  {
   "cell_type": "markdown",
   "metadata": {},
   "source": [
    "We can see that for each input DTM, we get a list of 2-tuples. The first element in each tuple is a dict that represents the hyperparameters that were used to compute the model, the second element is the actual topic model (the `<lda.lda.LDA ...>` object). This structure looks a bit complex, but this is because it also supports varying parameters. Since we only have one fixed set of hyperparameters per DTM, we only have a list of length 1 for each DTM.\n",
    "\n",
    "We will now access the models and print the top words per topic by using [print_ldamodel_topic_words](api.rst#tmtoolkit.topicmod.model_io.print_ldamodel_topic_words):"
   ]
  },
  {
   "cell_type": "code",
   "execution_count": 10,
   "metadata": {
    "execution": {
     "iopub.execute_input": "2023-05-03T13:23:17.451039Z",
     "iopub.status.busy": "2023-05-03T13:23:17.450898Z",
     "iopub.status.idle": "2023-05-03T13:23:17.456825Z",
     "shell.execute_reply": "2023-05-03T13:23:17.456439Z"
    },
    "pycharm": {
     "is_executing": false
    }
   },
   "outputs": [
    {
     "name": "stdout",
     "output_type": "stream",
     "text": [
      "topic_1\n",
      "> #1. people (0.172328)\n",
      "> #2. country (0.128215)\n",
      "> #3. attack (0.062047)\n",
      "topic_2\n",
      "> #1. trump (0.191129)\n",
      "> #2. president (0.096484)\n",
      "> #3. house (0.092843)\n",
      "topic_3\n",
      "> #1. al (0.085470)\n",
      "> #2. syria (0.078897)\n",
      "> #3. force (0.063560)\n",
      "topic_4\n",
      "> #1. company (0.198822)\n",
      "> #2. system (0.109363)\n",
      "> #3. year (0.091969)\n",
      "topic_5\n",
      "> #1. year (0.144537)\n",
      "> #2. germany (0.075351)\n",
      "> #3. family (0.056902)\n",
      "topic_6\n",
      "> #1. election (0.096485)\n",
      "> #2. party (0.096485)\n",
      "> #3. minister (0.093470)\n",
      "topic_7\n",
      "> #1. mr (0.223614)\n",
      "> #2. morning (0.131100)\n",
      "> #3. day (0.080988)\n",
      "topic_8\n",
      "> #1. china (0.281876)\n",
      "> #2. development (0.091937)\n",
      "> #3. market (0.079683)\n",
      "topic_9\n",
      "> #1. time (0.106740)\n",
      "> #2. year (0.079250)\n",
      "> #3. world (0.050144)\n",
      "topic_10\n",
      "> #1. report (0.150105)\n",
      "> #2. police (0.141145)\n",
      "> #3. man (0.114265)\n"
     ]
    }
   ],
   "source": [
    "from tmtoolkit.topicmod.model_io import print_ldamodel_topic_words\n",
    "\n",
    "model_sm = models['smaller'][0][1]\n",
    "print_ldamodel_topic_words(model_sm.topic_word_, vocab_sm, top_n=3)"
   ]
  },
  {
   "cell_type": "code",
   "execution_count": 11,
   "metadata": {
    "execution": {
     "iopub.execute_input": "2023-05-03T13:23:17.458501Z",
     "iopub.status.busy": "2023-05-03T13:23:17.458286Z",
     "iopub.status.idle": "2023-05-03T13:23:17.463473Z",
     "shell.execute_reply": "2023-05-03T13:23:17.463092Z"
    },
    "pycharm": {
     "is_executing": false
    }
   },
   "outputs": [
    {
     "name": "stdout",
     "output_type": "stream",
     "text": [
      "topic_1\n",
      "> #1. election (0.042648)\n",
      "> #2. party (0.042648)\n",
      "> #3. minister (0.041315)\n",
      "topic_2\n",
      "> #1. year (0.055496)\n",
      "> #2. time (0.031095)\n",
      "> #3. like (0.027947)\n",
      "topic_3\n",
      "> #1. people (0.048456)\n",
      "> #2. country (0.039056)\n",
      "> #3. american (0.036163)\n",
      "topic_4\n",
      "> #1. china (0.072627)\n",
      "> #2. company (0.054472)\n",
      "> #3. market (0.037896)\n",
      "topic_5\n",
      "> #1. police (0.042984)\n",
      "> #2. attack (0.034798)\n",
      "> #3. man (0.034798)\n",
      "topic_6\n",
      "> #1. say (0.094018)\n",
      "> #2. take (0.021636)\n",
      "> #3. member (0.017476)\n",
      "topic_7\n",
      "> #1. say (0.136264)\n",
      "> #2. report (0.044769)\n",
      "> #3. mr (0.028536)\n",
      "topic_8\n",
      "> #1. trump (0.103879)\n",
      "> #2. president (0.086073)\n",
      "> #3. house (0.050460)\n",
      "topic_9\n",
      "> #1. new (0.063062)\n",
      "> #2. germany (0.060589)\n",
      "> #3. country (0.045754)\n",
      "topic_10\n",
      "> #1. new (0.037512)\n",
      "> #2. people (0.022978)\n",
      "> #3. million (0.021572)\n"
     ]
    }
   ],
   "source": [
    "model_bg = models['bigger'][0][1]\n",
    "print_ldamodel_topic_words(model_bg.topic_word_, vocab_bg, top_n=3)"
   ]
  },
  {
   "cell_type": "markdown",
   "metadata": {},
   "source": [
    "We could also generate models from different parameters in parallel, either for a single DTM or several. In the following example we generate models for a series of four different values for the `alpha` parameter. The parameters `n_iter` and `n_topics` are held constant across all models."
   ]
  },
  {
   "cell_type": "code",
   "execution_count": 12,
   "metadata": {
    "execution": {
     "iopub.execute_input": "2023-05-03T13:23:17.464898Z",
     "iopub.status.busy": "2023-05-03T13:23:17.464772Z",
     "iopub.status.idle": "2023-05-03T13:23:18.496335Z",
     "shell.execute_reply": "2023-05-03T13:23:18.495880Z"
    },
    "pycharm": {
     "is_executing": false
    }
   },
   "outputs": [
    {
     "data": {
      "text/plain": [
       "[({'alpha': 0.0001, 'n_iter': 500, 'n_topics': 10, 'random_state': 20191122},\n",
       "  <lda.lda.LDA at 0x7f8a54424040>),\n",
       " ({'alpha': 0.1, 'n_iter': 500, 'n_topics': 10, 'random_state': 20191122},\n",
       "  <lda.lda.LDA at 0x7f8a54406020>),\n",
       " ({'alpha': 0.001, 'n_iter': 500, 'n_topics': 10, 'random_state': 20191122},\n",
       "  <lda.lda.LDA at 0x7f8a54406050>),\n",
       " ({'alpha': 0.01, 'n_iter': 500, 'n_topics': 10, 'random_state': 20191122},\n",
       "  <lda.lda.LDA at 0x7f8a544061d0>)]"
      ]
     },
     "execution_count": 12,
     "metadata": {},
     "output_type": "execute_result"
    }
   ],
   "source": [
    "var_params = [{'alpha': 1/(10**x)} for x in range(1, 5)]\n",
    "\n",
    "const_params = {\n",
    "    'n_iter': 500,\n",
    "    'n_topics': 10,\n",
    "    'random_state': 20191122  # to make results reproducible\n",
    "}\n",
    "\n",
    "models = compute_models_parallel(dtm_sm,  # smaller DTM\n",
    "                                 varying_parameters=var_params,\n",
    "                                 constant_parameters=const_params)\n",
    "models"
   ]
  },
  {
   "cell_type": "markdown",
   "metadata": {},
   "source": [
    "We could compare these models now, e.g. by investigating their topics.\n",
    "\n",
    "A more systematic approach on comparing and evaluating topic models, also in order to find a good set of hyperparameters for a given dataset, will be presented in the next section.\n",
    "\n",
    "## Evaluation of topic models\n",
    "\n",
    "The package tmtoolkit provides several metrics for comparing and evaluating topic models. This can be used for finding a good hyperparameter set for a given dataset, e.g. a good combination of the number of topics and concentration paramaters (often called alpha and beta in literature). For some background on hyperparameters in topic modeling, see [this blog post](https://datascience.blog.wzb.eu/2017/11/09/topic-modeling-evaluation-in-python-with-tmtoolkit/).\n",
    "\n",
    "For each candidate hyperparameter set, a model can be generated and evaluated in parallel. We will do this now for the \"big\" DTM `dtm_bg`. Our candidate values for the number of topics `k` range between 20 and 120, with steps of 10. We make the concentration parameter for a prior over the document-specific topic distributions, alpha, depending on `k` as `1/k`:"
   ]
  },
  {
   "cell_type": "code",
   "execution_count": 13,
   "metadata": {
    "execution": {
     "iopub.execute_input": "2023-05-03T13:23:18.498192Z",
     "iopub.status.busy": "2023-05-03T13:23:18.498019Z",
     "iopub.status.idle": "2023-05-03T13:23:18.502375Z",
     "shell.execute_reply": "2023-05-03T13:23:18.501940Z"
    },
    "pycharm": {
     "is_executing": false
    }
   },
   "outputs": [
    {
     "data": {
      "text/plain": [
       "[{'n_topics': 20, 'alpha': 0.05},\n",
       " {'n_topics': 30, 'alpha': 0.03333333333333333},\n",
       " {'n_topics': 40, 'alpha': 0.025},\n",
       " {'n_topics': 50, 'alpha': 0.02},\n",
       " {'n_topics': 60, 'alpha': 0.016666666666666666},\n",
       " {'n_topics': 70, 'alpha': 0.014285714285714285},\n",
       " {'n_topics': 80, 'alpha': 0.0125},\n",
       " {'n_topics': 90, 'alpha': 0.011111111111111112},\n",
       " {'n_topics': 100, 'alpha': 0.01},\n",
       " {'n_topics': 110, 'alpha': 0.00909090909090909},\n",
       " {'n_topics': 120, 'alpha': 0.008333333333333333}]"
      ]
     },
     "execution_count": 13,
     "metadata": {},
     "output_type": "execute_result"
    }
   ],
   "source": [
    "var_params = [{'n_topics': k, 'alpha': 1/k}\n",
    "               for k in range(20, 121, 10)]\n",
    "var_params"
   ]
  },
  {
   "cell_type": "markdown",
   "metadata": {},
   "source": [
    "The heart of the model evaluation process is the function [evaluate_topic_models](api.rst#tmtoolkit.topicmod.tm_lda.evaluate_topic_models), which is available for all three topic modeling packages. We stick with lda and import that function from [topicmod.tm_lda](api.rst#module-tmtoolkit.topicmod.tm_lda). It is similar to [compute_models_parallel](api.rst#tmtoolkit.topicmod.tm_lda.compute_models_parallel) as it accepts varying and constant hyperparameters. However, it doesn't only compute the models in parallel, but also applies several metrics to these models in order to evaluate them. This can be controlled with the `metric` parameter that accepts a string or a list of strings that specify the used metric(s). These metrics refer to functions that are implemented in [topicmod.evaluate](api.rst#module-tmtoolkit.topicmod.evaluate).\n",
    "\n",
    "Each topic modeling sub-module defines two important sequences: `AVAILABLE_METRICS` and `DEFAULT_METRICS`. The former lists all available metrics for that sub-module, the latter lists the default metrics that are used when you don't specify anything with the `metric` parameter. Let's have a look at both sequences in [topicmod.tm_lda](api.rst#module-tmtoolkit.topicmod.tm_lda):"
   ]
  },
  {
   "cell_type": "code",
   "execution_count": 14,
   "metadata": {
    "execution": {
     "iopub.execute_input": "2023-05-03T13:23:18.503793Z",
     "iopub.status.busy": "2023-05-03T13:23:18.503632Z",
     "iopub.status.idle": "2023-05-03T13:23:18.506759Z",
     "shell.execute_reply": "2023-05-03T13:23:18.506366Z"
    },
    "pycharm": {
     "is_executing": false
    }
   },
   "outputs": [
    {
     "data": {
      "text/plain": [
       "('loglikelihood',\n",
       " 'cao_juan_2009',\n",
       " 'arun_2010',\n",
       " 'coherence_mimno_2011',\n",
       " 'griffiths_2004',\n",
       " 'held_out_documents_wallach09',\n",
       " 'coherence_gensim_u_mass',\n",
       " 'coherence_gensim_c_v',\n",
       " 'coherence_gensim_c_uci',\n",
       " 'coherence_gensim_c_npmi')"
      ]
     },
     "execution_count": 14,
     "metadata": {},
     "output_type": "execute_result"
    }
   ],
   "source": [
    "from tmtoolkit.topicmod import tm_lda\n",
    "\n",
    "tm_lda.AVAILABLE_METRICS"
   ]
  },
  {
   "cell_type": "code",
   "execution_count": 15,
   "metadata": {
    "execution": {
     "iopub.execute_input": "2023-05-03T13:23:18.508259Z",
     "iopub.status.busy": "2023-05-03T13:23:18.507994Z",
     "iopub.status.idle": "2023-05-03T13:23:18.510957Z",
     "shell.execute_reply": "2023-05-03T13:23:18.510537Z"
    },
    "pycharm": {
     "is_executing": false
    }
   },
   "outputs": [
    {
     "data": {
      "text/plain": [
       "('cao_juan_2009', 'coherence_mimno_2011')"
      ]
     },
     "execution_count": 15,
     "metadata": {},
     "output_type": "execute_result"
    }
   ],
   "source": [
    "tm_lda.DEFAULT_METRICS"
   ]
  },
  {
   "cell_type": "markdown",
   "metadata": {},
   "source": [
    "For details about the metrics and the academic references, see the respective implementations in the [topicmod.evaluate](api.rst#module-tmtoolkit.topicmod.evaluate) module.\n",
    "\n",
    "We will now run the model evaluations with [evaluate_topic_models](api.rst#tmtoolkit.topicmod.tm_lda.evaluate_topic_models) using our previously generated list of varying hyperparameters `var_params`, some constant hyperparameters and the default set of metrics. We also set `return_models=True` which means to retain the generated models in the evaluation results. We can see, that we can also pass parameters to the model evaluation functions. Here, we set the `top_n` and `include_prob` parameters for the [metric_coherence_mimno_2011](api.rst#tmtoolkit.topicmod.evaluate.metric_coherence_mimno_2011) evaluation function."
   ]
  },
  {
   "cell_type": "code",
   "execution_count": 16,
   "metadata": {
    "execution": {
     "iopub.execute_input": "2023-05-03T13:23:18.512799Z",
     "iopub.status.busy": "2023-05-03T13:23:18.512581Z",
     "iopub.status.idle": "2023-05-03T13:23:26.388763Z",
     "shell.execute_reply": "2023-05-03T13:23:26.388237Z"
    },
    "pycharm": {
     "is_executing": false
    }
   },
   "outputs": [
    {
     "data": {
      "text/plain": [
       "[({'n_topics': 20,\n",
       "   'alpha': 0.05,\n",
       "   'n_iter': 1000,\n",
       "   'random_state': 20191122,\n",
       "   'eta': 0.1},\n",
       "  {'model': <lda.lda.LDA at 0x7f8a54426080>,\n",
       "   'cao_juan_2009': 0.12552942076573556,\n",
       "   'coherence_mimno_2011': -382.6720144016515}),\n",
       " ({'n_topics': 40,\n",
       "   'alpha': 0.025,\n",
       "   'n_iter': 1000,\n",
       "   'random_state': 20191122,\n",
       "   'eta': 0.1},\n",
       "  {'model': <lda.lda.LDA at 0x7f8a0ad2f490>,\n",
       "   'cao_juan_2009': 0.12268842815551809,\n",
       "   'coherence_mimno_2011': -376.3829891678098}),\n",
       " ({'n_topics': 30,\n",
       "   'alpha': 0.03333333333333333,\n",
       "   'n_iter': 1000,\n",
       "   'random_state': 20191122,\n",
       "   'eta': 0.1},\n",
       "  {'model': <lda.lda.LDA at 0x7f8a0ad2f4f0>,\n",
       "   'cao_juan_2009': 0.12662815448219536,\n",
       "   'coherence_mimno_2011': -377.67258877441253})]"
      ]
     },
     "execution_count": 16,
     "metadata": {},
     "output_type": "execute_result"
    }
   ],
   "source": [
    "from tmtoolkit.topicmod.tm_lda import evaluate_topic_models\n",
    "from tmtoolkit.topicmod.evaluate import results_by_parameter\n",
    "\n",
    "const_params = {\n",
    "    'n_iter': 1000,\n",
    "    'random_state': 20191122,  # to make results reproducible\n",
    "    'eta': 0.1,                # sometimes also called \"beta\"\n",
    "}\n",
    "\n",
    "eval_results = evaluate_topic_models(dtm_bg,\n",
    "                                     varying_parameters=var_params,\n",
    "                                     constant_parameters=const_params,\n",
    "                                     coherence_mimno_2011_top_n=10,\n",
    "                                     coherence_mimno_2011_include_prob=True,\n",
    "                                     return_models=True)\n",
    "eval_results[:3]  # only show first three models"
   ]
  },
  {
   "cell_type": "markdown",
   "metadata": {},
   "source": [
    "The evaluation results are a list with pairs of hyperparameters and their evaluation results for each metric. Additionally, there is the generated model for each hyperparameter set.\n",
    "\n",
    "We now use [results_by_parameter](api.rst#tmtoolkit.topicmod.evaluate.results_by_parameter), which takes the \"raw\" evaluation results and sorts them by a specific hyperparameter, in this case `n_topics`. This is important because this is the way that the function for visualizing evaluation results, [plot_eval_results](api.rst#tmtoolkit.topicmod.visualize.plot_eval_results), expects the input."
   ]
  },
  {
   "cell_type": "code",
   "execution_count": 17,
   "metadata": {
    "execution": {
     "iopub.execute_input": "2023-05-03T13:23:26.390438Z",
     "iopub.status.busy": "2023-05-03T13:23:26.390307Z",
     "iopub.status.idle": "2023-05-03T13:23:26.393456Z",
     "shell.execute_reply": "2023-05-03T13:23:26.393100Z"
    },
    "pycharm": {
     "is_executing": false
    }
   },
   "outputs": [
    {
     "data": {
      "text/plain": [
       "[(20,\n",
       "  {'model': <lda.lda.LDA at 0x7f8a54426080>,\n",
       "   'cao_juan_2009': 0.12552942076573556,\n",
       "   'coherence_mimno_2011': -382.6720144016515}),\n",
       " (30,\n",
       "  {'model': <lda.lda.LDA at 0x7f8a0ad2f4f0>,\n",
       "   'cao_juan_2009': 0.12662815448219536,\n",
       "   'coherence_mimno_2011': -377.67258877441253}),\n",
       " (40,\n",
       "  {'model': <lda.lda.LDA at 0x7f8a0ad2f490>,\n",
       "   'cao_juan_2009': 0.12268842815551809,\n",
       "   'coherence_mimno_2011': -376.3829891678098})]"
      ]
     },
     "execution_count": 17,
     "metadata": {},
     "output_type": "execute_result"
    }
   ],
   "source": [
    "eval_results_by_topics = results_by_parameter(eval_results, 'n_topics')\n",
    "eval_results_by_topics[:3]  # again only the first three models"
   ]
  },
  {
   "cell_type": "markdown",
   "metadata": {},
   "source": [
    "We can now see the results for each metric across the specified range of number of topics using [plot_eval_results](api.rst#tmtoolkit.topicmod.visualize.plot_eval_results):"
   ]
  },
  {
   "cell_type": "code",
   "execution_count": 18,
   "metadata": {
    "execution": {
     "iopub.execute_input": "2023-05-03T13:23:26.394890Z",
     "iopub.status.busy": "2023-05-03T13:23:26.394787Z",
     "iopub.status.idle": "2023-05-03T13:23:26.701993Z",
     "shell.execute_reply": "2023-05-03T13:23:26.701496Z"
    },
    "pycharm": {
     "is_executing": false
    }
   },
   "outputs": [
    {
     "data": {
      "image/png": "[encoded data removed]",
      "text/plain": [
       "<Figure size 600x400 with 2 Axes>"
      ]
     },
     "metadata": {},
     "output_type": "display_data"
    }
   ],
   "source": [
    "from tmtoolkit.topicmod.visualize import plot_eval_results\n",
    "\n",
    "plot_eval_results(eval_results_by_topics);"
   ]
  },
  {
   "cell_type": "markdown",
   "metadata": {},
   "source": [
    "The evaluation metrics seem to agree and show best fits for models with 30 to 70 topics. We would normally investigate a set of models in this range, but for simplicity, lets continue with a model with `n_topics=50` and `alpha=0.02`. We don't have to generate a model with these hyperparameters again, because it's already in the evaluation results (thanks to `return_models=True`). We extract the model from there in order to use it in the rest of the chapter."
   ]
  },
  {
   "cell_type": "code",
   "execution_count": 19,
   "metadata": {
    "execution": {
     "iopub.execute_input": "2023-05-03T13:23:26.704211Z",
     "iopub.status.busy": "2023-05-03T13:23:26.704030Z",
     "iopub.status.idle": "2023-05-03T13:23:26.707474Z",
     "shell.execute_reply": "2023-05-03T13:23:26.707147Z"
    },
    "pycharm": {
     "is_executing": false
    }
   },
   "outputs": [
    {
     "data": {
      "text/plain": [
       "(50, 0.02, 0.1)"
      ]
     },
     "execution_count": 19,
     "metadata": {},
     "output_type": "execute_result"
    }
   ],
   "source": [
    "best_tm = [m for k, m in eval_results_by_topics if k == 50][0]['model']\n",
    "best_tm.n_topics, best_tm.alpha, best_tm.eta  # just to make sure"
   ]
  },
  {
   "cell_type": "markdown",
   "metadata": {},
   "source": [
    "## Common statistics and tools for topic models\n",
    "\n",
    "The [topicmod.model_stats](api.rst#module-tmtoolkit.topicmod.model_stats) module mostly contains functions that compute statistics from the document-topic and topic-word distribution of a topic model and also some helper functions for working with such distributions. We'll start with an important helper function, [generate_topic_labels_from_top_words](api.rst#tmtoolkit.topicmod.model_stats.generate_topic_labels_from_top_words)."
   ]
  },
  {
   "cell_type": "markdown",
   "metadata": {},
   "source": [
    "### Generating labels for topics\n",
    "\n",
    "In topic modeling, topics are numbered because they're *abstract* – they're simply a probability distribution across all words in the vocabulary. Still, it's useful to give them labels for better identification. The function [generate_topic_labels_from_top_words](api.rst#tmtoolkit.topicmod.model_stats.generate_topic_labels_from_top_words) is very useful for that, as it finds labels according to the most \"relevant\" words in each topic. We'll later see how we can identify the most relevant words per topic using a special [relevance statistic](#Topic-word-relevance). Note that you can adjust the weight of the relevance measure for the ranking by using the parameter `lambda_` which is in range $[0, 1]$.\n",
    "\n",
    "The function requires at least the topic-word and document-topic distributions from the model, the document lengths and the vocabulary. It then finds the minimum number of relevant words that uniquely label each topic. You can also use a fixed number for that minimum number with the parameter `n_words`."
   ]
  },
  {
   "cell_type": "code",
   "execution_count": 20,
   "metadata": {
    "execution": {
     "iopub.execute_input": "2023-05-03T13:23:26.709136Z",
     "iopub.status.busy": "2023-05-03T13:23:26.708888Z",
     "iopub.status.idle": "2023-05-03T13:23:26.722495Z",
     "shell.execute_reply": "2023-05-03T13:23:26.722092Z"
    },
    "pycharm": {
     "is_executing": false
    }
   },
   "outputs": [
    {
     "data": {
      "text/plain": [
       "array(['1_justice_charge', '2_north_post', '3_error_night',\n",
       "       '4_sanction_action', '5_play_win', '6_say_issue', '7_shoot_police',\n",
       "       '8_attack_group', '9_hope_family', '10_morning_day'], dtype='<U23')"
      ]
     },
     "execution_count": 20,
     "metadata": {},
     "output_type": "execute_result"
    }
   ],
   "source": [
    "from tmtoolkit.bow.bow_stats import doc_lengths\n",
    "from tmtoolkit.topicmod.model_stats import generate_topic_labels_from_top_words\n",
    "\n",
    "vocab_bg = np.array(vocab_bg)   # we need this to be an array\n",
    "\n",
    "doc_lengths_bg = doc_lengths(dtm_bg)\n",
    "topic_labels = generate_topic_labels_from_top_words(\n",
    "    best_tm.topic_word_,\n",
    "    best_tm.doc_topic_,\n",
    "    doc_lengths_bg,\n",
    "    np.array(vocab_bg),\n",
    "    lambda_=0.6\n",
    ")\n",
    "\n",
    "topic_labels[:10]   # showing only the first 5 topics here"
   ]
  },
  {
   "cell_type": "markdown",
   "metadata": {},
   "source": [
    "As we can see, two words are necessary to label each topic uniquely. By default, each label is prefixed with a number. You can change that with the parameter `labels_format`.\n",
    "\n",
    "Let's have a look at the top words for a specific topic. We can use [ldamodel_top_topic_words](api.rst#tmtoolkit.topicmod.model_io.ldamodel_top_topic_words) for that from the module [topicmod.model_io](api.rst#module-tmtoolkit.topicmod.model_io), which we will have a closer look at [later](#Displaying-and-exporting-topic-modeling-results):"
   ]
  },
  {
   "cell_type": "code",
   "execution_count": 21,
   "metadata": {
    "execution": {
     "iopub.execute_input": "2023-05-03T13:23:26.723973Z",
     "iopub.status.busy": "2023-05-03T13:23:26.723741Z",
     "iopub.status.idle": "2023-05-03T13:23:26.749196Z",
     "shell.execute_reply": "2023-05-03T13:23:26.748719Z"
    },
    "pycharm": {
     "is_executing": false
    }
   },
   "outputs": [
    {
     "data": {
      "text/html": [
       "<div>\n",
       "<style scoped>\n",
       "    .dataframe tbody tr th:only-of-type {\n",
       "        vertical-align: middle;\n",
       "    }\n",
       "\n",
       "    .dataframe tbody tr th {\n",
       "        vertical-align: top;\n",
       "    }\n",
       "\n",
       "    .dataframe thead th {\n",
       "        text-align: right;\n",
       "    }\n",
       "</style>\n",
       "<table border=\"1\" class=\"dataframe\">\n",
       "  <thead>\n",
       "    <tr style=\"text-align: right;\">\n",
       "      <th></th>\n",
       "      <th>rank_1</th>\n",
       "      <th>rank_2</th>\n",
       "      <th>rank_3</th>\n",
       "      <th>rank_4</th>\n",
       "      <th>rank_5</th>\n",
       "      <th>rank_6</th>\n",
       "      <th>rank_7</th>\n",
       "      <th>rank_8</th>\n",
       "      <th>rank_9</th>\n",
       "      <th>rank_10</th>\n",
       "    </tr>\n",
       "    <tr>\n",
       "      <th>topic</th>\n",
       "      <th></th>\n",
       "      <th></th>\n",
       "      <th></th>\n",
       "      <th></th>\n",
       "      <th></th>\n",
       "      <th></th>\n",
       "      <th></th>\n",
       "      <th></th>\n",
       "      <th></th>\n",
       "      <th></th>\n",
       "    </tr>\n",
       "  </thead>\n",
       "  <tbody>\n",
       "    <tr>\n",
       "      <th>7_shoot_police</th>\n",
       "      <td>say (0.06056)</td>\n",
       "      <td>police (0.05721)</td>\n",
       "      <td>shoot (0.03714)</td>\n",
       "      <td>man (0.0271)</td>\n",
       "      <td>morning (0.0271)</td>\n",
       "      <td>individual (0.02375)</td>\n",
       "      <td>operation (0.01706)</td>\n",
       "      <td>office (0.01706)</td>\n",
       "      <td>press (0.01706)</td>\n",
       "      <td>officer (0.01706)</td>\n",
       "    </tr>\n",
       "  </tbody>\n",
       "</table>\n",
       "</div>"
      ],
      "text/plain": [
       "                       rank_1            rank_2           rank_3  \\\n",
       "topic                                                              \n",
       "7_shoot_police  say (0.06056)  police (0.05721)  shoot (0.03714)   \n",
       "\n",
       "                      rank_4            rank_5                rank_6  \\\n",
       "topic                                                                  \n",
       "7_shoot_police  man (0.0271)  morning (0.0271)  individual (0.02375)   \n",
       "\n",
       "                             rank_7            rank_8           rank_9  \\\n",
       "topic                                                                    \n",
       "7_shoot_police  operation (0.01706)  office (0.01706)  press (0.01706)   \n",
       "\n",
       "                          rank_10  \n",
       "topic                              \n",
       "7_shoot_police  officer (0.01706)  "
      ]
     },
     "execution_count": 21,
     "metadata": {},
     "output_type": "execute_result"
    }
   ],
   "source": [
    "from tmtoolkit.topicmod.model_io import ldamodel_top_topic_words\n",
    "\n",
    "top_topic_word = ldamodel_top_topic_words(best_tm.topic_word_,\n",
    "                                          vocab_bg,\n",
    "                                          row_labels=topic_labels)\n",
    "top_topic_word[top_topic_word.index == '7_shoot_police']"
   ]
  },
  {
   "cell_type": "markdown",
   "metadata": {},
   "source": [
    "### Marginal topic and word distributions\n",
    "\n",
    "We'll now focus on the marginal topic and word distributions. Let's get the marginal topic distribution first by using [marginal_topic_distrib](api.rst#tmtoolkit.topicmod.model_stats.marginal_topic_distrib):"
   ]
  },
  {
   "cell_type": "code",
   "execution_count": 22,
   "metadata": {
    "execution": {
     "iopub.execute_input": "2023-05-03T13:23:26.750861Z",
     "iopub.status.busy": "2023-05-03T13:23:26.750697Z",
     "iopub.status.idle": "2023-05-03T13:23:26.754191Z",
     "shell.execute_reply": "2023-05-03T13:23:26.753786Z"
    },
    "pycharm": {
     "is_executing": false
    }
   },
   "outputs": [
    {
     "data": {
      "text/plain": [
       "array([0.01326, 0.0101 , 0.01326, 0.01243, 0.01669, 0.03903, 0.01335,\n",
       "       0.02143, 0.01505, 0.01166, 0.02023, 0.00638, 0.01657, 0.02442,\n",
       "       0.01864, 0.01632, 0.0353 , 0.01557, 0.02558, 0.03151, 0.07525,\n",
       "       0.03137, 0.03799, 0.01722, 0.03849, 0.01601, 0.01176, 0.02722,\n",
       "       0.01473, 0.01371, 0.01834, 0.02296, 0.01685, 0.01186, 0.01732,\n",
       "       0.01836, 0.00658, 0.00946, 0.02799, 0.01426, 0.02066, 0.01451,\n",
       "       0.02185, 0.01681, 0.01152, 0.02701, 0.02122, 0.00784, 0.0203 ,\n",
       "       0.01379])"
      ]
     },
     "execution_count": 22,
     "metadata": {},
     "output_type": "execute_result"
    }
   ],
   "source": [
    "from tmtoolkit.topicmod.model_stats import marginal_topic_distrib\n",
    "\n",
    "marg_topic = marginal_topic_distrib(best_tm.doc_topic_, doc_lengths_bg)\n",
    "marg_topic"
   ]
  },
  {
   "cell_type": "markdown",
   "metadata": {},
   "source": [
    "The marginal topic distribution can be interpreted as the \"importance\" of each topic for the whole corpus. Let's get the sorted indices into `topic_labels` with `np.argsort` and get the top five topics:"
   ]
  },
  {
   "cell_type": "code",
   "execution_count": 23,
   "metadata": {
    "execution": {
     "iopub.execute_input": "2023-05-03T13:23:26.755700Z",
     "iopub.status.busy": "2023-05-03T13:23:26.755446Z",
     "iopub.status.idle": "2023-05-03T13:23:26.758204Z",
     "shell.execute_reply": "2023-05-03T13:23:26.757857Z"
    },
    "pycharm": {
     "is_executing": false
    }
   },
   "outputs": [
    {
     "data": {
      "text/plain": [
       "array(['21_year_time', '6_say_issue', '25_america_american',\n",
       "       '23_white_trump', '17_country_love'], dtype='<U23')"
      ]
     },
     "execution_count": 23,
     "metadata": {},
     "output_type": "execute_result"
    }
   ],
   "source": [
    "# np.argsort gives ascending order, hence reverse via [::-1]\n",
    "topic_labels[np.argsort(marg_topic)[::-1][:5]]"
   ]
  },
  {
   "cell_type": "markdown",
   "metadata": {},
   "source": [
    "Likewise, we can get the marginal word distribution with [marginal_word_distrib](api.rst#tmtoolkit.topicmod.model_stats.marginal_word_distrib) from the model's topic-word distribution and the marginal topic distribution. We'll use this to list the most probable words for the corpus. As expected, these are mostly quite common words:"
   ]
  },
  {
   "cell_type": "code",
   "execution_count": 24,
   "metadata": {
    "execution": {
     "iopub.execute_input": "2023-05-03T13:23:26.759356Z",
     "iopub.status.busy": "2023-05-03T13:23:26.759236Z",
     "iopub.status.idle": "2023-05-03T13:23:26.762165Z",
     "shell.execute_reply": "2023-05-03T13:23:26.761828Z"
    },
    "pycharm": {
     "is_executing": false
    }
   },
   "outputs": [
    {
     "data": {
      "text/plain": [
       "array(['say', 'year', 'people', 'country', 'new', 'time', 'trump',\n",
       "       'report', 'china', 'president'], dtype='<U14')"
      ]
     },
     "execution_count": 24,
     "metadata": {},
     "output_type": "execute_result"
    }
   ],
   "source": [
    "from tmtoolkit.topicmod.model_stats import marginal_word_distrib\n",
    "\n",
    "marg_word = marginal_word_distrib(best_tm.topic_word_, marg_topic)\n",
    "vocab_bg[np.argsort(marg_word)[::-1][:10]]"
   ]
  },
  {
   "cell_type": "markdown",
   "metadata": {},
   "source": [
    "Two helper functions exist for this purpose: [most_probable_words](api.rst#tmtoolkit.topicmod.model_stats.most_probable_words) and [least_probable_words](api.rst#tmtoolkit.topicmod.model_stats.least_probable_words) sort the vocabulary according to the marginal probability:"
   ]
  },
  {
   "cell_type": "code",
   "execution_count": 25,
   "metadata": {
    "execution": {
     "iopub.execute_input": "2023-05-03T13:23:26.763276Z",
     "iopub.status.busy": "2023-05-03T13:23:26.763157Z",
     "iopub.status.idle": "2023-05-03T13:23:26.766152Z",
     "shell.execute_reply": "2023-05-03T13:23:26.765783Z"
    },
    "pycharm": {
     "is_executing": false
    }
   },
   "outputs": [
    {
     "data": {
      "text/plain": [
       "array(['say', 'year', 'people', 'country', 'new', 'time', 'trump',\n",
       "       'report', 'china', 'president'], dtype='<U14')"
      ]
     },
     "execution_count": 25,
     "metadata": {},
     "output_type": "execute_result"
    }
   ],
   "source": [
    "from tmtoolkit.topicmod.model_stats import most_probable_words, least_probable_words\n",
    "\n",
    "most_probable_words(vocab_bg, best_tm.topic_word_,\n",
    "                    best_tm.doc_topic_, doc_lengths_bg,\n",
    "                    n=10)"
   ]
  },
  {
   "cell_type": "code",
   "execution_count": 26,
   "metadata": {
    "execution": {
     "iopub.execute_input": "2023-05-03T13:23:26.767341Z",
     "iopub.status.busy": "2023-05-03T13:23:26.767242Z",
     "iopub.status.idle": "2023-05-03T13:23:26.769945Z",
     "shell.execute_reply": "2023-05-03T13:23:26.769632Z"
    },
    "pycharm": {
     "is_executing": false
    }
   },
   "outputs": [
    {
     "data": {
      "text/plain": [
       "array(['urge', 'reveal', 'conduct', 'indicate', 'seven', 'controversial',\n",
       "       'analysis', 'argue', 'associate', 'guarantee'], dtype='<U14')"
      ]
     },
     "execution_count": 26,
     "metadata": {},
     "output_type": "execute_result"
    }
   ],
   "source": [
    "least_probable_words(vocab_bg, best_tm.topic_word_,\n",
    "                     best_tm.doc_topic_, doc_lengths_bg,\n",
    "                     n=10)"
   ]
  },
  {
   "cell_type": "markdown",
   "metadata": {},
   "source": [
    "### Word distinctiveness and saliency\n",
    "\n",
    "Word *distinctiveness* and *saliency* (see below) help to identify the most \"informative\" words in a corpus given its topic model. Both measures are introduced in [Chuang et al. 2012](https://dl.acm.org/citation.cfm?id=2254572).\n",
    "\n",
    "Word distinctiveness is calculated for each word $w$ as\n",
    "\n",
    "$\\text{distinctiveness}(w) = \\sum_T(P(T|w) \\log \\frac{P(T|w)}{P(T)})$.\n",
    "\n",
    "where $P(T)$ is the marginal topic distribution and $P(T|w)$ is the probability of a topic given a word $w$.\n",
    "\n",
    "We can calculate this measure using [word_distinctiveness](api.rst#tmtoolkit.topicmod.model_stats.word_distinctiveness). To use this measure directly to rank words, we can use [most_distinct_words](api.rst#tmtoolkit.topicmod.model_stats.most_distinct_words) and [least_distinct_words](api.rst#tmtoolkit.topicmod.model_stats.least_distinct_words):"
   ]
  },
  {
   "cell_type": "code",
   "execution_count": 27,
   "metadata": {
    "execution": {
     "iopub.execute_input": "2023-05-03T13:23:26.771313Z",
     "iopub.status.busy": "2023-05-03T13:23:26.771059Z",
     "iopub.status.idle": "2023-05-03T13:23:26.774187Z",
     "shell.execute_reply": "2023-05-03T13:23:26.773851Z"
    },
    "pycharm": {
     "is_executing": false
    }
   },
   "outputs": [
    {
     "data": {
      "text/plain": [
       "array([0.78729, 1.72026, 1.02646, 1.08976, 1.46623, 0.75563, 0.9307 ,\n",
       "       0.79992, 1.37157, 1.40561])"
      ]
     },
     "execution_count": 27,
     "metadata": {},
     "output_type": "execute_result"
    }
   ],
   "source": [
    "from tmtoolkit.topicmod.model_stats import word_distinctiveness, \\\n",
    "    most_distinct_words, least_distinct_words\n",
    "\n",
    "word_distinct = word_distinctiveness(best_tm.topic_word_, marg_topic)\n",
    "word_distinct[:10]   # first 10 words in vocab"
   ]
  },
  {
   "cell_type": "code",
   "execution_count": 28,
   "metadata": {
    "execution": {
     "iopub.execute_input": "2023-05-03T13:23:26.775346Z",
     "iopub.status.busy": "2023-05-03T13:23:26.775226Z",
     "iopub.status.idle": "2023-05-03T13:23:26.777994Z",
     "shell.execute_reply": "2023-05-03T13:23:26.777699Z"
    },
    "pycharm": {
     "is_executing": false
    }
   },
   "outputs": [
    {
     "data": {
      "text/plain": [
       "array(['north', 'bank', 'flight', 'china', 'space', 'judge', 'justice',\n",
       "       'display', 'relation', 'morning'], dtype='<U14')"
      ]
     },
     "execution_count": 28,
     "metadata": {},
     "output_type": "execute_result"
    }
   ],
   "source": [
    "most_distinct_words(vocab_bg, best_tm.topic_word_,\n",
    "                    best_tm.doc_topic_, doc_lengths_bg,\n",
    "                    n=10)"
   ]
  },
  {
   "cell_type": "code",
   "execution_count": 29,
   "metadata": {
    "execution": {
     "iopub.execute_input": "2023-05-03T13:23:26.779426Z",
     "iopub.status.busy": "2023-05-03T13:23:26.779196Z",
     "iopub.status.idle": "2023-05-03T13:23:26.782150Z",
     "shell.execute_reply": "2023-05-03T13:23:26.781814Z"
    },
    "pycharm": {
     "is_executing": false
    }
   },
   "outputs": [
    {
     "data": {
      "text/plain": [
       "array(['rely', 'series', 'ready', 'discussion', 'saturday', 'adopt',\n",
       "       'ago', 'well', 'sure', 'away'], dtype='<U14')"
      ]
     },
     "execution_count": 29,
     "metadata": {},
     "output_type": "execute_result"
    }
   ],
   "source": [
    "least_distinct_words(vocab_bg, best_tm.topic_word_,\n",
    "                     best_tm.doc_topic_, doc_lengths_bg,\n",
    "                     n=10)"
   ]
  },
  {
   "cell_type": "markdown",
   "metadata": {},
   "source": [
    "Word *saliency* weights each words' distinctiveness by it's marginal probability $P(w)$:\n",
    "\n",
    "$\\text{saliency}(w) = P(w) \\cdot \\text{distinctiveness}(w)$.\n",
    "\n",
    "The respective functions in tmtoolkit are [word_saliency](api.rst#tmtoolkit.topicmod.model_stats.word_saliency), [most_salient_words](api.rst#tmtoolkit.topicmod.model_stats.most_salient_words) and [least_salient_words](api.rst#tmtoolkit.topicmod.model_stats.least_salient_words):"
   ]
  },
  {
   "cell_type": "code",
   "execution_count": 30,
   "metadata": {
    "execution": {
     "iopub.execute_input": "2023-05-03T13:23:26.783392Z",
     "iopub.status.busy": "2023-05-03T13:23:26.783214Z",
     "iopub.status.idle": "2023-05-03T13:23:26.786259Z",
     "shell.execute_reply": "2023-05-03T13:23:26.785948Z"
    },
    "pycharm": {
     "is_executing": false
    }
   },
   "outputs": [
    {
     "data": {
      "text/plain": [
       "array([0.00079, 0.00182, 0.0008 , 0.00085, 0.00081, 0.00061, 0.00065,\n",
       "       0.00048, 0.00095, 0.00098])"
      ]
     },
     "execution_count": 30,
     "metadata": {},
     "output_type": "execute_result"
    }
   ],
   "source": [
    "from tmtoolkit.topicmod.model_stats import word_saliency, \\\n",
    "    most_salient_words, least_salient_words\n",
    "\n",
    "word_sal = word_saliency(best_tm.topic_word_, best_tm.doc_topic_, doc_lengths_bg)\n",
    "word_sal[:10]   # first 10 words in vocab"
   ]
  },
  {
   "cell_type": "code",
   "execution_count": 31,
   "metadata": {
    "execution": {
     "iopub.execute_input": "2023-05-03T13:23:26.787475Z",
     "iopub.status.busy": "2023-05-03T13:23:26.787348Z",
     "iopub.status.idle": "2023-05-03T13:23:26.790287Z",
     "shell.execute_reply": "2023-05-03T13:23:26.789990Z"
    },
    "pycharm": {
     "is_executing": false
    }
   },
   "outputs": [
    {
     "data": {
      "text/plain": [
       "array(['say', 'china', 'trump', 'year', 'country', 'people', 'report',\n",
       "       'president', 'new', 'company'], dtype='<U14')"
      ]
     },
     "execution_count": 31,
     "metadata": {},
     "output_type": "execute_result"
    }
   ],
   "source": [
    "most_salient_words(vocab_bg, best_tm.topic_word_,\n",
    "                   best_tm.doc_topic_, doc_lengths_bg,\n",
    "                   n=10)"
   ]
  },
  {
   "cell_type": "code",
   "execution_count": 32,
   "metadata": {
    "execution": {
     "iopub.execute_input": "2023-05-03T13:23:26.791431Z",
     "iopub.status.busy": "2023-05-03T13:23:26.791332Z",
     "iopub.status.idle": "2023-05-03T13:23:26.794252Z",
     "shell.execute_reply": "2023-05-03T13:23:26.793920Z"
    },
    "pycharm": {
     "is_executing": false
    }
   },
   "outputs": [
    {
     "data": {
      "text/plain": [
       "array(['series', 'rely', 'discussion', 'adopt', 'ready', 'avoid', 'sure',\n",
       "       'saturday', 'theme', 'reportedly'], dtype='<U14')"
      ]
     },
     "execution_count": 32,
     "metadata": {},
     "output_type": "execute_result"
    }
   ],
   "source": [
    "least_salient_words(vocab_bg, best_tm.topic_word_,\n",
    "                    best_tm.doc_topic_, doc_lengths_bg,\n",
    "                    n=10)"
   ]
  },
  {
   "cell_type": "markdown",
   "metadata": {},
   "source": [
    "### Topic-word relevance\n",
    "\n",
    "The topic-word relevance measure as introduced by [Sievert and Shirley 2014](https://www.aclweb.org/anthology/W14-3110/) helps to identify the most relevant words within a topic by also accounting for the marginal probability of each word across the corpus. This is done by integrating a *lift* value, which is the \"ratio of a term's probability within a topic to its marginal probability across the corpus.\" (ibid.)\n",
    "\n",
    "Thus for each word $w$, given a topic-word distribution $\\phi$, a topic $t$ and a weight parameter $\\lambda$, it is calculated as:\n",
    "\n",
    "$\\text{relevance}_{\\phi, \\lambda}(w, t) = \\lambda \\log \\phi_{t,w} + (1-\\lambda) \\log \\frac{\\phi_{t,w}}{p(w)}$.\n",
    "\n",
    "The first term $\\log \\phi_{t,w}$ is the log of the topic-word distribution, the second term $\\log \\frac{\\phi_{t,w}}{p(w)}$ is the *log lift* and $\\lambda$ can be used to control the weight between both terms. The lower $\\lambda$, the more weight is put on the lift term, i.e. the more different are the results from the original topic-word distribution.\n",
    "\n",
    "This measure is implemented in [topic_word_relevance](api.rst#tmtoolkit.topicmod.model_stats.topic_word_relevance). It returns a matrix of the same shape as the topic-word distribution, i.e. each row represents a topic with a (log-transformed) distribution across all words in the vocabulary. Please note that the lambda parameter ends with an underscore: `lambda_`."
   ]
  },
  {
   "cell_type": "code",
   "execution_count": 33,
   "metadata": {
    "execution": {
     "iopub.execute_input": "2023-05-03T13:23:26.795520Z",
     "iopub.status.busy": "2023-05-03T13:23:26.795417Z",
     "iopub.status.idle": "2023-05-03T13:23:26.798584Z",
     "shell.execute_reply": "2023-05-03T13:23:26.798248Z"
    },
    "pycharm": {
     "is_executing": false
    }
   },
   "outputs": [
    {
     "data": {
      "text/plain": [
       "array([[-5.23465, -5.25598, -5.13452, ..., -6.14689, -5.22336, -5.40088],\n",
       "       [-5.04211, -5.06343, -4.94197, ..., -5.95435, -5.03081, -5.20834],\n",
       "       [-5.23465, -5.25598, -5.13452, ..., -6.14689, -5.22336, -5.40088],\n",
       "       ...,\n",
       "       [-4.87349, -1.18125, -4.77336, ..., -3.38784, -4.8622 , -5.03972],\n",
       "       [-5.56688, -5.58821, -5.46674, ..., -1.96826, -5.55559, -5.73311],\n",
       "       [-5.26451, -5.28584, -5.16438, ..., -6.17675, -5.25322, -5.43074]])"
      ]
     },
     "execution_count": 33,
     "metadata": {},
     "output_type": "execute_result"
    }
   ],
   "source": [
    "from tmtoolkit.topicmod.model_stats import topic_word_relevance\n",
    "\n",
    "topic_word_rel = topic_word_relevance(best_tm.topic_word_, best_tm.doc_topic_,\n",
    "                                      doc_lengths_bg, lambda_=0.6)\n",
    "topic_word_rel"
   ]
  },
  {
   "cell_type": "markdown",
   "metadata": {},
   "source": [
    "To confirm that it's 50 topics across all words in the vocabulary:"
   ]
  },
  {
   "cell_type": "code",
   "execution_count": 34,
   "metadata": {
    "execution": {
     "iopub.execute_input": "2023-05-03T13:23:26.799814Z",
     "iopub.status.busy": "2023-05-03T13:23:26.799721Z",
     "iopub.status.idle": "2023-05-03T13:23:26.802081Z",
     "shell.execute_reply": "2023-05-03T13:23:26.801763Z"
    },
    "pycharm": {
     "is_executing": false
    }
   },
   "outputs": [
    {
     "data": {
      "text/plain": [
       "(50, 789)"
      ]
     },
     "execution_count": 34,
     "metadata": {},
     "output_type": "execute_result"
    }
   ],
   "source": [
    "topic_word_rel.shape"
   ]
  },
  {
   "cell_type": "markdown",
   "metadata": {},
   "source": [
    "Two functions can be used to get the most or least relevant words for a topic: [most_relevant_words_for_topic](api.rst#tmtoolkit.topicmod.model_stats.most_relevant_words_for_topic) and [least_relevant_words_for_topic](api.rst#tmtoolkit.topicmod.model_stats.least_relevant_words_for_topic). You can select the topic with the `topic` parameter which is a **zero-based topic index**.\n",
    "\n",
    "We'll do it for topic with index 9, which is:"
   ]
  },
  {
   "cell_type": "code",
   "execution_count": 35,
   "metadata": {
    "execution": {
     "iopub.execute_input": "2023-05-03T13:23:26.803313Z",
     "iopub.status.busy": "2023-05-03T13:23:26.803186Z",
     "iopub.status.idle": "2023-05-03T13:23:26.805666Z",
     "shell.execute_reply": "2023-05-03T13:23:26.805340Z"
    },
    "pycharm": {
     "is_executing": false
    }
   },
   "outputs": [
    {
     "data": {
      "text/plain": [
       "'10_morning_day'"
      ]
     },
     "execution_count": 35,
     "metadata": {},
     "output_type": "execute_result"
    }
   ],
   "source": [
    "topic_labels[9]"
   ]
  },
  {
   "cell_type": "code",
   "execution_count": 36,
   "metadata": {
    "execution": {
     "iopub.execute_input": "2023-05-03T13:23:26.806929Z",
     "iopub.status.busy": "2023-05-03T13:23:26.806805Z",
     "iopub.status.idle": "2023-05-03T13:23:26.809540Z",
     "shell.execute_reply": "2023-05-03T13:23:26.809207Z"
    },
    "pycharm": {
     "is_executing": false
    }
   },
   "outputs": [
    {
     "data": {
      "text/plain": [
       "array(['morning', 'day', 'partner', 'start', 'walk', 'likely', 'chance',\n",
       "       'help', 'foot', 'boost'], dtype='<U14')"
      ]
     },
     "execution_count": 36,
     "metadata": {},
     "output_type": "execute_result"
    }
   ],
   "source": [
    "from tmtoolkit.topicmod.model_stats import most_relevant_words_for_topic, \\\n",
    "    least_relevant_words_for_topic\n",
    "\n",
    "most_relevant_words_for_topic(vocab_bg, topic_word_rel, topic=9, n=10)"
   ]
  },
  {
   "cell_type": "code",
   "execution_count": 37,
   "metadata": {
    "execution": {
     "iopub.execute_input": "2023-05-03T13:23:26.810863Z",
     "iopub.status.busy": "2023-05-03T13:23:26.810685Z",
     "iopub.status.idle": "2023-05-03T13:23:26.813252Z",
     "shell.execute_reply": "2023-05-03T13:23:26.812959Z"
    },
    "pycharm": {
     "is_executing": false
    }
   },
   "outputs": [
    {
     "data": {
      "text/plain": [
       "array(['say', 'year', 'people', 'country', 'new', 'time', 'trump',\n",
       "       'report', 'china', 'president'], dtype='<U14')"
      ]
     },
     "execution_count": 37,
     "metadata": {},
     "output_type": "execute_result"
    }
   ],
   "source": [
    "least_relevant_words_for_topic(vocab_bg, topic_word_rel, topic=9, n=10)"
   ]
  },
  {
   "cell_type": "markdown",
   "metadata": {},
   "source": [
    "### Topic coherence\n",
    "\n",
    "We already used the *coherence* metric ([Mimno et al. 2011](https://dl.acm.org/citation.cfm?id=2145462)) for topic model evaluation. However, this metric cannot only be used to assess the overall quality of a topic model, but also to evaluate the individual topics' coherence."
   ]
  },
  {
   "cell_type": "code",
   "execution_count": 38,
   "metadata": {
    "execution": {
     "iopub.execute_input": "2023-05-03T13:23:26.814534Z",
     "iopub.status.busy": "2023-05-03T13:23:26.814412Z",
     "iopub.status.idle": "2023-05-03T13:23:26.851429Z",
     "shell.execute_reply": "2023-05-03T13:23:26.850913Z"
    }
   },
   "outputs": [
    {
     "data": {
      "text/plain": [
       "array([-381.19764, -405.21699, -385.14085, -382.9605 , -377.73554,\n",
       "       -385.5327 , -381.7741 , -366.53703, -384.22751, -387.94505,\n",
       "       -374.08057, -377.80028, -369.7097 , -368.60895, -393.62278,\n",
       "       -402.06989, -356.06615, -373.96911, -339.94301, -350.93052,\n",
       "       -345.55067, -349.02383, -350.14311, -365.86664, -373.2819 ,\n",
       "       -368.1276 , -399.61229, -371.58258, -381.01624, -407.47346,\n",
       "       -376.48966, -390.12855, -405.42291, -387.12314, -361.73032,\n",
       "       -372.84445, -393.99511, -380.1421 , -370.90795, -367.79897,\n",
       "       -381.71496, -373.34488, -358.05694, -366.27945, -367.27849,\n",
       "       -389.31761, -368.70005, -406.87429, -381.88397, -370.53712])"
      ]
     },
     "execution_count": 38,
     "metadata": {},
     "output_type": "execute_result"
    }
   ],
   "source": [
    "from tmtoolkit.topicmod.evaluate import metric_coherence_mimno_2011\n",
    "\n",
    "# use top 20 words per topic for metric\n",
    "coh = metric_coherence_mimno_2011(best_tm.topic_word_, dtm_bg, top_n=10, include_prob=True)\n",
    "coh"
   ]
  },
  {
   "cell_type": "markdown",
   "metadata": {},
   "source": [
    "This generates a coherence value for each topic. Let's show the distribution of these values:"
   ]
  },
  {
   "cell_type": "code",
   "execution_count": 39,
   "metadata": {
    "execution": {
     "iopub.execute_input": "2023-05-03T13:23:26.852997Z",
     "iopub.status.busy": "2023-05-03T13:23:26.852891Z",
     "iopub.status.idle": "2023-05-03T13:23:26.923534Z",
     "shell.execute_reply": "2023-05-03T13:23:26.922969Z"
    }
   },
   "outputs": [
    {
     "data": {
      "image/png": "[encoded data removed]",
      "text/plain": [
       "<Figure size 640x480 with 1 Axes>"
      ]
     },
     "metadata": {},
     "output_type": "display_data"
    }
   ],
   "source": [
    "import matplotlib.pyplot as plt\n",
    "\n",
    "plt.hist(coh, bins=20)\n",
    "plt.xlabel('coherence')\n",
    "plt.ylabel('n')\n",
    "plt.show();"
   ]
  },
  {
   "cell_type": "markdown",
   "metadata": {},
   "source": [
    "And print the best and worst topics according to this metric:"
   ]
  },
  {
   "cell_type": "code",
   "execution_count": 40,
   "metadata": {
    "execution": {
     "iopub.execute_input": "2023-05-03T13:23:26.925332Z",
     "iopub.status.busy": "2023-05-03T13:23:26.925185Z",
     "iopub.status.idle": "2023-05-03T13:23:26.928169Z",
     "shell.execute_reply": "2023-05-03T13:23:26.927868Z"
    }
   },
   "outputs": [
    {
     "data": {
      "text/plain": [
       "array(['19_al_syrian', '21_year_time', '22_china_chinese',\n",
       "       '23_white_trump', '20_report_agency', '17_country_love',\n",
       "       '43_russian_moscow', '35_intelligence_russia', '24_parent_child',\n",
       "       '44_bill_health'], dtype='<U23')"
      ]
     },
     "execution_count": 40,
     "metadata": {},
     "output_type": "execute_result"
    }
   ],
   "source": [
    "import numpy as np\n",
    "\n",
    "top10_t_indices = np.argsort(coh)[::-1][:10]\n",
    "bottom10_t_indices = np.argsort(coh)[:10]\n",
    "\n",
    "topic_labels[top10_t_indices]"
   ]
  },
  {
   "cell_type": "code",
   "execution_count": 41,
   "metadata": {
    "execution": {
     "iopub.execute_input": "2023-05-03T13:23:26.929753Z",
     "iopub.status.busy": "2023-05-03T13:23:26.929517Z",
     "iopub.status.idle": "2023-05-03T13:23:26.932021Z",
     "shell.execute_reply": "2023-05-03T13:23:26.931723Z"
    }
   },
   "outputs": [
    {
     "data": {
      "text/plain": [
       "array(['30_step_authority', '48_bank_asset', '33_force_group',\n",
       "       '2_north_post', '16_2011_people', '27_space_european',\n",
       "       '37_relation_contact', '15_club_institute', '32_fight_provide',\n",
       "       '46_say_mr'], dtype='<U23')"
      ]
     },
     "execution_count": 41,
     "metadata": {},
     "output_type": "execute_result"
    }
   ],
   "source": [
    "topic_labels[bottom10_t_indices]"
   ]
  },
  {
   "cell_type": "markdown",
   "metadata": {},
   "source": [
    "Note that this metric also doesn't spare oneself careful manual evaluation, because it can also be off for some topics. For example, topic `21_year_time` is certainly not a coherent topic as it mostly ranks very common but less meaningful words high:"
   ]
  },
  {
   "cell_type": "code",
   "execution_count": 42,
   "metadata": {
    "execution": {
     "iopub.execute_input": "2023-05-03T13:23:26.933472Z",
     "iopub.status.busy": "2023-05-03T13:23:26.933304Z",
     "iopub.status.idle": "2023-05-03T13:23:26.938314Z",
     "shell.execute_reply": "2023-05-03T13:23:26.938014Z"
    }
   },
   "outputs": [
    {
     "data": {
      "text/html": [
       "<div>\n",
       "<style scoped>\n",
       "    .dataframe tbody tr th:only-of-type {\n",
       "        vertical-align: middle;\n",
       "    }\n",
       "\n",
       "    .dataframe tbody tr th {\n",
       "        vertical-align: top;\n",
       "    }\n",
       "\n",
       "    .dataframe thead th {\n",
       "        text-align: right;\n",
       "    }\n",
       "</style>\n",
       "<table border=\"1\" class=\"dataframe\">\n",
       "  <thead>\n",
       "    <tr style=\"text-align: right;\">\n",
       "      <th></th>\n",
       "      <th>rank_1</th>\n",
       "      <th>rank_2</th>\n",
       "      <th>rank_3</th>\n",
       "      <th>rank_4</th>\n",
       "      <th>rank_5</th>\n",
       "      <th>rank_6</th>\n",
       "      <th>rank_7</th>\n",
       "      <th>rank_8</th>\n",
       "      <th>rank_9</th>\n",
       "      <th>rank_10</th>\n",
       "    </tr>\n",
       "    <tr>\n",
       "      <th>topic</th>\n",
       "      <th></th>\n",
       "      <th></th>\n",
       "      <th></th>\n",
       "      <th></th>\n",
       "      <th></th>\n",
       "      <th></th>\n",
       "      <th></th>\n",
       "      <th></th>\n",
       "      <th></th>\n",
       "      <th></th>\n",
       "    </tr>\n",
       "  </thead>\n",
       "  <tbody>\n",
       "    <tr>\n",
       "      <th>21_year_time</th>\n",
       "      <td>say (0.08178)</td>\n",
       "      <td>year (0.06211)</td>\n",
       "      <td>time (0.04395)</td>\n",
       "      <td>people (0.03639)</td>\n",
       "      <td>come (0.02428)</td>\n",
       "      <td>want (0.02201)</td>\n",
       "      <td>tell (0.02126)</td>\n",
       "      <td>work (0.01974)</td>\n",
       "      <td>go (0.01899)</td>\n",
       "      <td>long (0.01823)</td>\n",
       "    </tr>\n",
       "  </tbody>\n",
       "</table>\n",
       "</div>"
      ],
      "text/plain": [
       "                     rank_1          rank_2          rank_3            rank_4  \\\n",
       "topic                                                                           \n",
       "21_year_time  say (0.08178)  year (0.06211)  time (0.04395)  people (0.03639)   \n",
       "\n",
       "                      rank_5          rank_6          rank_7          rank_8  \\\n",
       "topic                                                                          \n",
       "21_year_time  come (0.02428)  want (0.02201)  tell (0.02126)  work (0.01974)   \n",
       "\n",
       "                    rank_9         rank_10  \n",
       "topic                                       \n",
       "21_year_time  go (0.01899)  long (0.01823)  "
      ]
     },
     "execution_count": 42,
     "metadata": {},
     "output_type": "execute_result"
    }
   ],
   "source": [
    "top_topic_word[top_topic_word.index == '21_year_time']"
   ]
  },
  {
   "cell_type": "markdown",
   "metadata": {},
   "source": [
    "More coherence metrics can be used with the function [metric_coherence_gensim](api.rst#tmtoolkit.topicmod.evaluate.metric_coherence_gensim). This requires that [gensim](https://radimrehurek.com/gensim/) is installed. Furthemore, most metrics require that a parameter `texts` is passed which is the tokenized text that was used to create the document-term matrix."
   ]
  },
  {
   "cell_type": "markdown",
   "metadata": {},
   "source": [
    "### Filtering topics\n",
    "\n",
    "With the function [filter_topics](api.rst#tmtoolkit.topicmod.model_stats.filter_topics), you can filter the topics according to their topic-word distribution and the following search criteria:\n",
    "\n",
    "- `search_pattern`: one or more search patterns according to the [common parameters for pattern matching](preprocessing.ipynb#Common-parameters-for-pattern-matching-functions)\n",
    "- `top_n`: pattern match(es) must occur in the first `top_n` most probable words in the topic\n",
    "- `thresh`: matched words' probability must be above this threshold\n",
    "\n",
    "You must specify at least one of `top_n` and `thresh`, but you can also specify both. The function returns an array of topic indices (which start with zero!).\n",
    "\n",
    "Let's find all topics that have the glob pattern (`match_type='glob'`) \"russ*\" (to match both \"russia\" and \"russian\") in the top 5 most probable words:"
   ]
  },
  {
   "cell_type": "code",
   "execution_count": 43,
   "metadata": {
    "execution": {
     "iopub.execute_input": "2023-05-03T13:23:26.939978Z",
     "iopub.status.busy": "2023-05-03T13:23:26.939734Z",
     "iopub.status.idle": "2023-05-03T13:23:26.944748Z",
     "shell.execute_reply": "2023-05-03T13:23:26.944447Z"
    },
    "pycharm": {
     "is_executing": false
    }
   },
   "outputs": [
    {
     "data": {
      "text/plain": [
       "array([ 3, 34, 42])"
      ]
     },
     "execution_count": 43,
     "metadata": {},
     "output_type": "execute_result"
    }
   ],
   "source": [
    "from tmtoolkit.topicmod.model_stats import filter_topics\n",
    "\n",
    "found_topics = filter_topics('russ*', vocab_bg,\n",
    "                             best_tm.topic_word_, match_type='glob',\n",
    "                             top_n=5)\n",
    "found_topics"
   ]
  },
  {
   "cell_type": "markdown",
   "metadata": {},
   "source": [
    "We can use these indices with our `topic_labels`:"
   ]
  },
  {
   "cell_type": "code",
   "execution_count": 44,
   "metadata": {
    "execution": {
     "iopub.execute_input": "2023-05-03T13:23:26.946433Z",
     "iopub.status.busy": "2023-05-03T13:23:26.946241Z",
     "iopub.status.idle": "2023-05-03T13:23:26.948692Z",
     "shell.execute_reply": "2023-05-03T13:23:26.948402Z"
    },
    "pycharm": {
     "is_executing": false
    }
   },
   "outputs": [
    {
     "data": {
      "text/plain": [
       "array(['4_sanction_action', '35_intelligence_russia', '43_russian_moscow'],\n",
       "      dtype='<U23')"
      ]
     },
     "execution_count": 44,
     "metadata": {},
     "output_type": "execute_result"
    }
   ],
   "source": [
    "topic_labels[found_topics]"
   ]
  },
  {
   "cell_type": "markdown",
   "metadata": {},
   "source": [
    "Next, we want to select all topics where *any* of the words matched by the glob patterns `\"chin*\"` *or* `\"business\"` achieve at least a probability of 0.01 (`thresh=0.01`):"
   ]
  },
  {
   "cell_type": "code",
   "execution_count": 45,
   "metadata": {
    "execution": {
     "iopub.execute_input": "2023-05-03T13:23:26.950147Z",
     "iopub.status.busy": "2023-05-03T13:23:26.950052Z",
     "iopub.status.idle": "2023-05-03T13:23:26.969134Z",
     "shell.execute_reply": "2023-05-03T13:23:26.968705Z"
    },
    "pycharm": {
     "is_executing": false
    }
   },
   "outputs": [
    {
     "data": {
      "text/plain": [
       "array(['6_say_issue', '9_hope_family', '22_china_chinese',\n",
       "       '27_space_european'], dtype='<U23')"
      ]
     },
     "execution_count": 45,
     "metadata": {},
     "output_type": "execute_result"
    }
   ],
   "source": [
    "found_topics = filter_topics(['chin*', 'business'], vocab_bg,\n",
    "                             best_tm.topic_word_, thresh=0.01, match_type='glob')\n",
    "topic_labels[found_topics]"
   ]
  },
  {
   "cell_type": "markdown",
   "metadata": {},
   "source": [
    "When we specify `cond='all'`, *all* patterns must have at least one match (here in the top 10 list of words per topic):"
   ]
  },
  {
   "cell_type": "code",
   "execution_count": 46,
   "metadata": {
    "execution": {
     "iopub.execute_input": "2023-05-03T13:23:26.970907Z",
     "iopub.status.busy": "2023-05-03T13:23:26.970768Z",
     "iopub.status.idle": "2023-05-03T13:23:26.976245Z",
     "shell.execute_reply": "2023-05-03T13:23:26.975914Z"
    },
    "pycharm": {
     "is_executing": false
    }
   },
   "outputs": [
    {
     "data": {
      "text/plain": [
       "array([], dtype='<U23')"
      ]
     },
     "execution_count": 46,
     "metadata": {},
     "output_type": "execute_result"
    }
   ],
   "source": [
    "found_topics = filter_topics(['chin*', 'business'], vocab_bg,\n",
    "                             best_tm.topic_word_, top_n=10, match_type='glob',\n",
    "                             cond='all')\n",
    "topic_labels[found_topics]   # no result"
   ]
  },
  {
   "cell_type": "markdown",
   "metadata": {},
   "source": [
    "You could also pass a topic-word relevance matrix instead of a topic-word probability distribution."
   ]
  },
  {
   "cell_type": "code",
   "execution_count": 47,
   "metadata": {
    "execution": {
     "iopub.execute_input": "2023-05-03T13:23:26.978091Z",
     "iopub.status.busy": "2023-05-03T13:23:26.977996Z",
     "iopub.status.idle": "2023-05-03T13:23:26.983172Z",
     "shell.execute_reply": "2023-05-03T13:23:26.982871Z"
    },
    "pycharm": {
     "is_executing": false
    }
   },
   "outputs": [
    {
     "data": {
      "text/plain": [
       "array(['4_sanction_action', '35_intelligence_russia', '43_russian_moscow'],\n",
       "      dtype='<U23')"
      ]
     },
     "execution_count": 47,
     "metadata": {},
     "output_type": "execute_result"
    }
   ],
   "source": [
    "found_topics = filter_topics('russ*', vocab_bg,\n",
    "                             topic_word_rel, match_type='glob',\n",
    "                             top_n=5)\n",
    "topic_labels[found_topics]"
   ]
  },
  {
   "cell_type": "markdown",
   "metadata": {},
   "source": [
    "### Excluding topics\n",
    "\n",
    "It is often the case that some topics of a topic model rank a lot of uninformative (e.g. very common) words the highest. This results in some uninformative topics, which you may want to exclude from further analysis. Note that if a large fraction of topics seems uninformative, it points to a problem with your topic model and/or your preprocessing steps. You should [evaluate](#Evaluation-of-topic-models) your candidate models carefully with the mentioned metrics and/or adjust your text preprocessing pipeline.\n",
    "\n",
    "The function [exclude_topics](api.rst#tmtoolkit.topicmod.model_stats.exclude_topics) allows to remove a specified set of topics from the document-topic and topic-word distributions. You need to pass the **zero-based** indices of the topics that you want to remove, and both distributions.\n",
    "\n",
    "For example, suppose the following topics were identified as uninformative:"
   ]
  },
  {
   "cell_type": "code",
   "execution_count": 48,
   "metadata": {
    "execution": {
     "iopub.execute_input": "2023-05-03T13:23:26.984984Z",
     "iopub.status.busy": "2023-05-03T13:23:26.984854Z",
     "iopub.status.idle": "2023-05-03T13:23:26.987376Z",
     "shell.execute_reply": "2023-05-03T13:23:26.987078Z"
    },
    "pycharm": {
     "is_executing": false
    }
   },
   "outputs": [
    {
     "data": {
      "text/plain": [
       "array(['6_say_issue', '21_year_time', '33_force_group', '41_line_look',\n",
       "       '46_say_mr'], dtype='<U23')"
      ]
     },
     "execution_count": 48,
     "metadata": {},
     "output_type": "execute_result"
    }
   ],
   "source": [
    "uninform_topics = [5, 20, 32, 40, 45]\n",
    "topic_labels[uninform_topics]"
   ]
  },
  {
   "cell_type": "markdown",
   "metadata": {},
   "source": [
    "We can now pass these indices to [exclude_topics](api.rst#tmtoolkit.topicmod.model_stats.exclude_topics) along with the topic model distributions. We'll get back new, filtered, distributions."
   ]
  },
  {
   "cell_type": "code",
   "execution_count": 49,
   "metadata": {
    "execution": {
     "iopub.execute_input": "2023-05-03T13:23:26.989282Z",
     "iopub.status.busy": "2023-05-03T13:23:26.989113Z",
     "iopub.status.idle": "2023-05-03T13:23:26.992024Z",
     "shell.execute_reply": "2023-05-03T13:23:26.991624Z"
    },
    "pycharm": {
     "is_executing": false
    }
   },
   "outputs": [
    {
     "data": {
      "text/plain": [
       "((100, 45), (45, 789))"
      ]
     },
     "execution_count": 49,
     "metadata": {},
     "output_type": "execute_result"
    }
   ],
   "source": [
    "from tmtoolkit.topicmod.model_stats import exclude_topics\n",
    "\n",
    "new_doc_topic, new_topic_word, new_topic_mapping = \\\n",
    "    exclude_topics(uninform_topics, best_tm.doc_topic_,\n",
    "                best_tm.topic_word_, return_new_topic_mapping=True)\n",
    "new_doc_topic.shape, new_topic_word.shape"
   ]
  },
  {
   "cell_type": "markdown",
   "metadata": {},
   "source": [
    "We can see in the new distributions' shapes that we now have 47 instead of 50 topics, because we removed three of them. We shouldn't forget to also update the topic labels and remove the unwanted topics:"
   ]
  },
  {
   "cell_type": "code",
   "execution_count": 50,
   "metadata": {
    "execution": {
     "iopub.execute_input": "2023-05-03T13:23:26.993805Z",
     "iopub.status.busy": "2023-05-03T13:23:26.993644Z",
     "iopub.status.idle": "2023-05-03T13:23:26.996544Z",
     "shell.execute_reply": "2023-05-03T13:23:26.996223Z"
    },
    "pycharm": {
     "is_executing": false
    }
   },
   "outputs": [
    {
     "data": {
      "text/plain": [
       "array(['1_justice_charge', '2_north_post', '3_error_night',\n",
       "       '4_sanction_action', '5_play_win', '7_shoot_police',\n",
       "       '8_attack_group', '9_hope_family', '10_morning_day',\n",
       "       '11_german_germany', '12_council_circumstance',\n",
       "       '13_southern_reject', '14_investment_company', '15_club_institute',\n",
       "       '16_2011_people', '17_country_love', '18_officer_police',\n",
       "       '19_al_syrian', '20_report_agency', '22_china_chinese',\n",
       "       '23_white_trump', '24_parent_child', '25_america_american',\n",
       "       '26_world_meeting', '27_space_european', '28_company_reform',\n",
       "       '29_fire_death', '30_step_authority', '31_party_leader',\n",
       "       '32_fight_provide', '34_percent_french', '35_intelligence_russia',\n",
       "       '36_trump_president', '37_relation_contact', '38_flight_display',\n",
       "       '39_vote_feel', '40_election_northern', '42_man_accord',\n",
       "       '43_russian_moscow', '44_bill_health', '45_judge_victim',\n",
       "       '47_minister_president', '48_bank_asset', '49_mr_damage',\n",
       "       '50_note_sell'], dtype='<U23')"
      ]
     },
     "execution_count": 50,
     "metadata": {},
     "output_type": "execute_result"
    }
   ],
   "source": [
    "new_topic_labels = np.delete(topic_labels, uninform_topics)\n",
    "new_topic_labels"
   ]
  },
  {
   "cell_type": "markdown",
   "metadata": {},
   "source": [
    "## Displaying and exporting topic modeling results\n",
    "\n",
    "The [topicmod.model_io](api.rst#module-tmtoolkit.topicmod.model_io) module provides several functions for displaying and exporting topic modeling results, i.e. results derived from the document-topic and topic-word distribution of a given topic model.\n",
    "\n",
    "We already used [ldamodel_top_topic_words](api.rst#tmtoolkit.topicmod.model_io.ldamodel_top_topic_words) briefly, which generates a dataframe with the top words from a topic-word distribution. You can also use the topic-word relevance matrix instead. With `top_n` we can control the number of top words:"
   ]
  },
  {
   "cell_type": "code",
   "execution_count": 51,
   "metadata": {
    "execution": {
     "iopub.execute_input": "2023-05-03T13:23:26.998208Z",
     "iopub.status.busy": "2023-05-03T13:23:26.998015Z",
     "iopub.status.idle": "2023-05-03T13:23:27.020515Z",
     "shell.execute_reply": "2023-05-03T13:23:27.019844Z"
    },
    "pycharm": {
     "is_executing": false
    }
   },
   "outputs": [
    {
     "data": {
      "text/html": [
       "<div>\n",
       "<style scoped>\n",
       "    .dataframe tbody tr th:only-of-type {\n",
       "        vertical-align: middle;\n",
       "    }\n",
       "\n",
       "    .dataframe tbody tr th {\n",
       "        vertical-align: top;\n",
       "    }\n",
       "\n",
       "    .dataframe thead th {\n",
       "        text-align: right;\n",
       "    }\n",
       "</style>\n",
       "<table border=\"1\" class=\"dataframe\">\n",
       "  <thead>\n",
       "    <tr style=\"text-align: right;\">\n",
       "      <th></th>\n",
       "      <th>rank_1</th>\n",
       "      <th>rank_2</th>\n",
       "      <th>rank_3</th>\n",
       "      <th>rank_4</th>\n",
       "      <th>rank_5</th>\n",
       "    </tr>\n",
       "    <tr>\n",
       "      <th>topic</th>\n",
       "      <th></th>\n",
       "      <th></th>\n",
       "      <th></th>\n",
       "      <th></th>\n",
       "      <th></th>\n",
       "    </tr>\n",
       "  </thead>\n",
       "  <tbody>\n",
       "    <tr>\n",
       "      <th>topic_1</th>\n",
       "      <td>justice (-0.2563)</td>\n",
       "      <td>charge (-0.6977)</td>\n",
       "      <td>department (-0.7619)</td>\n",
       "      <td>need (-0.9191)</td>\n",
       "      <td>future (-1.037)</td>\n",
       "    </tr>\n",
       "    <tr>\n",
       "      <th>topic_2</th>\n",
       "      <td>north (0.3636)</td>\n",
       "      <td>post (-0.7892)</td>\n",
       "      <td>leader (-0.8919)</td>\n",
       "      <td>body (-0.916)</td>\n",
       "      <td>tie (-1.246)</td>\n",
       "    </tr>\n",
       "    <tr>\n",
       "      <th>topic_3</th>\n",
       "      <td>error (-0.7178)</td>\n",
       "      <td>night (-0.8708)</td>\n",
       "      <td>stage (-0.8802)</td>\n",
       "      <td>hand (-1.057)</td>\n",
       "      <td>case (-1.08)</td>\n",
       "    </tr>\n",
       "  </tbody>\n",
       "</table>\n",
       "</div>"
      ],
      "text/plain": [
       "                    rank_1            rank_2                rank_3  \\\n",
       "topic                                                                \n",
       "topic_1  justice (-0.2563)  charge (-0.6977)  department (-0.7619)   \n",
       "topic_2     north (0.3636)    post (-0.7892)      leader (-0.8919)   \n",
       "topic_3    error (-0.7178)   night (-0.8708)       stage (-0.8802)   \n",
       "\n",
       "                 rank_4           rank_5  \n",
       "topic                                     \n",
       "topic_1  need (-0.9191)  future (-1.037)  \n",
       "topic_2   body (-0.916)     tie (-1.246)  \n",
       "topic_3   hand (-1.057)     case (-1.08)  "
      ]
     },
     "execution_count": 51,
     "metadata": {},
     "output_type": "execute_result"
    }
   ],
   "source": [
    "# using relevance matrix here and showing only the first 3 topics\n",
    "ldamodel_top_topic_words(topic_word_rel, vocab_bg, top_n=5)[:3]"
   ]
  },
  {
   "cell_type": "markdown",
   "metadata": {},
   "source": [
    "If you're interested in the top *topics for each word/token*, you can use [ldamodel_top_word_topics](api.rst#tmtoolkit.topicmod.model_io.ldamodel_top_word_topics). Here, we generate the top five topics for each token in the vocabulary, but only display the output for four specific words. Instead of the generic `\"topic_...\"` topic names, we additionally pass our previously generated topic labels `topic_labels`:"
   ]
  },
  {
   "cell_type": "code",
   "execution_count": 52,
   "metadata": {
    "execution": {
     "iopub.execute_input": "2023-05-03T13:23:27.022187Z",
     "iopub.status.busy": "2023-05-03T13:23:27.022082Z",
     "iopub.status.idle": "2023-05-03T13:23:27.238620Z",
     "shell.execute_reply": "2023-05-03T13:23:27.238131Z"
    }
   },
   "outputs": [
    {
     "data": {
      "text/html": [
       "<div>\n",
       "<style scoped>\n",
       "    .dataframe tbody tr th:only-of-type {\n",
       "        vertical-align: middle;\n",
       "    }\n",
       "\n",
       "    .dataframe tbody tr th {\n",
       "        vertical-align: top;\n",
       "    }\n",
       "\n",
       "    .dataframe thead th {\n",
       "        text-align: right;\n",
       "    }\n",
       "</style>\n",
       "<table border=\"1\" class=\"dataframe\">\n",
       "  <thead>\n",
       "    <tr style=\"text-align: right;\">\n",
       "      <th></th>\n",
       "      <th>rank_1</th>\n",
       "      <th>rank_2</th>\n",
       "      <th>rank_3</th>\n",
       "      <th>rank_4</th>\n",
       "      <th>rank_5</th>\n",
       "    </tr>\n",
       "    <tr>\n",
       "      <th>token</th>\n",
       "      <th></th>\n",
       "      <th></th>\n",
       "      <th></th>\n",
       "      <th></th>\n",
       "      <th></th>\n",
       "    </tr>\n",
       "  </thead>\n",
       "  <tbody>\n",
       "    <tr>\n",
       "      <th>china</th>\n",
       "      <td>22_china_chinese (0.2341)</td>\n",
       "      <td>14_investment_company (-3.969)</td>\n",
       "      <td>12_council_circumstance (-5.398)</td>\n",
       "      <td>37_relation_contact (-5.414)</td>\n",
       "      <td>48_bank_asset (-5.521)</td>\n",
       "    </tr>\n",
       "    <tr>\n",
       "      <th>chinese</th>\n",
       "      <td>22_china_chinese (-0.617)</td>\n",
       "      <td>27_space_european (-1.682)</td>\n",
       "      <td>5_play_win (-2.617)</td>\n",
       "      <td>12_council_circumstance (-4.999)</td>\n",
       "      <td>37_relation_contact (-5.015)</td>\n",
       "    </tr>\n",
       "    <tr>\n",
       "      <th>russia</th>\n",
       "      <td>43_russian_moscow (-0.6884)</td>\n",
       "      <td>35_intelligence_russia (-0.7184)</td>\n",
       "      <td>4_sanction_action (-1.154)</td>\n",
       "      <td>5_play_win (-2.73)</td>\n",
       "      <td>9_hope_family (-3.295)</td>\n",
       "    </tr>\n",
       "    <tr>\n",
       "      <th>russian</th>\n",
       "      <td>43_russian_moscow (-0.08055)</td>\n",
       "      <td>35_intelligence_russia (-1.267)</td>\n",
       "      <td>19_al_syrian (-2.768)</td>\n",
       "      <td>29_fire_death (-3.359)</td>\n",
       "      <td>5_play_win (-3.46)</td>\n",
       "    </tr>\n",
       "  </tbody>\n",
       "</table>\n",
       "</div>"
      ],
      "text/plain": [
       "                               rank_1                            rank_2  \\\n",
       "token                                                                     \n",
       "china       22_china_chinese (0.2341)    14_investment_company (-3.969)   \n",
       "chinese     22_china_chinese (-0.617)        27_space_european (-1.682)   \n",
       "russia    43_russian_moscow (-0.6884)  35_intelligence_russia (-0.7184)   \n",
       "russian  43_russian_moscow (-0.08055)   35_intelligence_russia (-1.267)   \n",
       "\n",
       "                                   rank_3                            rank_4  \\\n",
       "token                                                                         \n",
       "china    12_council_circumstance (-5.398)      37_relation_contact (-5.414)   \n",
       "chinese               5_play_win (-2.617)  12_council_circumstance (-4.999)   \n",
       "russia         4_sanction_action (-1.154)                5_play_win (-2.73)   \n",
       "russian             19_al_syrian (-2.768)            29_fire_death (-3.359)   \n",
       "\n",
       "                               rank_5  \n",
       "token                                  \n",
       "china          48_bank_asset (-5.521)  \n",
       "chinese  37_relation_contact (-5.015)  \n",
       "russia         9_hope_family (-3.295)  \n",
       "russian            5_play_win (-3.46)  "
      ]
     },
     "execution_count": 52,
     "metadata": {},
     "output_type": "execute_result"
    }
   ],
   "source": [
    "from tmtoolkit.topicmod.model_io import ldamodel_top_word_topics\n",
    "\n",
    "top_word_topics = ldamodel_top_word_topics(topic_word_rel, vocab_bg,\n",
    "                                           top_n=5, topic_labels=topic_labels)\n",
    "top_word_topics[top_word_topics.index.isin(['china', 'chinese', 'russia', 'russian'])]"
   ]
  },
  {
   "cell_type": "markdown",
   "metadata": {},
   "source": [
    "Note that the values in parantheses are the corresponding values from the matrix for that word in that topic. They're negative because of the log transformation that is applied in the topic-word relevance measure.\n",
    "\n",
    "Similar functions can be used for the document-topic distribution: [ldamodel_top_doc_topics](api.rst#tmtoolkit.topicmod.model_io.ldamodel_top_doc_topics) gives the top topics per document and [ldamodel_top_topic_docs](api.rst#tmtoolkit.topicmod.model_io.ldamodel_top_topic_docs) gives the top documents per topic. Here, `top_n` controls the number of top-ranked topics or documents to return, respectively. This time, we use the filtered document-topic distribution `new_doc_topics`:"
   ]
  },
  {
   "cell_type": "code",
   "execution_count": 53,
   "metadata": {
    "execution": {
     "iopub.execute_input": "2023-05-03T13:23:27.240447Z",
     "iopub.status.busy": "2023-05-03T13:23:27.240332Z",
     "iopub.status.idle": "2023-05-03T13:23:27.323256Z",
     "shell.execute_reply": "2023-05-03T13:23:27.322620Z"
    },
    "pycharm": {
     "is_executing": false
    }
   },
   "outputs": [
    {
     "data": {
      "text/html": [
       "<div>\n",
       "<style scoped>\n",
       "    .dataframe tbody tr th:only-of-type {\n",
       "        vertical-align: middle;\n",
       "    }\n",
       "\n",
       "    .dataframe tbody tr th {\n",
       "        vertical-align: top;\n",
       "    }\n",
       "\n",
       "    .dataframe thead th {\n",
       "        text-align: right;\n",
       "    }\n",
       "</style>\n",
       "<table border=\"1\" class=\"dataframe\">\n",
       "  <thead>\n",
       "    <tr style=\"text-align: right;\">\n",
       "      <th></th>\n",
       "      <th>rank_1</th>\n",
       "      <th>rank_2</th>\n",
       "      <th>rank_3</th>\n",
       "    </tr>\n",
       "    <tr>\n",
       "      <th>document</th>\n",
       "      <th></th>\n",
       "      <th></th>\n",
       "      <th></th>\n",
       "    </tr>\n",
       "  </thead>\n",
       "  <tbody>\n",
       "    <tr>\n",
       "      <th>NewsArticles-1032</th>\n",
       "      <td>31_party_leader (0.9579)</td>\n",
       "      <td>20_report_agency (0.01743)</td>\n",
       "      <td>39_vote_feel (0.01743)</td>\n",
       "    </tr>\n",
       "    <tr>\n",
       "      <th>NewsArticles-1036</th>\n",
       "      <td>8_attack_group (0.2678)</td>\n",
       "      <td>20_report_agency (0.2302)</td>\n",
       "      <td>11_german_germany (0.1927)</td>\n",
       "    </tr>\n",
       "    <tr>\n",
       "      <th>NewsArticles-104</th>\n",
       "      <td>49_mr_damage (0.5089)</td>\n",
       "      <td>9_hope_family (0.2557)</td>\n",
       "      <td>47_minister_president (0.1291)</td>\n",
       "    </tr>\n",
       "    <tr>\n",
       "      <th>NewsArticles-1043</th>\n",
       "      <td>5_play_win (0.5088)</td>\n",
       "      <td>19_al_syrian (0.2622)</td>\n",
       "      <td>7_shoot_police (0.2006)</td>\n",
       "    </tr>\n",
       "    <tr>\n",
       "      <th>NewsArticles-1048</th>\n",
       "      <td>18_officer_police (0.7435)</td>\n",
       "      <td>20_report_agency (0.1931)</td>\n",
       "      <td>4_sanction_action (0.04303)</td>\n",
       "    </tr>\n",
       "  </tbody>\n",
       "</table>\n",
       "</div>"
      ],
      "text/plain": [
       "                                       rank_1                      rank_2  \\\n",
       "document                                                                    \n",
       "NewsArticles-1032    31_party_leader (0.9579)  20_report_agency (0.01743)   \n",
       "NewsArticles-1036     8_attack_group (0.2678)   20_report_agency (0.2302)   \n",
       "NewsArticles-104        49_mr_damage (0.5089)      9_hope_family (0.2557)   \n",
       "NewsArticles-1043         5_play_win (0.5088)       19_al_syrian (0.2622)   \n",
       "NewsArticles-1048  18_officer_police (0.7435)   20_report_agency (0.1931)   \n",
       "\n",
       "                                           rank_3  \n",
       "document                                           \n",
       "NewsArticles-1032          39_vote_feel (0.01743)  \n",
       "NewsArticles-1036      11_german_germany (0.1927)  \n",
       "NewsArticles-104   47_minister_president (0.1291)  \n",
       "NewsArticles-1043         7_shoot_police (0.2006)  \n",
       "NewsArticles-1048     4_sanction_action (0.04303)  "
      ]
     },
     "execution_count": 53,
     "metadata": {},
     "output_type": "execute_result"
    }
   ],
   "source": [
    "from tmtoolkit.topicmod.model_io import ldamodel_top_doc_topics\n",
    "\n",
    "ldamodel_top_doc_topics(new_doc_topic, doc_labels_bg, top_n=3,\n",
    "                        topic_labels=new_topic_labels)[:5]"
   ]
  },
  {
   "cell_type": "markdown",
   "metadata": {},
   "source": [
    "And now for the top documents per topic:"
   ]
  },
  {
   "cell_type": "code",
   "execution_count": 54,
   "metadata": {
    "execution": {
     "iopub.execute_input": "2023-05-03T13:23:27.325340Z",
     "iopub.status.busy": "2023-05-03T13:23:27.325221Z",
     "iopub.status.idle": "2023-05-03T13:23:27.340938Z",
     "shell.execute_reply": "2023-05-03T13:23:27.340541Z"
    }
   },
   "outputs": [
    {
     "data": {
      "text/html": [
       "<div>\n",
       "<style scoped>\n",
       "    .dataframe tbody tr th:only-of-type {\n",
       "        vertical-align: middle;\n",
       "    }\n",
       "\n",
       "    .dataframe tbody tr th {\n",
       "        vertical-align: top;\n",
       "    }\n",
       "\n",
       "    .dataframe thead th {\n",
       "        text-align: right;\n",
       "    }\n",
       "</style>\n",
       "<table border=\"1\" class=\"dataframe\">\n",
       "  <thead>\n",
       "    <tr style=\"text-align: right;\">\n",
       "      <th></th>\n",
       "      <th>rank_1</th>\n",
       "      <th>rank_2</th>\n",
       "      <th>rank_3</th>\n",
       "    </tr>\n",
       "    <tr>\n",
       "      <th>topic</th>\n",
       "      <th></th>\n",
       "      <th></th>\n",
       "      <th></th>\n",
       "    </tr>\n",
       "  </thead>\n",
       "  <tbody>\n",
       "    <tr>\n",
       "      <th>1_justice_charge</th>\n",
       "      <td>NewsArticles-1341 (0.8213)</td>\n",
       "      <td>NewsArticles-2617 (0.4118)</td>\n",
       "      <td>NewsArticles-248 (0.1688)</td>\n",
       "    </tr>\n",
       "    <tr>\n",
       "      <th>2_north_post</th>\n",
       "      <td>NewsArticles-2101 (0.6114)</td>\n",
       "      <td>NewsArticles-3573 (0.5619)</td>\n",
       "      <td>NewsArticles-3023 (0.4452)</td>\n",
       "    </tr>\n",
       "    <tr>\n",
       "      <th>3_error_night</th>\n",
       "      <td>NewsArticles-1539 (0.8661)</td>\n",
       "      <td>NewsArticles-1295 (0.7066)</td>\n",
       "      <td>NewsArticles-1090 (0.6058)</td>\n",
       "    </tr>\n",
       "    <tr>\n",
       "      <th>4_sanction_action</th>\n",
       "      <td>NewsArticles-709 (0.5343)</td>\n",
       "      <td>NewsArticles-3246 (0.4311)</td>\n",
       "      <td>NewsArticles-3263 (0.2096)</td>\n",
       "    </tr>\n",
       "    <tr>\n",
       "      <th>5_play_win</th>\n",
       "      <td>NewsArticles-693 (0.9697)</td>\n",
       "      <td>NewsArticles-1126 (0.604)</td>\n",
       "      <td>NewsArticles-3263 (0.5384)</td>\n",
       "    </tr>\n",
       "  </tbody>\n",
       "</table>\n",
       "</div>"
      ],
      "text/plain": [
       "                                       rank_1                      rank_2  \\\n",
       "topic                                                                       \n",
       "1_justice_charge   NewsArticles-1341 (0.8213)  NewsArticles-2617 (0.4118)   \n",
       "2_north_post       NewsArticles-2101 (0.6114)  NewsArticles-3573 (0.5619)   \n",
       "3_error_night      NewsArticles-1539 (0.8661)  NewsArticles-1295 (0.7066)   \n",
       "4_sanction_action   NewsArticles-709 (0.5343)  NewsArticles-3246 (0.4311)   \n",
       "5_play_win          NewsArticles-693 (0.9697)   NewsArticles-1126 (0.604)   \n",
       "\n",
       "                                       rank_3  \n",
       "topic                                          \n",
       "1_justice_charge    NewsArticles-248 (0.1688)  \n",
       "2_north_post       NewsArticles-3023 (0.4452)  \n",
       "3_error_night      NewsArticles-1090 (0.6058)  \n",
       "4_sanction_action  NewsArticles-3263 (0.2096)  \n",
       "5_play_win         NewsArticles-3263 (0.5384)  "
      ]
     },
     "execution_count": 54,
     "metadata": {},
     "output_type": "execute_result"
    }
   ],
   "source": [
    "from tmtoolkit.topicmod.model_io import ldamodel_top_topic_docs\n",
    "\n",
    "ldamodel_top_topic_docs(new_doc_topic, doc_labels_bg, top_n=3,\n",
    "                        topic_labels=new_topic_labels)[:5]"
   ]
  },
  {
   "cell_type": "markdown",
   "metadata": {},
   "source": [
    "There are also two functions that generate datatables for the full topic-word and document-topic distributions: [ldamodel_full_topic_words](api.rst#tmtoolkit.topicmod.model_io.ldamodel_full_topic_words) and [ldamodel_full_doc_topics](api.rst#tmtoolkit.topicmod.model_io.ldamodel_full_doc_topics). The output of both functions is naturally quite big, as long as you're not working with a \"toy dataset\"."
   ]
  },
  {
   "cell_type": "code",
   "execution_count": 55,
   "metadata": {
    "execution": {
     "iopub.execute_input": "2023-05-03T13:23:27.343106Z",
     "iopub.status.busy": "2023-05-03T13:23:27.342973Z",
     "iopub.status.idle": "2023-05-03T13:23:27.349306Z",
     "shell.execute_reply": "2023-05-03T13:23:27.349029Z"
    },
    "pycharm": {
     "is_executing": false
    }
   },
   "outputs": [
    {
     "data": {
      "text/html": [
       "<div>\n",
       "<style scoped>\n",
       "    .dataframe tbody tr th:only-of-type {\n",
       "        vertical-align: middle;\n",
       "    }\n",
       "\n",
       "    .dataframe tbody tr th {\n",
       "        vertical-align: top;\n",
       "    }\n",
       "\n",
       "    .dataframe thead th {\n",
       "        text-align: right;\n",
       "    }\n",
       "</style>\n",
       "<table border=\"1\" class=\"dataframe\">\n",
       "  <thead>\n",
       "    <tr style=\"text-align: right;\">\n",
       "      <th></th>\n",
       "      <th>central</th>\n",
       "      <th>centre</th>\n",
       "      <th>century</th>\n",
       "      <th>certain</th>\n",
       "      <th>chairman</th>\n",
       "      <th>challenge</th>\n",
       "      <th>chance</th>\n",
       "      <th>change</th>\n",
       "      <th>charge</th>\n",
       "      <th>check</th>\n",
       "    </tr>\n",
       "  </thead>\n",
       "  <tbody>\n",
       "    <tr>\n",
       "      <th>0</th>\n",
       "      <td>0.000337</td>\n",
       "      <td>0.000337</td>\n",
       "      <td>0.000337</td>\n",
       "      <td>0.000337</td>\n",
       "      <td>0.000337</td>\n",
       "      <td>0.003705</td>\n",
       "      <td>0.003705</td>\n",
       "      <td>0.000337</td>\n",
       "      <td>0.034018</td>\n",
       "      <td>0.000337</td>\n",
       "    </tr>\n",
       "    <tr>\n",
       "      <th>1</th>\n",
       "      <td>0.000408</td>\n",
       "      <td>0.000408</td>\n",
       "      <td>0.000408</td>\n",
       "      <td>0.000408</td>\n",
       "      <td>0.000408</td>\n",
       "      <td>0.000408</td>\n",
       "      <td>0.000408</td>\n",
       "      <td>0.000408</td>\n",
       "      <td>0.000408</td>\n",
       "      <td>0.008575</td>\n",
       "    </tr>\n",
       "    <tr>\n",
       "      <th>2</th>\n",
       "      <td>0.000337</td>\n",
       "      <td>0.000337</td>\n",
       "      <td>0.000337</td>\n",
       "      <td>0.000337</td>\n",
       "      <td>0.000337</td>\n",
       "      <td>0.000337</td>\n",
       "      <td>0.000337</td>\n",
       "      <td>0.000337</td>\n",
       "      <td>0.003705</td>\n",
       "      <td>0.000337</td>\n",
       "    </tr>\n",
       "    <tr>\n",
       "      <th>3</th>\n",
       "      <td>0.000353</td>\n",
       "      <td>0.000353</td>\n",
       "      <td>0.000353</td>\n",
       "      <td>0.000353</td>\n",
       "      <td>0.000353</td>\n",
       "      <td>0.000353</td>\n",
       "      <td>0.000353</td>\n",
       "      <td>0.000353</td>\n",
       "      <td>0.000353</td>\n",
       "      <td>0.000353</td>\n",
       "    </tr>\n",
       "    <tr>\n",
       "      <th>4</th>\n",
       "      <td>0.000282</td>\n",
       "      <td>0.000282</td>\n",
       "      <td>0.003099</td>\n",
       "      <td>0.000282</td>\n",
       "      <td>0.000282</td>\n",
       "      <td>0.000282</td>\n",
       "      <td>0.000282</td>\n",
       "      <td>0.003099</td>\n",
       "      <td>0.000282</td>\n",
       "      <td>0.000282</td>\n",
       "    </tr>\n",
       "  </tbody>\n",
       "</table>\n",
       "</div>"
      ],
      "text/plain": [
       "    central    centre   century   certain  chairman  challenge    chance  \\\n",
       "0  0.000337  0.000337  0.000337  0.000337  0.000337   0.003705  0.003705   \n",
       "1  0.000408  0.000408  0.000408  0.000408  0.000408   0.000408  0.000408   \n",
       "2  0.000337  0.000337  0.000337  0.000337  0.000337   0.000337  0.000337   \n",
       "3  0.000353  0.000353  0.000353  0.000353  0.000353   0.000353  0.000353   \n",
       "4  0.000282  0.000282  0.003099  0.000282  0.000282   0.000282  0.000282   \n",
       "\n",
       "     change    charge     check  \n",
       "0  0.000337  0.034018  0.000337  \n",
       "1  0.000408  0.000408  0.008575  \n",
       "2  0.000337  0.003705  0.000337  \n",
       "3  0.000353  0.000353  0.000353  \n",
       "4  0.003099  0.000282  0.000282  "
      ]
     },
     "execution_count": 55,
     "metadata": {},
     "output_type": "execute_result"
    }
   ],
   "source": [
    "from tmtoolkit.topicmod.model_io import ldamodel_full_topic_words\n",
    "\n",
    "df_topic_word = ldamodel_full_topic_words(new_topic_word,\n",
    "                                          vocab_bg,\n",
    "                                          row_labels=new_topic_labels)\n",
    "# displaying only the first 5 topics with 10 tokens\n",
    "# from sorted vocabulary list (tokens 120 to 129)\n",
    "df_topic_word.iloc[:5, 120:130]"
   ]
  },
  {
   "cell_type": "code",
   "execution_count": 56,
   "metadata": {
    "execution": {
     "iopub.execute_input": "2023-05-03T13:23:27.351374Z",
     "iopub.status.busy": "2023-05-03T13:23:27.351070Z",
     "iopub.status.idle": "2023-05-03T13:23:27.358292Z",
     "shell.execute_reply": "2023-05-03T13:23:27.357940Z"
    },
    "pycharm": {
     "is_executing": false
    }
   },
   "outputs": [
    {
     "data": {
      "text/html": [
       "<div>\n",
       "<style scoped>\n",
       "    .dataframe tbody tr th:only-of-type {\n",
       "        vertical-align: middle;\n",
       "    }\n",
       "\n",
       "    .dataframe tbody tr th {\n",
       "        vertical-align: top;\n",
       "    }\n",
       "\n",
       "    .dataframe thead th {\n",
       "        text-align: right;\n",
       "    }\n",
       "</style>\n",
       "<table border=\"1\" class=\"dataframe\">\n",
       "  <thead>\n",
       "    <tr style=\"text-align: right;\">\n",
       "      <th></th>\n",
       "      <th>_doc</th>\n",
       "      <th>1_justice_charge</th>\n",
       "      <th>2_north_post</th>\n",
       "      <th>3_error_night</th>\n",
       "      <th>4_sanction_action</th>\n",
       "    </tr>\n",
       "  </thead>\n",
       "  <tbody>\n",
       "    <tr>\n",
       "      <th>0</th>\n",
       "      <td>NewsArticles-1032</td>\n",
       "      <td>0.000173</td>\n",
       "      <td>0.000173</td>\n",
       "      <td>0.000173</td>\n",
       "      <td>0.000173</td>\n",
       "    </tr>\n",
       "    <tr>\n",
       "      <th>1</th>\n",
       "      <td>NewsArticles-1036</td>\n",
       "      <td>0.000094</td>\n",
       "      <td>0.000094</td>\n",
       "      <td>0.000094</td>\n",
       "      <td>0.000094</td>\n",
       "    </tr>\n",
       "    <tr>\n",
       "      <th>2</th>\n",
       "      <td>NewsArticles-104</td>\n",
       "      <td>0.002532</td>\n",
       "      <td>0.002532</td>\n",
       "      <td>0.002532</td>\n",
       "      <td>0.002532</td>\n",
       "    </tr>\n",
       "  </tbody>\n",
       "</table>\n",
       "</div>"
      ],
      "text/plain": [
       "                _doc  1_justice_charge  2_north_post  3_error_night  \\\n",
       "0  NewsArticles-1032          0.000173      0.000173       0.000173   \n",
       "1  NewsArticles-1036          0.000094      0.000094       0.000094   \n",
       "2   NewsArticles-104          0.002532      0.002532       0.002532   \n",
       "\n",
       "   4_sanction_action  \n",
       "0           0.000173  \n",
       "1           0.000094  \n",
       "2           0.002532  "
      ]
     },
     "execution_count": 56,
     "metadata": {},
     "output_type": "execute_result"
    }
   ],
   "source": [
    "from tmtoolkit.topicmod.model_io import ldamodel_full_doc_topics\n",
    "\n",
    "df_doc_topic = ldamodel_full_doc_topics(new_doc_topic,\n",
    "                                        doc_labels_bg,\n",
    "                                        topic_labels=new_topic_labels)\n",
    "# displaying only the first 3 documents with the first\n",
    "# 5 topics\n",
    "df_doc_topic.iloc[:3, :5]"
   ]
  },
  {
   "cell_type": "markdown",
   "metadata": {},
   "source": [
    "For quick inspection of topics there's also a pair of print functions. We already used [print_ldamodel_topic_words](api.rst#tmtoolkit.topicmod.model_io.print_ldamodel_topic_words), but we haven't tried [print_ldamodel_doc_topics](api.rst#tmtoolkit.topicmod.model_io.print_ldamodel_doc_topics) yet. This prints the `top_n` most probable topics for each document:"
   ]
  },
  {
   "cell_type": "code",
   "execution_count": 57,
   "metadata": {
    "execution": {
     "iopub.execute_input": "2023-05-03T13:23:27.360444Z",
     "iopub.status.busy": "2023-05-03T13:23:27.360176Z",
     "iopub.status.idle": "2023-05-03T13:23:27.365375Z",
     "shell.execute_reply": "2023-05-03T13:23:27.364957Z"
    },
    "pycharm": {
     "is_executing": false
    }
   },
   "outputs": [
    {
     "name": "stdout",
     "output_type": "stream",
     "text": [
      "NewsArticles-1032\n",
      "> #1. 31_party_leader (0.957895)\n",
      "> #2. 20_report_agency (0.017429)\n",
      "> #3. 39_vote_feel (0.017429)\n",
      "NewsArticles-1036\n",
      "> #1. 8_attack_group (0.267825)\n",
      "> #2. 20_report_agency (0.230249)\n",
      "> #3. 11_german_germany (0.192673)\n",
      "NewsArticles-104\n",
      "> #1. 49_mr_damage (0.508861)\n",
      "> #2. 9_hope_family (0.255696)\n",
      "> #3. 47_minister_president (0.129114)\n",
      "NewsArticles-1043\n",
      "> #1. 5_play_win (0.508783)\n",
      "> #2. 19_al_syrian (0.262250)\n",
      "> #3. 7_shoot_police (0.200616)\n",
      "NewsArticles-1048\n",
      "> #1. 18_officer_police (0.743531)\n",
      "> #2. 20_report_agency (0.193138)\n",
      "> #3. 4_sanction_action (0.043031)\n"
     ]
    }
   ],
   "source": [
    "from tmtoolkit.topicmod.model_io import print_ldamodel_doc_topics\n",
    "\n",
    "# subsetting new_doc_topic and doc_labels to get only the first\n",
    "# five documents\n",
    "print_ldamodel_doc_topics(new_doc_topic[:5, :], doc_labels_bg[:5],\n",
    "                          val_labels=new_topic_labels)"
   ]
  },
  {
   "cell_type": "markdown",
   "metadata": {},
   "source": [
    "You can also export the results of a topic model to an Excel file using [save_ldamodel_summary_to_excel](api.rst#tmtoolkit.topicmod.model_io.save_ldamodel_summary_to_excel). The resulting Excel file will contain the following sheets:\n",
    "\n",
    "- `top_doc_topics_vals`: document-topic distribution with probabilities of top topics per document\n",
    "- `top_doc_topics_labels`: document-topic distribution with labels of top topics per document\n",
    "- `top_doc_topics_labelled_vals`: document-topic distribution combining probabilities and labels of top topics per\n",
    "  document (e.g. `\"topic_12 (0.21)\"`)\n",
    "- `top_topic_word_vals`: topic-word distribution with probabilities of top words per topic\n",
    "- `top_topic_word_labels`: topic-word distribution with top words per (e.g. `\"politics\"`) topic\n",
    "- `top_topic_words_labelled_vals`: topic-word distribution combining probabilities and top words per topic\n",
    "  (e.g. `\"politics (0.08)\"`)\n",
    "- optional if `dtm` is given – `marginal_topic_distrib`: marginal topic distribution\n",
    "\n",
    "Additionally to saving the output to the specified Excel file, the function will also return a dict with the sheets and their data."
   ]
  },
  {
   "cell_type": "code",
   "execution_count": 58,
   "metadata": {
    "execution": {
     "iopub.execute_input": "2023-05-03T13:23:27.366909Z",
     "iopub.status.busy": "2023-05-03T13:23:27.366752Z",
     "iopub.status.idle": "2023-05-03T13:23:27.580645Z",
     "shell.execute_reply": "2023-05-03T13:23:27.580204Z"
    },
    "pycharm": {
     "is_executing": false
    }
   },
   "outputs": [],
   "source": [
    "from tmtoolkit.topicmod.model_io import save_ldamodel_summary_to_excel\n",
    "\n",
    "sheets = save_ldamodel_summary_to_excel('data/news_articles_100.xlsx',\n",
    "                                        new_topic_word, new_doc_topic,\n",
    "                                        doc_labels_bg, vocab_bg,\n",
    "                                        dtm = dtm_bg,\n",
    "                                        topic_labels = new_topic_labels)"
   ]
  },
  {
   "cell_type": "markdown",
   "metadata": {},
   "source": [
    "To quickly store a topic model to disk for sharing or loading again at a later point in time, there are [save_ldamodel_to_pickle](api.rst#tmtoolkit.topicmod.model_io.save_ldamodel_to_pickle) and [load_ldamodel_from_pickle](api.rst#tmtoolkit.topicmod.model_io.load_ldamodel_from_pickle). The function for saving takes a path to a pickle file to create (or update), a topic model object (such as an LDA instance as `best_tm`, but you could also pass a tuple like `(new_doc_topic, new_topic_word)`), the corresponding vocabulary and document labels, and optionally the DTM that was used to create the topic model. The function for loading the data will return the saved data as a dict. We will only show the dict's keys here, as the data itself is too large to be printed: "
   ]
  },
  {
   "cell_type": "code",
   "execution_count": 59,
   "metadata": {
    "execution": {
     "iopub.execute_input": "2023-05-03T13:23:27.582475Z",
     "iopub.status.busy": "2023-05-03T13:23:27.582312Z",
     "iopub.status.idle": "2023-05-03T13:23:27.586807Z",
     "shell.execute_reply": "2023-05-03T13:23:27.586482Z"
    },
    "pycharm": {
     "is_executing": false
    }
   },
   "outputs": [
    {
     "data": {
      "text/plain": [
       "dict_keys(['model', 'vocab', 'doc_labels', 'dtm'])"
      ]
     },
     "execution_count": 59,
     "metadata": {},
     "output_type": "execute_result"
    }
   ],
   "source": [
    "from tmtoolkit.topicmod.model_io import save_ldamodel_to_pickle, \\\n",
    "    load_ldamodel_from_pickle\n",
    "\n",
    "save_ldamodel_to_pickle('data/news_articles_100.pickle',\n",
    "                        best_tm, vocab_bg, doc_labels_bg,\n",
    "                        dtm = dtm_bg)\n",
    "\n",
    "loaded = load_ldamodel_from_pickle('data/news_articles_100.pickle')\n",
    "loaded.keys()"
   ]
  },
  {
   "cell_type": "markdown",
   "metadata": {},
   "source": [
    "## Visualizing topic models\n",
    "\n",
    "The [topicmod.visualize](api.rst#visualize-topic-models-and-topic-model-evaluation-results) module contains several functions to visualize topic models and evaluation results. We've already used [plot_eval_results](api.rst#tmtoolkit.topicmod.visualize.plot_eval_results) during [topic model evaluation](#Evaluation-of-topic-models) so we'll now focus on visualizing topic models.\n",
    "\n",
    "### Heatmaps\n",
    "\n",
    "Let's start with heatmap visualizations of document-topic or topic-word distributions from our topic model. This can be done with [plot_doc_topic_heatmap](api.rst#tmtoolkit.topicmod.visualize.plot_doc_topic_heatmap) and [plot_topic_word_heatmap](api.rst#tmtoolkit.topicmod.visualize.plot_topic_word_heatmap) respectively. Both functions draw on a [matplotlib](https://matplotlib.org/) figure and *Axes* object, which you must create before using these functions.\n",
    "\n",
    "Heatmap visualizations essentially shade cells in a 2D matrix (like the document-topic or topic-word distributions) according to their value, i.e. the respective probability for a topic in a given document or a word in a given topic. Since these matrices are usually quite large, i.e. with hundreds of rows and/or columns, it doesn't make sense to plot a heatmap of the whole matrix, but rather a certain subset of interest. When we want to visualize a document-topic distribution, we can optionally select a subset of the documents with the `which_documents` parameter and a subset of the topics with the `which_topics` parameter. Let's draw a heatmap of a subset of documents across all topics at first:"
   ]
  },
  {
   "cell_type": "code",
   "execution_count": 60,
   "metadata": {
    "execution": {
     "iopub.execute_input": "2023-05-03T13:23:27.588437Z",
     "iopub.status.busy": "2023-05-03T13:23:27.588180Z",
     "iopub.status.idle": "2023-05-03T13:23:28.186165Z",
     "shell.execute_reply": "2023-05-03T13:23:28.185682Z"
    },
    "pycharm": {
     "is_executing": false
    }
   },
   "outputs": [
    {
     "data": {
      "image/png": "[encoded data removed]",
      "text/plain": [
       "<Figure size 3200x800 with 1 Axes>"
      ]
     },
     "metadata": {},
     "output_type": "display_data"
    }
   ],
   "source": [
    "import matplotlib.pyplot as plt\n",
    "from tmtoolkit.topicmod.visualize import plot_doc_topic_heatmap\n",
    "\n",
    "# create a figure of certain size and\n",
    "# Axes object to draw on\n",
    "fig, ax = plt.subplots(figsize=(32, 8))\n",
    "\n",
    "# randomly selecting a subset of documents\n",
    "which_docs = random.sample(doc_labels_bg, 5)\n",
    "\n",
    "plot_doc_topic_heatmap(fig, ax, new_doc_topic, doc_labels_bg,\n",
    "                       topic_labels=new_topic_labels,\n",
    "                       which_documents=which_docs);"
   ]
  },
  {
   "cell_type": "code",
   "execution_count": 61,
   "metadata": {
    "execution": {
     "iopub.execute_input": "2023-05-03T13:23:28.187647Z",
     "iopub.status.busy": "2023-05-03T13:23:28.187536Z",
     "iopub.status.idle": "2023-05-03T13:23:28.409306Z",
     "shell.execute_reply": "2023-05-03T13:23:28.408802Z"
    },
    "pycharm": {
     "is_executing": false
    }
   },
   "outputs": [
    {
     "data": {
      "image/png": "[encoded data removed]",
      "text/plain": [
       "<Figure size 600x800 with 1 Axes>"
      ]
     },
     "metadata": {},
     "output_type": "display_data"
    }
   ],
   "source": [
    "fig, ax = plt.subplots(figsize=(6, 8))\n",
    "\n",
    "# randomly selecting a subset of topics\n",
    "which_topics = random.sample(list(new_topic_labels), 10)\n",
    "\n",
    "plot_doc_topic_heatmap(fig, ax, new_doc_topic, doc_labels_bg,\n",
    "                       topic_labels=new_topic_labels,\n",
    "                       which_documents=which_docs,\n",
    "                       which_topics=which_topics);"
   ]
  },
  {
   "cell_type": "markdown",
   "metadata": {
    "pycharm": {
     "is_executing": false,
     "name": "#%% md\n"
    }
   },
   "source": [
    "Similarily, we can work with [plot_topic_word_heatmap](api.rst#tmtoolkit.topicmod.visualize.plot_topic_word_heatmap) to visualize a topic-word distribution. We can also select a subset of topics and words from the vocabulary:"
   ]
  },
  {
   "cell_type": "code",
   "execution_count": 62,
   "metadata": {
    "execution": {
     "iopub.execute_input": "2023-05-03T13:23:28.410977Z",
     "iopub.status.busy": "2023-05-03T13:23:28.410804Z",
     "iopub.status.idle": "2023-05-03T13:23:28.560704Z",
     "shell.execute_reply": "2023-05-03T13:23:28.560160Z"
    },
    "pycharm": {
     "name": "#%%\n"
    }
   },
   "outputs": [
    {
     "data": {
      "image/png": "[encoded data removed]",
      "text/plain": [
       "<Figure size 1200x800 with 1 Axes>"
      ]
     },
     "metadata": {},
     "output_type": "display_data"
    }
   ],
   "source": [
    "from tmtoolkit.topicmod.visualize import plot_topic_word_heatmap\n",
    "\n",
    "fig, ax = plt.subplots(figsize=(12, 8))\n",
    "\n",
    "which_words = ['trump', 'america', 'russia', 'germany']\n",
    "\n",
    "plot_topic_word_heatmap(fig, ax, new_topic_word, vocab_bg,\n",
    "                        topic_labels=new_topic_labels,\n",
    "                        which_topics=which_topics,\n",
    "                        which_words=which_words);"
   ]
  },
  {
   "cell_type": "markdown",
   "metadata": {},
   "source": [
    "Note that there's also a generic heatmap plotting function [plot_heatmap](api.rst#plot-heatmaps-for-topic-models) for any kind of 2D matrices. "
   ]
  },
  {
   "cell_type": "markdown",
   "metadata": {},
   "source": [
    "### Word clouds\n",
    "\n",
    "Thanks to the [wordlcloud package](https://pypi.org/project/wordcloud/), topic-word and document-topic distributions can also be visualized as \"word clouds\" with tmtoolkit. The function [generate_wordclouds_for_topic_words](api.rst#tmtoolkit.topicmod.visualize.generate_wordclouds_for_topic_words) generates a word cloud for each topic by scaling a topic's word by its probability (weight). You can choose to display only the top `top_n` words per topic. The result of this function will be a dictionary mapping topic labels to the respective word cloud image."
   ]
  },
  {
   "cell_type": "code",
   "execution_count": 63,
   "metadata": {
    "execution": {
     "iopub.execute_input": "2023-05-03T13:23:28.562732Z",
     "iopub.status.busy": "2023-05-03T13:23:28.562568Z",
     "iopub.status.idle": "2023-05-03T13:23:30.828479Z",
     "shell.execute_reply": "2023-05-03T13:23:30.828021Z"
    }
   },
   "outputs": [
    {
     "data": {
      "text/plain": [
       "dict_keys(['1_justice_charge', '2_north_post', '3_error_night', '4_sanction_action', '5_play_win', '7_shoot_police', '8_attack_group', '9_hope_family', '10_morning_day', '11_german_germany', '12_council_circumstance', '13_southern_reject', '14_investment_company', '15_club_institute', '16_2011_people', '17_country_love', '18_officer_police', '19_al_syrian', '20_report_agency', '22_china_chinese', '23_white_trump', '24_parent_child', '25_america_american', '26_world_meeting', '27_space_european', '28_company_reform', '29_fire_death', '30_step_authority', '31_party_leader', '32_fight_provide', '34_percent_french', '35_intelligence_russia', '36_trump_president', '37_relation_contact', '38_flight_display', '39_vote_feel', '40_election_northern', '42_man_accord', '43_russian_moscow', '44_bill_health', '45_judge_victim', '47_minister_president', '48_bank_asset', '49_mr_damage', '50_note_sell'])"
      ]
     },
     "execution_count": 63,
     "metadata": {},
     "output_type": "execute_result"
    }
   ],
   "source": [
    "from tmtoolkit.topicmod.visualize import generate_wordclouds_for_topic_words\n",
    "\n",
    "# some options for wordcloud output\n",
    "img_w = 400   # image width\n",
    "img_h = 300   # image height\n",
    "\n",
    "topic_clouds = generate_wordclouds_for_topic_words(\n",
    "    new_topic_word, vocab_bg,\n",
    "    top_n=20, topic_labels=new_topic_labels,\n",
    "    width=img_w, height=img_h\n",
    ")\n",
    "\n",
    "# show all generated word clouds\n",
    "topic_clouds.keys()"
   ]
  },
  {
   "cell_type": "markdown",
   "metadata": {},
   "source": [
    "Let's select specific topics and display their word cloud:"
   ]
  },
  {
   "cell_type": "code",
   "execution_count": 64,
   "metadata": {
    "execution": {
     "iopub.execute_input": "2023-05-03T13:23:30.830535Z",
     "iopub.status.busy": "2023-05-03T13:23:30.830305Z",
     "iopub.status.idle": "2023-05-03T13:23:30.842317Z",
     "shell.execute_reply": "2023-05-03T13:23:30.841908Z"
    }
   },
   "outputs": [
    {
     "data": {
      "image/png": "[encoded data removed]",
      "text/plain": [
       "<PIL.Image.Image image mode=RGBA size=400x300>"
      ]
     },
     "execution_count": 64,
     "metadata": {},
     "output_type": "execute_result"
    }
   ],
   "source": [
    "topic_clouds['7_shoot_police']"
   ]
  },
  {
   "cell_type": "markdown",
   "metadata": {},
   "source": [
    "The same can be done for the document-topic distribution using [generate_wordclouds_for_document_topics](api.rst#tmtoolkit.topicmod.visualize.generate_wordclouds_for_document_topics). Here, a word cloud for each document will be generated that contains the `top_n` most probable topics for this document:"
   ]
  },
  {
   "cell_type": "code",
   "execution_count": 65,
   "metadata": {
    "execution": {
     "iopub.execute_input": "2023-05-03T13:23:30.844106Z",
     "iopub.status.busy": "2023-05-03T13:23:30.843977Z",
     "iopub.status.idle": "2023-05-03T13:23:35.036716Z",
     "shell.execute_reply": "2023-05-03T13:23:35.036064Z"
    }
   },
   "outputs": [
    {
     "data": {
      "text/plain": [
       "['NewsArticles-1032',\n",
       " 'NewsArticles-1036',\n",
       " 'NewsArticles-104',\n",
       " 'NewsArticles-1043',\n",
       " 'NewsArticles-1048']"
      ]
     },
     "execution_count": 65,
     "metadata": {},
     "output_type": "execute_result"
    }
   ],
   "source": [
    "from tmtoolkit.topicmod.visualize import generate_wordclouds_for_document_topics\n",
    "\n",
    "doc_clouds = generate_wordclouds_for_document_topics(\n",
    "    new_doc_topic, doc_labels_bg, topic_labels=new_topic_labels,\n",
    "    top_n=5, width=img_w, height=img_h)\n",
    "\n",
    "# show only the first 5 documents for\n",
    "# which word clouds were generated\n",
    "list(doc_clouds.keys())[:5]"
   ]
  },
  {
   "cell_type": "markdown",
   "metadata": {},
   "source": [
    "To display a specific document's topic word cloud:"
   ]
  },
  {
   "cell_type": "code",
   "execution_count": 66,
   "metadata": {
    "execution": {
     "iopub.execute_input": "2023-05-03T13:23:35.038778Z",
     "iopub.status.busy": "2023-05-03T13:23:35.038598Z",
     "iopub.status.idle": "2023-05-03T13:23:35.045984Z",
     "shell.execute_reply": "2023-05-03T13:23:35.045555Z"
    }
   },
   "outputs": [
    {
     "data": {
      "image/png": "[encoded data removed]",
      "text/plain": [
       "<PIL.Image.Image image mode=RGBA size=400x300>"
      ]
     },
     "execution_count": 66,
     "metadata": {},
     "output_type": "execute_result"
    }
   ],
   "source": [
    "doc_clouds['NewsArticles-1032']"
   ]
  },
  {
   "cell_type": "markdown",
   "metadata": {},
   "source": [
    "We can write the generated images as PNG files to a folder on disk. Here, we store all word clouds in `topic_clouds` to `'data/tm_wordclouds/'`:"
   ]
  },
  {
   "cell_type": "code",
   "execution_count": 67,
   "metadata": {
    "execution": {
     "iopub.execute_input": "2023-05-03T13:23:35.047870Z",
     "iopub.status.busy": "2023-05-03T13:23:35.047711Z",
     "iopub.status.idle": "2023-05-03T13:23:35.294867Z",
     "shell.execute_reply": "2023-05-03T13:23:35.294347Z"
    }
   },
   "outputs": [],
   "source": [
    "from tmtoolkit.topicmod.visualize import write_wordclouds_to_folder\n",
    "\n",
    "write_wordclouds_to_folder(topic_clouds, 'data/tm_wordclouds/')"
   ]
  },
  {
   "cell_type": "markdown",
   "metadata": {},
   "source": [
    "### Interactive visualization with pyLDAVis\n",
    "\n",
    "The [pyLDAVis package](https://pyldavis.readthedocs.io/) offers a great interactive tool to explore a topic model. The tmtoolkit function [parameters_for_ldavis](api.rst#tmtoolkit.topicmod.visualize.generate_wordclouds_for_document_topics) allows to prepare your topic model data for this package so that you can easily pass it on to pyLDAVis."
   ]
  },
  {
   "cell_type": "code",
   "execution_count": 68,
   "metadata": {
    "execution": {
     "iopub.execute_input": "2023-05-03T13:23:35.296657Z",
     "iopub.status.busy": "2023-05-03T13:23:35.296532Z",
     "iopub.status.idle": "2023-05-03T13:23:35.299083Z",
     "shell.execute_reply": "2023-05-03T13:23:35.298738Z"
    }
   },
   "outputs": [],
   "source": [
    "from tmtoolkit.topicmod.visualize import parameters_for_ldavis\n",
    "\n",
    "ldavis_params = parameters_for_ldavis(new_topic_word,\n",
    "                                      new_doc_topic,\n",
    "                                      dtm_bg,\n",
    "                                      vocab_bg)"
   ]
  },
  {
   "cell_type": "markdown",
   "metadata": {},
   "source": [
    "If you have installed the package, you can now start the LDAVis explorer with the following lines of code in a Jupyter notebook:\n",
    "\n",
    "    import pyLDAvis\n",
    "    pyLDAVis.prepare(**ldavis_params)"
   ]
  }
 ],
 "metadata": {
  "kernelspec": {
   "display_name": "Python 3 (ipykernel)",
   "language": "python",
   "name": "python3"
  },
  "language_info": {
   "codemirror_mode": {
    "name": "ipython",
    "version": 3
   },
   "file_extension": ".py",
   "mimetype": "text/x-python",
   "name": "python",
   "nbconvert_exporter": "python",
   "pygments_lexer": "ipython3",
   "version": "3.10.6"
  },
  "pycharm": {
   "stem_cell": {
    "cell_type": "raw",
    "metadata": {
     "collapsed": false
    },
    "source": []
   }
  }
 },
 "nbformat": 4,
 "nbformat_minor": 2
}
