{
 "cells": [
  {
   "cell_type": "markdown",
   "id": "0f3f426f",
   "metadata": {},
   "source": [
    "# Interoperability with R\n",
    "\n",
    "There are many popular R packages for text mining, topic modeling and NLP like [tm](https://cran.r-project.org/web/packages/tm/index.html) or [topicmodels](https://cran.r-project.org/web/packages/topicmodels/index.html). If for some reason you need to implement parts of your work in Python with tmtoolkit and other parts in R, you can do that quite easily.\n",
    "\n",
    "First of all, you can import and export all tabular data to and from Python using tabular data formats like CSV or Excel. See for example the sections on [tabular tokens output](preprocessing.ipynb#Accessing-tokens-and-token-attributes) or [exporting topic modeling results](topic_modeling.ipynb#Displaying-and-exporting-topic-modeling-results) and check out the [load_corpus_from_tokens_table](api.html#tmtoolkit.corpus.load_corpus_from_tokens_table) function.\n",
    "\n",
    "However, if you only want to load a document-term matrix (DTM) that you generated with tmtoolkit into R or vice versa, the most efficient way is to store this matrix along with all necessary metadata to an [RDS file](https://www.rdocumentation.org/packages/base/versions/3.6.2/topics/readRDS) as explained in the following section. \n",
    "\n",
    "<div class=\"alert alert-info\">\n",
    "    \n",
    "**Note**\n",
    "\n",
    "You will need to install tmtoolkit with the \"rinterop\" option in order to use the functions explained in this chapter: `pip install tmtoolkit[rinterop]`. This is only available since version 0.12.0.\n",
    "\n",
    "</div>\n",
    "\n",
    "\n",
    "## Saving a (sparse) document-term matrix to an RDS file\n",
    "\n",
    "A common scenario is that you used tmtoolkit for preprocessing your text corpus and generated a DTM along with document labels and the corpus vocabulary. For further processing you want to use R, e.g. for topic modeling with the *topicmodels* package. You can do so by using the [save_dtm_to_rds](api.html#tmtoolkit.bow.dtm.save_dtm_to_rds) function.\n",
    "\n",
    "First, we generate a DTM from some sample data:"
   ]
  },
  {
   "cell_type": "code",
   "execution_count": 3,
   "id": "a8a7af48",
   "metadata": {},
   "outputs": [
    {
     "name": "stdout",
     "output_type": "stream",
     "text": [
      "Corpus with 10 documents in English\n",
      "> News100-3111 (259 tokens): Civilian in DPR injured in fire from positions of ...\n",
      "> News100-2641 (1225 tokens): Muslim Artist 's Dreamy Nude Self - Portraits Show...\n",
      "> News100-2820 (595 tokens): Acclaimed Poet And Playwright Derek Walcott Dead A...\n",
      "> News100-1615 (288 tokens): Rebels return bodies of soldiers to Azerbaijan    ...\n",
      "> News100-3228 (599 tokens): Neil Gorsuch facing ' rigorous ' confirmation hear...\n",
      "> News100-2726 (499 tokens): Ashley Graham 's Boyfriends Broke Up With Her For ...\n",
      "> News100-2794 (1644 tokens): Get focus right for success    Head of Carl Zeiss ...\n",
      "> News100-2305 (622 tokens): Iraq forces hit stiff resistance in Mosul 's Old C...\n",
      "> News100-2787 (1184 tokens): French architect Le Corbusier 's foray into the Fa...\n",
      "> News100-8 (433 tokens): Iran 's Top Leader Mocks ' Newcomer ' Trump    Ira...\n",
      "total number of tokens: 7348 / vocabulary size: 2305\n"
     ]
    }
   ],
   "source": [
    "import tmtoolkit.corpus as c\n",
    "\n",
    "corp = c.Corpus.from_builtin_corpus('en-News100', sample=10)\n",
    "c.print_summary(corp)"
   ]
  },
  {
   "cell_type": "code",
   "execution_count": 4,
   "id": "cff0554b",
   "metadata": {},
   "outputs": [
    {
     "name": "stdout",
     "output_type": "stream",
     "text": [
      "Corpus with 10 documents in English\n",
      "> News100-3111 (55 tokens): civilian fire position military spokesman woman be...\n",
      "> News100-2641 (210 tokens): self power self love think i\"ve spend like life tr...\n",
      "> News100-2820 (98 tokens): dead writer powerful write write die age accord so...\n",
      "> News100-1615 (63 tokens): rebel return body government rebel trade tension c...\n",
      "> News100-3228 (110 tokens): face week president donald trump supreme court beg...\n",
      "> News100-2726 (79 tokens): break dude deal new interview people know world re...\n",
      "> News100-2794 (289 tokens): right head carl new world technology michael visio...\n",
      "> News100-2305 (127 tokens): iraq force old city home past week fighter push ci...\n",
      "> News100-2787 (210 tokens): far east michael build western art receive world s...\n",
      "> News100-8 (92 tokens): leader trump supreme leader president donald trump...\n",
      "total number of tokens: 1333 / vocabulary size: 341\n"
     ]
    }
   ],
   "source": [
    "c.lemmatize(corp)\n",
    "c.to_lowercase(corp)\n",
    "c.filter_clean_tokens(corp, remove_numbers=True)\n",
    "c.remove_common_tokens(corp, df_threshold=0.9)\n",
    "c.remove_uncommon_tokens(corp, df_threshold=0.1)\n",
    "\n",
    "c.print_summary(corp)"
   ]
  },
  {
   "cell_type": "code",
   "execution_count": 5,
   "id": "7b2fd48e",
   "metadata": {},
   "outputs": [],
   "source": [
    "dtm, doc_labels, vocab = c.dtm(corp, return_doc_labels=True, return_vocab=True)"
   ]
  },
  {
   "cell_type": "code",
   "execution_count": 7,
   "id": "16429d01",
   "metadata": {},
   "outputs": [
    {
     "name": "stdout",
     "output_type": "stream",
     "text": [
      "first 10 document labels:\n",
      "['News100-1615', 'News100-2305', 'News100-2641', 'News100-2726', 'News100-2787', 'News100-2794', 'News100-2820', 'News100-3111', 'News100-3228', 'News100-8']\n",
      "first 10 vocabulary tokens:\n",
      "['accord', 'accordance', 'accuse', 'act', 'actually', 'add', 'administration', 'afraid', 'age', 'agency']\n",
      "DTM shape:\n",
      "(10, 341)\n"
     ]
    }
   ],
   "source": [
    "print('first 10 document labels:')\n",
    "print(doc_labels[:10])\n",
    "\n",
    "print('first 10 vocabulary tokens:')\n",
    "print(vocab[:10])\n",
    "\n",
    "print('DTM shape:')\n",
    "print(dtm.shape)"
   ]
  },
  {
   "cell_type": "markdown",
   "id": "921c133b",
   "metadata": {},
   "source": [
    "The DTM is stored a sparse matrix. **It's highly recommended to use a sparse matrix representation, especially when you're working with large text corpora.**"
   ]
  },
  {
   "cell_type": "code",
   "execution_count": 8,
   "id": "2a8d8237",
   "metadata": {},
   "outputs": [
    {
     "data": {
      "text/plain": [
       "<10x341 sparse matrix of type '<class 'numpy.int32'>'\n",
       "\twith 870 stored elements in Compressed Sparse Row format>"
      ]
     },
     "execution_count": 8,
     "metadata": {},
     "output_type": "execute_result"
    }
   ],
   "source": [
    "dtm"
   ]
  },
  {
   "cell_type": "markdown",
   "id": "1ebd5feb",
   "metadata": {},
   "source": [
    "Now, we save the DTM along with the document labels and the vocabulary as sparse matrix to an RDS file, that we can load into R:"
   ]
  },
  {
   "cell_type": "code",
   "execution_count": 11,
   "id": "eba37f0a",
   "metadata": {},
   "outputs": [
    {
     "name": "stdout",
     "output_type": "stream",
     "text": [
      "saving DTM, document labels and vocabulary to file \"data/dtm.RDS\"\n"
     ]
    }
   ],
   "source": [
    "import os\n",
    "from tmtoolkit.bow.dtm import save_dtm_to_rds\n",
    "\n",
    "rds_file = os.path.join('data', 'dtm.RDS')\n",
    "print(f'saving DTM, document labels and vocabulary to file \"{rds_file}\"')\n",
    "save_dtm_to_rds(rds_file, dtm, doc_labels, vocab)\n"
   ]
  },
  {
   "cell_type": "markdown",
   "id": "adfcf6e3",
   "metadata": {},
   "source": [
    "The following R code would load this DTM from the RDS file and fit a topic model via LDA with 20 topics:\n",
    "\n",
    "```R\n",
    "library(Matrix)       # for sparseMatrix in RDS file\n",
    "library(topicmodels)  # for LDA()\n",
    "library(slam)         # for as.simple_triplet_matrix()\n",
    "\n",
    "# load data \n",
    "dtm <- readRDS('data/dtm.RDS')\n",
    "class(dtm)\n",
    "dtm  # sparse matrix with document labels as row names, vocabulary as column names\n",
    "\n",
    "# convert sparse matrix to triplet format required for LDA\n",
    "dtm <- as.simple_triplet_matrix(dtm)\n",
    "\n",
    "# fit a topic model\n",
    "topicmodel <- LDA(dtm, k = 20, method = 'Gibbs')\n",
    "\n",
    "# investigate the topics\n",
    "terms(topicmodel, 5)\n",
    "```"
   ]
  },
  {
   "cell_type": "markdown",
   "id": "3ba15ed6",
   "metadata": {},
   "source": [
    "## Load a (sparse) document-term matrix from an RDS file\n",
    "\n",
    "The opposite direction is also possible. For example, you may have preprocessed a text corpus in R and generated a (sparse) DTM along with its document labels and vocabulary. You can write this data to an RDS file and load it into Python/tmtoolkit. The following R code shows an example to generate a sparse DTM and store it to `data/dtm2.RDS`:\n",
    "\n",
    "```R\n",
    "library(Matrix)       # for sparseMatrix\n",
    "library(tm)           # for DocumentTermMatrix\n",
    "\n",
    "data(\"crude\")\n",
    "\n",
    "dtm <- DocumentTermMatrix(crude, control = list(removePunctuation = TRUE, stopwords = TRUE))\n",
    "\n",
    "dtm_out <- sparseMatrix(i = dtm$i, j = dtm$j, x = dtm$v, dims = dim(dtm),\n",
    "                        dimnames = dimnames(dtm))\n",
    "\n",
    "saveRDS(dtm_out, 'data/dtm2.RDS')\n",
    "```\n",
    "\n",
    "We can now load the DTM along with its document labels and vocabulary from this RDS file:"
   ]
  },
  {
   "cell_type": "code",
   "execution_count": 12,
   "id": "8556101e",
   "metadata": {},
   "outputs": [
    {
     "name": "stdout",
     "output_type": "stream",
     "text": [
      "loading DTM, document labels and vocabulary from file \"data/dtm2.RDS\"\n",
      "first 10 document labels:\n",
      "['127', '144', '191', '194', '211', '236', '237', '242', '246', '248']\n",
      "first 10 vocabulary tokens:\n",
      "['100000', '108', '111', '115', '12217', '1232', '1381', '13member', '13nation', '150']\n",
      "DTM shape:\n",
      "(20, 1000)\n"
     ]
    }
   ],
   "source": [
    "import os.path\n",
    "from tmtoolkit.bow.dtm import read_dtm_from_rds\n",
    "\n",
    "\n",
    "rds_file = os.path.join('data', 'dtm2.RDS')\n",
    "print(f'loading DTM, document labels and vocabulary from file \"{rds_file}\"')\n",
    "dtm, doc_labels, vocab = read_dtm_from_rds(rds_file)\n",
    "\n",
    "print('first 10 document labels:')\n",
    "print(doc_labels[:10])\n",
    "\n",
    "print('first 10 vocabulary tokens:')\n",
    "print(vocab[:10])\n",
    "\n",
    "print('DTM shape:')\n",
    "print(dtm.shape)"
   ]
  },
  {
   "cell_type": "code",
   "execution_count": 13,
   "id": "70775411",
   "metadata": {},
   "outputs": [
    {
     "data": {
      "text/plain": [
       "<20x1000 sparse matrix of type '<class 'numpy.float64'>'\n",
       "\twith 1738 stored elements in Compressed Sparse Column format>"
      ]
     },
     "execution_count": 13,
     "metadata": {},
     "output_type": "execute_result"
    }
   ],
   "source": [
    "dtm"
   ]
  },
  {
   "cell_type": "markdown",
   "id": "aac19645",
   "metadata": {},
   "source": [
    "Note that the DTM was loaded as floating point matrix, but it makes more sense to represent the term frequencies as integers, since they are essentially counts:"
   ]
  },
  {
   "cell_type": "code",
   "execution_count": 21,
   "id": "ab37a5ab",
   "metadata": {},
   "outputs": [
    {
     "data": {
      "text/plain": [
       "<20x1000 sparse matrix of type '<class 'numpy.int64'>'\n",
       "\twith 1738 stored elements in Compressed Sparse Column format>"
      ]
     },
     "execution_count": 21,
     "metadata": {},
     "output_type": "execute_result"
    }
   ],
   "source": [
    "dtm = dtm.astype('int')\n",
    "dtm"
   ]
  },
  {
   "cell_type": "markdown",
   "id": "885364d0",
   "metadata": {},
   "source": [
    "We could now further process and analyze this DTM with tmtoolkit. For example, we can display to three most frequent tokens per document:"
   ]
  },
  {
   "cell_type": "code",
   "execution_count": 22,
   "id": "00e71a85",
   "metadata": {},
   "outputs": [
    {
     "data": {
      "text/html": [
       "<div>\n",
       "<style scoped>\n",
       "    .dataframe tbody tr th:only-of-type {\n",
       "        vertical-align: middle;\n",
       "    }\n",
       "\n",
       "    .dataframe tbody tr th {\n",
       "        vertical-align: top;\n",
       "    }\n",
       "\n",
       "    .dataframe thead th {\n",
       "        text-align: right;\n",
       "    }\n",
       "</style>\n",
       "<table border=\"1\" class=\"dataframe\">\n",
       "  <thead>\n",
       "    <tr style=\"text-align: right;\">\n",
       "      <th></th>\n",
       "      <th></th>\n",
       "      <th>token</th>\n",
       "      <th>value</th>\n",
       "    </tr>\n",
       "    <tr>\n",
       "      <th>doc</th>\n",
       "      <th>rank</th>\n",
       "      <th></th>\n",
       "      <th></th>\n",
       "    </tr>\n",
       "  </thead>\n",
       "  <tbody>\n",
       "    <tr>\n",
       "      <th rowspan=\"3\" valign=\"top\">127</th>\n",
       "      <th>1</th>\n",
       "      <td>oil</td>\n",
       "      <td>5</td>\n",
       "    </tr>\n",
       "    <tr>\n",
       "      <th>2</th>\n",
       "      <td>prices</td>\n",
       "      <td>3</td>\n",
       "    </tr>\n",
       "    <tr>\n",
       "      <th>3</th>\n",
       "      <td>said</td>\n",
       "      <td>3</td>\n",
       "    </tr>\n",
       "    <tr>\n",
       "      <th rowspan=\"3\" valign=\"top\">144</th>\n",
       "      <th>1</th>\n",
       "      <td>opec</td>\n",
       "      <td>13</td>\n",
       "    </tr>\n",
       "    <tr>\n",
       "      <th>2</th>\n",
       "      <td>oil</td>\n",
       "      <td>12</td>\n",
       "    </tr>\n",
       "    <tr>\n",
       "      <th>3</th>\n",
       "      <td>said</td>\n",
       "      <td>11</td>\n",
       "    </tr>\n",
       "    <tr>\n",
       "      <th rowspan=\"3\" valign=\"top\">191</th>\n",
       "      <th>1</th>\n",
       "      <td>canadian</td>\n",
       "      <td>2</td>\n",
       "    </tr>\n",
       "    <tr>\n",
       "      <th>2</th>\n",
       "      <td>texaco</td>\n",
       "      <td>2</td>\n",
       "    </tr>\n",
       "    <tr>\n",
       "      <th>3</th>\n",
       "      <td>crude</td>\n",
       "      <td>2</td>\n",
       "    </tr>\n",
       "    <tr>\n",
       "      <th rowspan=\"3\" valign=\"top\">194</th>\n",
       "      <th>1</th>\n",
       "      <td>crude</td>\n",
       "      <td>3</td>\n",
       "    </tr>\n",
       "    <tr>\n",
       "      <th>2</th>\n",
       "      <td>price</td>\n",
       "      <td>2</td>\n",
       "    </tr>\n",
       "    <tr>\n",
       "      <th>3</th>\n",
       "      <td>west</td>\n",
       "      <td>2</td>\n",
       "    </tr>\n",
       "    <tr>\n",
       "      <th rowspan=\"3\" valign=\"top\">211</th>\n",
       "      <th>1</th>\n",
       "      <td>said</td>\n",
       "      <td>3</td>\n",
       "    </tr>\n",
       "    <tr>\n",
       "      <th>2</th>\n",
       "      <td>estimates</td>\n",
       "      <td>2</td>\n",
       "    </tr>\n",
       "    <tr>\n",
       "      <th>3</th>\n",
       "      <td>trust</td>\n",
       "      <td>2</td>\n",
       "    </tr>\n",
       "  </tbody>\n",
       "</table>\n",
       "</div>"
      ],
      "text/plain": [
       "              token  value\n",
       "doc rank                  \n",
       "127 1           oil      5\n",
       "    2        prices      3\n",
       "    3          said      3\n",
       "144 1          opec     13\n",
       "    2           oil     12\n",
       "    3          said     11\n",
       "191 1      canadian      2\n",
       "    2        texaco      2\n",
       "    3         crude      2\n",
       "194 1         crude      3\n",
       "    2         price      2\n",
       "    3          west      2\n",
       "211 1          said      3\n",
       "    2     estimates      2\n",
       "    3         trust      2"
      ]
     },
     "execution_count": 22,
     "metadata": {},
     "output_type": "execute_result"
    }
   ],
   "source": [
    "from tmtoolkit.bow.bow_stats import sorted_terms_table\n",
    "\n",
    "# selecting only the first 5 documents\n",
    "sorted_terms_table(dtm[:5, :], vocab=vocab, doc_labels=doc_labels[:5], top_n=3)"
   ]
  }
 ],
 "metadata": {
  "kernelspec": {
   "display_name": "Python 3 (ipykernel)",
   "language": "python",
   "name": "python3"
  },
  "language_info": {
   "codemirror_mode": {
    "name": "ipython",
    "version": 3
   },
   "file_extension": ".py",
   "mimetype": "text/x-python",
   "name": "python",
   "nbconvert_exporter": "python",
   "pygments_lexer": "ipython3",
   "version": "3.10.6"
  }
 },
 "nbformat": 4,
 "nbformat_minor": 5
}
