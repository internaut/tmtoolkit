{
 "cells": [
  {
   "cell_type": "markdown",
   "id": "0f3f426f",
   "metadata": {},
   "source": [
    "# Interoperability with R\n",
    "\n",
    "There are many popular R packages for text mining, topic modeling and NLP like [tm](https://cran.r-project.org/web/packages/tm/index.html) or [topicmodels](https://cran.r-project.org/web/packages/topicmodels/index.html). If for some reason you need to implement parts of your work in Python with tmtoolkit and other parts in R, you can do that quite easily.\n",
    "\n",
    "First of all, you can import and export all tabular data to and from Python using tabular data formats like CSV or Excel. See for example the sections on [tabular tokens output](preprocessing.ipynb#Accessing-tokens-and-token-attributes) or [exporting topic modeling results](topic_modeling.ipynb#Displaying-and-exporting-topic-modeling-results) and check out the [load_corpus_from_tokens_table](api.rst#tmtoolkit.corpus.load_corpus_from_tokens_table) function.\n",
    "\n",
    "However, if you only want to load a document-term matrix (DTM) that you generated with tmtoolkit into R or vice versa, the most efficient way is to store this matrix along with all necessary metadata to an [RDS file](https://www.rdocumentation.org/packages/base/versions/3.6.2/topics/readRDS) as explained in the following section. \n",
    "\n",
    "<div class=\"alert alert-info\">\n",
    "    \n",
    "**Note**\n",
    "\n",
    "You will need to install tmtoolkit with the \"rinterop\" option in order to use the functions explained in this chapter: `pip install tmtoolkit[rinterop]`. This is only available since version 0.12.0.\n",
    "\n",
    "</div>\n",
    "\n",
    "\n",
    "## Saving a (sparse) document-term matrix to an RDS file\n",
    "\n",
    "A common scenario is that you used tmtoolkit for preprocessing your text corpus and generated a DTM along with document labels and the corpus vocabulary. For further processing you want to use R, e.g. for topic modeling with the *topicmodels* package. You can do so by using the [save_dtm_to_rds](api.rst#tmtoolkit.bow.dtm.save_dtm_to_rds) function.\n",
    "\n",
    "First, we generate a DTM from some sample data:"
   ]
  },
  {
   "cell_type": "code",
   "execution_count": 1,
   "id": "a8a7af48",
   "metadata": {
    "execution": {
     "iopub.execute_input": "2023-05-03T13:22:59.398859Z",
     "iopub.status.busy": "2023-05-03T13:22:59.398600Z",
     "iopub.status.idle": "2023-05-03T13:23:01.231729Z",
     "shell.execute_reply": "2023-05-03T13:23:01.231207Z"
    }
   },
   "outputs": [
    {
     "name": "stdout",
     "output_type": "stream",
     "text": [
      "Corpus with 10 documents in English\n",
      "> News100-3088 (306 tokens): Rose McGowan Seeking Help From Department Of Justi...\n",
      "> News100-3160 (160 tokens): SpaceX capsule returns space station science to Ea...\n",
      "> News100-3232 (159 tokens): Assad ally Russia summons Israeli diplomat over Sy...\n",
      "> News100-3687 (240 tokens): FitzPatrick trial now expected to conclude in May ...\n",
      "> News100-2510 (366 tokens): Murder trial told victim suffered nine blows to he...\n",
      "> News100-2462 (124 tokens): US Federal Reserve System raises base interest rat...\n",
      "> News100-3575 (328 tokens): Cyclone Debbie makes landfall with destructive win...\n",
      "> News100-755 (768 tokens): World Cup 2026 : Uefa will ask for 16 places for E...\n",
      "> News100-161 (165 tokens): Syrian army gaining ground in effort to re - take ...\n",
      "> News100-2338 (680 tokens): ' This Is Us ' Makes Surprising Reveal About Jack ...\n",
      "total number of tokens: 3296 / vocabulary size: 1244\n"
     ]
    }
   ],
   "source": [
    "import tmtoolkit.corpus as c\n",
    "\n",
    "corp = c.Corpus.from_builtin_corpus('en-News100', sample=10)\n",
    "c.print_summary(corp)"
   ]
  },
  {
   "cell_type": "code",
   "execution_count": 2,
   "id": "cff0554b",
   "metadata": {
    "execution": {
     "iopub.execute_input": "2023-05-03T13:23:01.233477Z",
     "iopub.status.busy": "2023-05-03T13:23:01.233374Z",
     "iopub.status.idle": "2023-05-03T13:23:01.244603Z",
     "shell.execute_reply": "2023-05-03T13:23:01.244248Z"
    }
   },
   "outputs": [
    {
     "name": "stdout",
     "output_type": "stream",
     "text": [
      "Corpus with 10 documents in English\n",
      "> News100-3088 (38 tokens): send group online take situation report tape onlin...\n",
      "> News100-3160 (19 tokens): return space space sunday coast set international ...\n",
      "> News100-3232 (21 tokens): strike say moscow week syrian force syrian preside...\n",
      "> News100-3687 (41 tokens): trial expect conclude trial bank return court expe...\n",
      "> News100-2510 (50 tokens): trial tell victim blow die force central criminal ...\n",
      "> News100-2462 (13 tokens): expect /tass/. central bank point open committee s...\n",
      "> News100-3575 (47 tokens): make great report area go begin cross state coast ...\n",
      "> News100-755 (80 tokens): ask time share ask give expand new look begin grou...\n",
      "> News100-161 (25 tokens): syrian army effort moscow /tass/. syrian army way ...\n",
      "> News100-2338 (82 tokens): make reveal tuesday night fan wait new set learn d...\n",
      "total number of tokens: 416 / vocabulary size: 124\n"
     ]
    }
   ],
   "source": [
    "c.lemmatize(corp)\n",
    "c.to_lowercase(corp)\n",
    "c.filter_clean_tokens(corp, remove_numbers=True)\n",
    "c.remove_common_tokens(corp, df_threshold=0.9)\n",
    "c.remove_uncommon_tokens(corp, df_threshold=0.1)\n",
    "\n",
    "c.print_summary(corp)"
   ]
  },
  {
   "cell_type": "code",
   "execution_count": 3,
   "id": "7b2fd48e",
   "metadata": {
    "execution": {
     "iopub.execute_input": "2023-05-03T13:23:01.245909Z",
     "iopub.status.busy": "2023-05-03T13:23:01.245818Z",
     "iopub.status.idle": "2023-05-03T13:23:01.249231Z",
     "shell.execute_reply": "2023-05-03T13:23:01.248880Z"
    }
   },
   "outputs": [],
   "source": [
    "dtm, doc_labels, vocab = c.dtm(corp, return_doc_labels=True, return_vocab=True)"
   ]
  },
  {
   "cell_type": "code",
   "execution_count": 4,
   "id": "16429d01",
   "metadata": {
    "execution": {
     "iopub.execute_input": "2023-05-03T13:23:01.250625Z",
     "iopub.status.busy": "2023-05-03T13:23:01.250532Z",
     "iopub.status.idle": "2023-05-03T13:23:01.252841Z",
     "shell.execute_reply": "2023-05-03T13:23:01.252504Z"
    }
   },
   "outputs": [
    {
     "name": "stdout",
     "output_type": "stream",
     "text": [
      "first 10 document labels:\n",
      "['News100-161', 'News100-2338', 'News100-2462', 'News100-2510', 'News100-3088', 'News100-3160', 'News100-3232', 'News100-3575', 'News100-3687', 'News100-755']\n",
      "first 10 vocabulary tokens:\n",
      "['/tass/.', 'agency', 'ago', 'allow', 'area', 'army', 'ask', 'authority', 'away', 'bank']\n",
      "DTM shape:\n",
      "(10, 124)\n"
     ]
    }
   ],
   "source": [
    "print('first 10 document labels:')\n",
    "print(doc_labels[:10])\n",
    "\n",
    "print('first 10 vocabulary tokens:')\n",
    "print(vocab[:10])\n",
    "\n",
    "print('DTM shape:')\n",
    "print(dtm.shape)"
   ]
  },
  {
   "cell_type": "markdown",
   "id": "921c133b",
   "metadata": {},
   "source": [
    "The DTM is stored a sparse matrix. **It's highly recommended to use a sparse matrix representation, especially when you're working with large text corpora.**"
   ]
  },
  {
   "cell_type": "code",
   "execution_count": 5,
   "id": "2a8d8237",
   "metadata": {
    "execution": {
     "iopub.execute_input": "2023-05-03T13:23:01.254258Z",
     "iopub.status.busy": "2023-05-03T13:23:01.254173Z",
     "iopub.status.idle": "2023-05-03T13:23:01.257424Z",
     "shell.execute_reply": "2023-05-03T13:23:01.257100Z"
    }
   },
   "outputs": [
    {
     "data": {
      "text/plain": [
       "<10x124 sparse matrix of type '<class 'numpy.int32'>'\n",
       "\twith 291 stored elements in Compressed Sparse Row format>"
      ]
     },
     "execution_count": 5,
     "metadata": {},
     "output_type": "execute_result"
    }
   ],
   "source": [
    "dtm"
   ]
  },
  {
   "cell_type": "markdown",
   "id": "1ebd5feb",
   "metadata": {},
   "source": [
    "Now, we save the DTM along with the document labels and the vocabulary as sparse matrix to an RDS file, that we can load into R:"
   ]
  },
  {
   "cell_type": "code",
   "execution_count": 6,
   "id": "eba37f0a",
   "metadata": {
    "execution": {
     "iopub.execute_input": "2023-05-03T13:23:01.258798Z",
     "iopub.status.busy": "2023-05-03T13:23:01.258713Z",
     "iopub.status.idle": "2023-05-03T13:23:01.275184Z",
     "shell.execute_reply": "2023-05-03T13:23:01.274648Z"
    }
   },
   "outputs": [
    {
     "name": "stdout",
     "output_type": "stream",
     "text": [
      "saving DTM, document labels and vocabulary to file \"data/dtm.RDS\"\n"
     ]
    }
   ],
   "source": [
    "import os\n",
    "from tmtoolkit.bow.dtm import save_dtm_to_rds\n",
    "\n",
    "rds_file = os.path.join('data', 'dtm.RDS')\n",
    "print(f'saving DTM, document labels and vocabulary to file \"{rds_file}\"')\n",
    "save_dtm_to_rds(rds_file, dtm, doc_labels, vocab)\n"
   ]
  },
  {
   "cell_type": "markdown",
   "id": "adfcf6e3",
   "metadata": {},
   "source": [
    "The following R code would load this DTM from the RDS file and fit a topic model via LDA with 20 topics:\n",
    "\n",
    "```R\n",
    "library(Matrix)       # for sparseMatrix in RDS file\n",
    "library(topicmodels)  # for LDA()\n",
    "library(slam)         # for as.simple_triplet_matrix()\n",
    "\n",
    "# load data \n",
    "dtm <- readRDS('data/dtm.RDS')\n",
    "class(dtm)\n",
    "dtm  # sparse matrix with document labels as row names, vocabulary as column names\n",
    "\n",
    "# convert sparse matrix to triplet format required for LDA\n",
    "dtm <- as.simple_triplet_matrix(dtm)\n",
    "\n",
    "# fit a topic model\n",
    "topicmodel <- LDA(dtm, k = 20, method = 'Gibbs')\n",
    "\n",
    "# investigate the topics\n",
    "terms(topicmodel, 5)\n",
    "```"
   ]
  },
  {
   "cell_type": "markdown",
   "id": "3ba15ed6",
   "metadata": {},
   "source": [
    "## Load a (sparse) document-term matrix from an RDS file\n",
    "\n",
    "The opposite direction is also possible. For example, you may have preprocessed a text corpus in R and generated a (sparse) DTM along with its document labels and vocabulary. You can write this data to an RDS file and load it into Python/tmtoolkit. The following R code shows an example to generate a sparse DTM and store it to `data/dtm2.RDS`:\n",
    "\n",
    "```R\n",
    "library(Matrix)       # for sparseMatrix\n",
    "library(tm)           # for DocumentTermMatrix\n",
    "\n",
    "data(\"crude\")\n",
    "\n",
    "dtm <- DocumentTermMatrix(crude, control = list(removePunctuation = TRUE, stopwords = TRUE))\n",
    "\n",
    "dtm_out <- sparseMatrix(i = dtm$i, j = dtm$j, x = dtm$v, dims = dim(dtm),\n",
    "                        dimnames = dimnames(dtm))\n",
    "\n",
    "saveRDS(dtm_out, 'data/dtm2.RDS')\n",
    "```\n",
    "\n",
    "We can now load the DTM along with its document labels and vocabulary from this RDS file:"
   ]
  },
  {
   "cell_type": "code",
   "execution_count": 7,
   "id": "8556101e",
   "metadata": {
    "execution": {
     "iopub.execute_input": "2023-05-03T13:23:01.276846Z",
     "iopub.status.busy": "2023-05-03T13:23:01.276747Z",
     "iopub.status.idle": "2023-05-03T13:23:01.282645Z",
     "shell.execute_reply": "2023-05-03T13:23:01.282144Z"
    }
   },
   "outputs": [
    {
     "name": "stdout",
     "output_type": "stream",
     "text": [
      "loading DTM, document labels and vocabulary from file \"data/dtm2.RDS\"\n",
      "first 10 document labels:\n",
      "['127', '144', '191', '194', '211', '236', '237', '242', '246', '248']\n",
      "first 10 vocabulary tokens:\n",
      "['100000', '108', '111', '115', '12217', '1232', '1381', '13member', '13nation', '150']\n",
      "DTM shape:\n",
      "(20, 1000)\n"
     ]
    }
   ],
   "source": [
    "import os.path\n",
    "from tmtoolkit.bow.dtm import read_dtm_from_rds\n",
    "\n",
    "\n",
    "rds_file = os.path.join('data', 'dtm2.RDS')\n",
    "print(f'loading DTM, document labels and vocabulary from file \"{rds_file}\"')\n",
    "dtm, doc_labels, vocab = read_dtm_from_rds(rds_file)\n",
    "\n",
    "print('first 10 document labels:')\n",
    "print(doc_labels[:10])\n",
    "\n",
    "print('first 10 vocabulary tokens:')\n",
    "print(vocab[:10])\n",
    "\n",
    "print('DTM shape:')\n",
    "print(dtm.shape)"
   ]
  },
  {
   "cell_type": "code",
   "execution_count": 8,
   "id": "70775411",
   "metadata": {
    "execution": {
     "iopub.execute_input": "2023-05-03T13:23:01.284035Z",
     "iopub.status.busy": "2023-05-03T13:23:01.283914Z",
     "iopub.status.idle": "2023-05-03T13:23:01.286449Z",
     "shell.execute_reply": "2023-05-03T13:23:01.286151Z"
    }
   },
   "outputs": [
    {
     "data": {
      "text/plain": [
       "<20x1000 sparse matrix of type '<class 'numpy.float64'>'\n",
       "\twith 1738 stored elements in Compressed Sparse Column format>"
      ]
     },
     "execution_count": 8,
     "metadata": {},
     "output_type": "execute_result"
    }
   ],
   "source": [
    "dtm"
   ]
  },
  {
   "cell_type": "markdown",
   "id": "aac19645",
   "metadata": {},
   "source": [
    "Note that the DTM was loaded as floating point matrix, but it makes more sense to represent the term frequencies as integers, since they are essentially counts:"
   ]
  },
  {
   "cell_type": "code",
   "execution_count": 9,
   "id": "ab37a5ab",
   "metadata": {
    "execution": {
     "iopub.execute_input": "2023-05-03T13:23:01.287620Z",
     "iopub.status.busy": "2023-05-03T13:23:01.287498Z",
     "iopub.status.idle": "2023-05-03T13:23:01.290063Z",
     "shell.execute_reply": "2023-05-03T13:23:01.289768Z"
    }
   },
   "outputs": [
    {
     "data": {
      "text/plain": [
       "<20x1000 sparse matrix of type '<class 'numpy.int64'>'\n",
       "\twith 1738 stored elements in Compressed Sparse Column format>"
      ]
     },
     "execution_count": 9,
     "metadata": {},
     "output_type": "execute_result"
    }
   ],
   "source": [
    "dtm = dtm.astype('int')\n",
    "dtm"
   ]
  },
  {
   "cell_type": "markdown",
   "id": "885364d0",
   "metadata": {},
   "source": [
    "We could now further process and analyze this DTM with tmtoolkit. For example, we can display to three most frequent tokens per document:"
   ]
  },
  {
   "cell_type": "code",
   "execution_count": 10,
   "id": "00e71a85",
   "metadata": {
    "execution": {
     "iopub.execute_input": "2023-05-03T13:23:01.291356Z",
     "iopub.status.busy": "2023-05-03T13:23:01.291252Z",
     "iopub.status.idle": "2023-05-03T13:23:01.299809Z",
     "shell.execute_reply": "2023-05-03T13:23:01.299447Z"
    }
   },
   "outputs": [
    {
     "data": {
      "text/html": [
       "<div>\n",
       "<style scoped>\n",
       "    .dataframe tbody tr th:only-of-type {\n",
       "        vertical-align: middle;\n",
       "    }\n",
       "\n",
       "    .dataframe tbody tr th {\n",
       "        vertical-align: top;\n",
       "    }\n",
       "\n",
       "    .dataframe thead th {\n",
       "        text-align: right;\n",
       "    }\n",
       "</style>\n",
       "<table border=\"1\" class=\"dataframe\">\n",
       "  <thead>\n",
       "    <tr style=\"text-align: right;\">\n",
       "      <th></th>\n",
       "      <th></th>\n",
       "      <th>token</th>\n",
       "      <th>value</th>\n",
       "    </tr>\n",
       "    <tr>\n",
       "      <th>doc</th>\n",
       "      <th>rank</th>\n",
       "      <th></th>\n",
       "      <th></th>\n",
       "    </tr>\n",
       "  </thead>\n",
       "  <tbody>\n",
       "    <tr>\n",
       "      <th rowspan=\"3\" valign=\"top\">127</th>\n",
       "      <th>1</th>\n",
       "      <td>oil</td>\n",
       "      <td>5</td>\n",
       "    </tr>\n",
       "    <tr>\n",
       "      <th>2</th>\n",
       "      <td>prices</td>\n",
       "      <td>3</td>\n",
       "    </tr>\n",
       "    <tr>\n",
       "      <th>3</th>\n",
       "      <td>said</td>\n",
       "      <td>3</td>\n",
       "    </tr>\n",
       "    <tr>\n",
       "      <th rowspan=\"3\" valign=\"top\">144</th>\n",
       "      <th>1</th>\n",
       "      <td>opec</td>\n",
       "      <td>13</td>\n",
       "    </tr>\n",
       "    <tr>\n",
       "      <th>2</th>\n",
       "      <td>oil</td>\n",
       "      <td>12</td>\n",
       "    </tr>\n",
       "    <tr>\n",
       "      <th>3</th>\n",
       "      <td>said</td>\n",
       "      <td>11</td>\n",
       "    </tr>\n",
       "    <tr>\n",
       "      <th rowspan=\"3\" valign=\"top\">191</th>\n",
       "      <th>1</th>\n",
       "      <td>canadian</td>\n",
       "      <td>2</td>\n",
       "    </tr>\n",
       "    <tr>\n",
       "      <th>2</th>\n",
       "      <td>texaco</td>\n",
       "      <td>2</td>\n",
       "    </tr>\n",
       "    <tr>\n",
       "      <th>3</th>\n",
       "      <td>crude</td>\n",
       "      <td>2</td>\n",
       "    </tr>\n",
       "    <tr>\n",
       "      <th rowspan=\"3\" valign=\"top\">194</th>\n",
       "      <th>1</th>\n",
       "      <td>crude</td>\n",
       "      <td>3</td>\n",
       "    </tr>\n",
       "    <tr>\n",
       "      <th>2</th>\n",
       "      <td>price</td>\n",
       "      <td>2</td>\n",
       "    </tr>\n",
       "    <tr>\n",
       "      <th>3</th>\n",
       "      <td>west</td>\n",
       "      <td>2</td>\n",
       "    </tr>\n",
       "    <tr>\n",
       "      <th rowspan=\"3\" valign=\"top\">211</th>\n",
       "      <th>1</th>\n",
       "      <td>said</td>\n",
       "      <td>3</td>\n",
       "    </tr>\n",
       "    <tr>\n",
       "      <th>2</th>\n",
       "      <td>estimates</td>\n",
       "      <td>2</td>\n",
       "    </tr>\n",
       "    <tr>\n",
       "      <th>3</th>\n",
       "      <td>trust</td>\n",
       "      <td>2</td>\n",
       "    </tr>\n",
       "  </tbody>\n",
       "</table>\n",
       "</div>"
      ],
      "text/plain": [
       "              token  value\n",
       "doc rank                  \n",
       "127 1           oil      5\n",
       "    2        prices      3\n",
       "    3          said      3\n",
       "144 1          opec     13\n",
       "    2           oil     12\n",
       "    3          said     11\n",
       "191 1      canadian      2\n",
       "    2        texaco      2\n",
       "    3         crude      2\n",
       "194 1         crude      3\n",
       "    2         price      2\n",
       "    3          west      2\n",
       "211 1          said      3\n",
       "    2     estimates      2\n",
       "    3         trust      2"
      ]
     },
     "execution_count": 10,
     "metadata": {},
     "output_type": "execute_result"
    }
   ],
   "source": [
    "from tmtoolkit.bow.bow_stats import sorted_terms_table\n",
    "\n",
    "# selecting only the first 5 documents\n",
    "sorted_terms_table(dtm[:5, :], vocab=vocab, doc_labels=doc_labels[:5], top_n=3)"
   ]
  }
 ],
 "metadata": {
  "kernelspec": {
   "display_name": "Python 3 (ipykernel)",
   "language": "python",
   "name": "python3"
  },
  "language_info": {
   "codemirror_mode": {
    "name": "ipython",
    "version": 3
   },
   "file_extension": ".py",
   "mimetype": "text/x-python",
   "name": "python",
   "nbconvert_exporter": "python",
   "pygments_lexer": "ipython3",
   "version": "3.10.6"
  }
 },
 "nbformat": 4,
 "nbformat_minor": 5
}
